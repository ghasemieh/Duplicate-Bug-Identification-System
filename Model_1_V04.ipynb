{
  "nbformat": 4,
  "nbformat_minor": 0,
  "metadata": {
    "colab": {
      "name": "Model-1_V04.ipynb",
      "provenance": [],
      "collapsed_sections": [],
      "include_colab_link": true
    },
    "kernelspec": {
      "display_name": "Python 3",
      "language": "python",
      "name": "python3"
    },
    "language_info": {
      "codemirror_mode": {
        "name": "ipython",
        "version": 3
      },
      "file_extension": ".py",
      "mimetype": "text/x-python",
      "name": "python",
      "nbconvert_exporter": "python",
      "pygments_lexer": "ipython3",
      "version": "3.7.4"
    }
  },
  "cells": [
    {
      "cell_type": "markdown",
      "metadata": {
        "id": "view-in-github",
        "colab_type": "text"
      },
      "source": [
        "<a href=\"https://colab.research.google.com/github/ghasemieh/Duplicate-Bug-Identification-System/blob/master/Model_1_V04.ipynb\" target=\"_parent\"><img src=\"https://colab.research.google.com/assets/colab-badge.svg\" alt=\"Open In Colab\"/></a>"
      ]
    },
    {
      "cell_type": "code",
      "metadata": {
        "colab_type": "code",
        "id": "2OHHmqSI6H62",
        "colab": {}
      },
      "source": [
        "# Model-1-V4\n",
        "# - Load data set\n",
        "# - Remove NaN in short_desc\n",
        "# - Convert to lowercase\n",
        "# - Split the words using 1. ASCII character identification for english 2. Split by Space  3. wordninja\n",
        "# - Apply normlise\n",
        "# - Apply contractions/expansions \n",
        "# - Remove punctuations\n",
        "# - remove tags.\n",
        "# - remove special characters and digits.\n",
        "# - Stemming/Lemmatisation. \n",
        "# - Prepare the whole data set\n",
        "# - Calculate the similarity between every two bugreport for the same product"
      ],
      "execution_count": 0,
      "outputs": []
    },
    {
      "cell_type": "code",
      "metadata": {
        "colab_type": "code",
        "id": "SE3nFMwg6XEB",
        "colab": {}
      },
      "source": [
        "import numpy as np\n",
        "import pandas as pd\n",
        "import warnings\n",
        "warnings.filterwarnings('ignore')"
      ],
      "execution_count": 0,
      "outputs": []
    },
    {
      "cell_type": "code",
      "metadata": {
        "colab_type": "code",
        "id": "2DH0GHXC6cQv",
        "colab": {}
      },
      "source": [
        "data = pd.read_csv('https://zenodo.org/record/400614/files/apache.csv?download=1',sep=',')"
      ],
      "execution_count": 0,
      "outputs": []
    },
    {
      "cell_type": "code",
      "metadata": {
        "id": "wXjCbNbHAJE6",
        "colab_type": "code",
        "colab": {}
      },
      "source": [
        "#Problem in reading csv file, cut the short_desc after 88th character\n",
        "# print(data.iloc[[124]]['short_desc'])"
      ],
      "execution_count": 0,
      "outputs": []
    },
    {
      "cell_type": "code",
      "metadata": {
        "colab_type": "code",
        "id": "s2YFEE0I6xDi",
        "colab": {}
      },
      "source": [
        "# data.head()"
      ],
      "execution_count": 0,
      "outputs": []
    },
    {
      "cell_type": "code",
      "metadata": {
        "colab_type": "code",
        "id": "B_bfdghVNWRk",
        "outputId": "ff167a96-c57e-435b-87d4-dd1df9e57bab",
        "colab": {
          "base_uri": "https://localhost:8080/",
          "height": 196
        }
      },
      "source": [
        "data = data[['id','product','short_desc','dup_list']]\n",
        "data.head()"
      ],
      "execution_count": 0,
      "outputs": [
        {
          "output_type": "execute_result",
          "data": {
            "text/html": [
              "<div>\n",
              "<style scoped>\n",
              "    .dataframe tbody tr th:only-of-type {\n",
              "        vertical-align: middle;\n",
              "    }\n",
              "\n",
              "    .dataframe tbody tr th {\n",
              "        vertical-align: top;\n",
              "    }\n",
              "\n",
              "    .dataframe thead th {\n",
              "        text-align: right;\n",
              "    }\n",
              "</style>\n",
              "<table border=\"1\" class=\"dataframe\">\n",
              "  <thead>\n",
              "    <tr style=\"text-align: right;\">\n",
              "      <th></th>\n",
              "      <th>id</th>\n",
              "      <th>product</th>\n",
              "      <th>short_desc</th>\n",
              "      <th>dup_list</th>\n",
              "    </tr>\n",
              "  </thead>\n",
              "  <tbody>\n",
              "    <tr>\n",
              "      <td>0</td>\n",
              "      <td>2</td>\n",
              "      <td>Log4j -</td>\n",
              "      <td>Just testing the Boogzeela setup for log4j</td>\n",
              "      <td>NaN</td>\n",
              "    </tr>\n",
              "    <tr>\n",
              "      <td>1</td>\n",
              "      <td>3</td>\n",
              "      <td>Log4j -</td>\n",
              "      <td>file sharing</td>\n",
              "      <td>NaN</td>\n",
              "    </tr>\n",
              "    <tr>\n",
              "      <td>2</td>\n",
              "      <td>22</td>\n",
              "      <td>Apache h</td>\n",
              "      <td>Need hooks for user-defined error handling</td>\n",
              "      <td>NaN</td>\n",
              "    </tr>\n",
              "    <tr>\n",
              "      <td>3</td>\n",
              "      <td>27</td>\n",
              "      <td>Log4j -</td>\n",
              "      <td>Error in the formatting of the (%F:%L) layout ...</td>\n",
              "      <td>NaN</td>\n",
              "    </tr>\n",
              "    <tr>\n",
              "      <td>4</td>\n",
              "      <td>29</td>\n",
              "      <td>Log4j -</td>\n",
              "      <td>Calling Category.error(Object, Throwable) thro...</td>\n",
              "      <td>NaN</td>\n",
              "    </tr>\n",
              "  </tbody>\n",
              "</table>\n",
              "</div>"
            ],
            "text/plain": [
              "   id   product                                         short_desc dup_list\n",
              "0   2   Log4j -         Just testing the Boogzeela setup for log4j      NaN\n",
              "1   3   Log4j -                                       file sharing      NaN\n",
              "2  22  Apache h         Need hooks for user-defined error handling      NaN\n",
              "3  27   Log4j -  Error in the formatting of the (%F:%L) layout ...      NaN\n",
              "4  29   Log4j -  Calling Category.error(Object, Throwable) thro...      NaN"
            ]
          },
          "metadata": {
            "tags": []
          },
          "execution_count": 6
        }
      ]
    },
    {
      "cell_type": "code",
      "metadata": {
        "colab_type": "code",
        "id": "Hdo7ksWKBANr",
        "colab": {}
      },
      "source": [
        "# Remove Blank Records\n",
        "def remove_nan(df):\n",
        "    print('Before Removing the NA:') \n",
        "    print(df.isnull().sum())\n",
        "    blanks = []\n",
        "\n",
        "    for index,id,product,short_desc,dup_list in data.itertuples():\n",
        "        if type(short_desc)==str:\n",
        "            if short_desc.isspace():\n",
        "                blanks.append(index)\n",
        "        else:\n",
        "            blanks.append(index) \n",
        "    data.drop(blanks,inplace=True)\n",
        "    \n",
        "    return data.isnull().sum()"
      ],
      "execution_count": 0,
      "outputs": []
    },
    {
      "cell_type": "code",
      "metadata": {
        "id": "Hh89TeiqAJFh",
        "colab_type": "code",
        "colab": {},
        "outputId": "2f9b512e-b23e-4f99-e9f8-9889a4332e7b"
      },
      "source": [
        "remove_nan(data)"
      ],
      "execution_count": 0,
      "outputs": [
        {
          "output_type": "stream",
          "text": [
            "Before Removing the NA:\n",
            "id                0\n",
            "product           0\n",
            "short_desc       58\n",
            "dup_list      41531\n",
            "dtype: int64\n"
          ],
          "name": "stdout"
        },
        {
          "output_type": "execute_result",
          "data": {
            "text/plain": [
              "id                0\n",
              "product           0\n",
              "short_desc        0\n",
              "dup_list      41474\n",
              "dtype: int64"
            ]
          },
          "metadata": {
            "tags": []
          },
          "execution_count": 8
        }
      ]
    },
    {
      "cell_type": "code",
      "metadata": {
        "colab_type": "code",
        "id": "0vbHfZFrs_Ab",
        "colab": {}
      },
      "source": [
        "# conda install -c conda-forge spacy\n",
        "# !pip install wordninja\n",
        "# !pip install normalise\n",
        "# !pip install pycontractions\n",
        "# conda install -c conda-forge spacy-lookups-data\n",
        "# !python -m spacy download en_core_web_lg"
      ],
      "execution_count": 0,
      "outputs": []
    },
    {
      "cell_type": "code",
      "metadata": {
        "colab_type": "code",
        "id": "JGomxQMNLrp9",
        "colab": {}
      },
      "source": [
        "import spacy\n",
        "from spacy import displacy\n",
        "nlp = spacy.load('en_core_web_lg')\n",
        "import nltk\n",
        "# nltk.download('brown')\n",
        "# nltk.download('names')\n",
        "# nltk.download('wordnet')\n",
        "# nltk.download('averaged_perceptron_tagger')\n",
        "# nltk.download('universal_tagset')\n",
        "import wordninja as nj #for spliting the words in each documents\n",
        "import normalise as ns \n",
        "from pycontractions import Contractions # for expansion and contrations\n",
        "import contractions\n",
        "import re # remove tags.\n",
        "\n",
        "def preprocessing(df,id):\n",
        "    # Extract and convert short_desc to string\n",
        "    row = df[df['id'] == int(id)]                                # Extract a tuple from the dataframe\n",
        "    short_desc_to_string = row.short_desc.to_string(index=False) # Conver short_desc to string\n",
        "    short_desc_to_string = short_desc_to_string[1:]              # Remove the first space char from the begnning\n",
        "\n",
        "#     my_short_desc_to_string = \"I'd liked to said <pclass='test'> CANADAisn't Alireza@gmail.com the worst-countries in the 44 world!!!\"\n",
        "#     print(\"Original:\\n\" + my_short_desc_to_string)\n",
        "    \n",
        "    # Convert to lowercase\n",
        "    short_desc_lowercase = short_desc_to_string.lower()\n",
        "#     print(\"\\nshort_desc_lowercase:\\n\" + short_desc_lowercase)\n",
        "    \n",
        "    # Split the words using 1. ASCII character identification for english 2. Split by Space  3. wordninja\n",
        "    short_desc_splited = nj.split(short_desc_lowercase)\n",
        "#     print(\"\\nshort_desc_splited:\\n\" + str(short_desc_splited))\n",
        "    \n",
        "    # Apply normlise\n",
        "    short_desc_normalised = ns.normalise(short_desc_splited,verbose=False)\n",
        "    short_desc_normalised_listToStr = ' '.join(map(str, short_desc_normalised))\n",
        "    \n",
        "#     print(\"\\nshort_desc_normalised:\\n\" + short_desc_normalised_listToStr)\n",
        "    \n",
        "    # Apply contractions/expansions \n",
        "#     cont = Contractions(api_key=\"glove-twitter-100\") #We shold use this one but it shows error \n",
        "    short_desc_contract = contractions.fix(short_desc_normalised_listToStr) \n",
        "#     print(\"\\nshort_desc_contract:\\n\" + str(short_desc_contract))\n",
        "        \n",
        "    # remove tags.\n",
        "    clean = re.compile('<.*?>')\n",
        "    short_desc_removed_tag = re.sub(clean, '', str(short_desc_contract)) \n",
        "#     print(\"\\nshort_desc_removed_tag:\\n\" + str(short_desc_removed_tag))\n",
        "    \n",
        "    # remove special characters and digits.\n",
        "    short_desc_removed_special_char = [re.sub(r\"[^a-zA-Z]+\", ' ', k) for k in str(short_desc_removed_tag).split(\"\\n\")]\n",
        "#     print(\"\\nshort_desc_removed_special_char:\\n\" + str(short_desc_removed_special_char))\n",
        "\n",
        "    # Remove Punctuations and Stop words\n",
        "    short_desc_doc = nlp(str(short_desc_removed_special_char))  \n",
        "    short_desc_map = map(lambda token: token if (token.is_punct == False and token.is_stop == False) else None, short_desc_doc)\n",
        "    short_desc_list = list(short_desc_map)        \n",
        "    \n",
        "    # Convert list to string and remove one-character word\n",
        "    short_desc_string = \"\"     \n",
        "    for element in short_desc_list:\n",
        "        if element != None and len(element)>1:\n",
        "            short_desc_string += str(element) +' '\n",
        "    short_desc_string = short_desc_string[:-1]\n",
        "#     print(\"\\nshort_desc_string-1:\\n\" + short_desc_string)\n",
        "\n",
        "#     short_desc_string2 = ' '.join(map(lambda x: str(x) if (x != None and len(x)>1) else None, short_desc_list))\n",
        "#     print(\"\\nshort_desc_string-2:\\n\" + short_desc_string2)\n",
        "            \n",
        "    # Stemming/Lemmatisation.       \n",
        "    short_desc_lemmata = [token.lemma_ for token in nlp(short_desc_string)]\n",
        "#     print(\"short_desc_lemmata:\\n\" + str(short_desc_lemmata))\n",
        "    short_desc_preprocessed = ' '.join(map(str, short_desc_lemmata))\n",
        "        \n",
        "    return short_desc_preprocessed"
      ],
      "execution_count": 0,
      "outputs": []
    },
    {
      "cell_type": "code",
      "metadata": {
        "colab_type": "code",
        "id": "CsB9wctvXbxm",
        "scrolled": false,
        "colab": {},
        "outputId": "ad16b497-3207-4d08-af77-e5227770e0ce"
      },
      "source": [
        "# Prepare the vectors for each document\n",
        "import time\n",
        "import progressbar as pb\n",
        "\n",
        "start_time = time.time()\n",
        "#sample_size = 1000 # Sample Size\n",
        "dataset_length = len(data)\n",
        "#progress = pb.ProgressBar(maxval = sample_size).start()\n",
        "progress = pb.ProgressBar(maxval = dataset_length).start()\n",
        "progvar = 0\n",
        "\n",
        "processed_data_list = []\n",
        "\n",
        "for index,id,product,short_desc,dup_list in data.itertuples():\n",
        "    string = preprocessing(data,id)\n",
        "    processed_data_list.append((id,product,nlp(string)))   \n",
        "    \n",
        "    # Show the progress in the output\n",
        "    progress.update(progvar+1)  \n",
        "    progvar += 1    \n",
        "    \n",
        "    # Terminate the process when reach to sample size\n",
        "#     if progvar >= sample_size:\n",
        "#         break\n",
        "# Convert list to dataframe\n",
        "processed_data_df = pd.DataFrame(processed_data_list, columns=['id','product','short_desc'])\n",
        "# show the time of process        \n",
        "print(\"--- %s seconds ---\" % (time.time() - start_time))  "
      ],
      "execution_count": 0,
      "outputs": [
        {
          "output_type": "stream",
          "text": [
            " 86% (37840 of 43991) |###############   | Elapsed Time: 1:02:23 ETA:   1:09:55"
          ],
          "name": "stderr"
        }
      ]
    },
    {
      "cell_type": "code",
      "metadata": {
        "id": "2akX-KVsAJGW",
        "colab_type": "code",
        "colab": {}
      },
      "source": [
        "remove_nan(processed_data_df)"
      ],
      "execution_count": 0,
      "outputs": []
    },
    {
      "cell_type": "code",
      "metadata": {
        "colab_type": "code",
        "id": "It9SV878P1JL",
        "scrolled": true,
        "colab": {}
      },
      "source": [
        "# Calculate one by one similarity score\n",
        "start_time = time.time()\n",
        "dataset_length = len(processed_data_df)\n",
        "progress = pb.ProgressBar(maxval = dataset_length).start()\n",
        "progvar = 0\n",
        "\n",
        "similarities_score_list = []\n",
        "\n",
        "for index1,id1,product1,short_desc1 in processed_data_df.itertuples():\n",
        "    for index2,id2,product2,short_desc2 in processed_data_df.itertuples():\n",
        "        if (id1 != id2) and (product1 == product2): # if two bug reports belong to the same product then check the similarity\n",
        "            similarity_score = short_desc1.similarity(short_desc2)\n",
        "            similarities_score_list.append((id1,id2,product1,similarity_score))\n",
        "            \n",
        "    # Show the progress in the output        \n",
        "    progress.update(progvar+1)  \n",
        "    progvar += 1 \n",
        "\n",
        "# Sort based on the score and conver to dataframe\n",
        "sorted_similarities_score = sorted(similarities_score_list, key=lambda tup: tup[3], reverse=True)\n",
        "similarities_score_df = pd.DataFrame(sorted_similarities_score, columns=['id1','id2','product','score'] )\n",
        "\n",
        "print(\"--- %s seconds ---\" % (time.time() - start_time)) # show the time of process"
      ],
      "execution_count": 0,
      "outputs": []
    },
    {
      "cell_type": "code",
      "metadata": {
        "colab_type": "code",
        "id": "jw08fd9KAFuA",
        "colab": {}
      },
      "source": [
        "similarities_score_df.iloc[:10]"
      ],
      "execution_count": 0,
      "outputs": []
    },
    {
      "cell_type": "markdown",
      "metadata": {
        "colab_type": "text",
        "id": "Wxg7sB7LAFuH"
      },
      "source": [
        "**Assessment of the accuracy**"
      ]
    },
    {
      "cell_type": "code",
      "metadata": {
        "id": "bdgGyM-fAJGu",
        "colab_type": "code",
        "colab": {}
      },
      "source": [
        ""
      ],
      "execution_count": 0,
      "outputs": []
    }
  ]
}