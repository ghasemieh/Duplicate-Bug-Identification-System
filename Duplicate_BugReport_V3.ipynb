{
 "cells": [
  {
   "cell_type": "code",
   "execution_count": 256,
   "metadata": {
    "colab": {},
    "colab_type": "code",
    "id": "2OHHmqSI6H62"
   },
   "outputs": [],
   "source": [
    "# Model-1-V3"
   ]
  },
  {
   "cell_type": "code",
   "execution_count": 257,
   "metadata": {
    "colab": {},
    "colab_type": "code",
    "id": "SE3nFMwg6XEB"
   },
   "outputs": [],
   "source": [
    "import numpy as np\n",
    "import pandas as pd\n",
    "import warnings\n",
    "warnings.filterwarnings('ignore')"
   ]
  },
  {
   "cell_type": "code",
   "execution_count": 258,
   "metadata": {
    "colab": {},
    "colab_type": "code",
    "id": "2DH0GHXC6cQv"
   },
   "outputs": [],
   "source": [
    "data = pd.read_csv('https://zenodo.org/record/400614/files/apache.csv?download=1',sep=',')"
   ]
  },
  {
   "cell_type": "code",
   "execution_count": 260,
   "metadata": {
    "colab": {
     "base_uri": "https://localhost:8080/",
     "height": 280
    },
    "colab_type": "code",
    "executionInfo": {
     "elapsed": 3256,
     "status": "ok",
     "timestamp": 1576210646995,
     "user": {
      "displayName": "Alireza Ghasemieh",
      "photoUrl": "https://lh5.googleusercontent.com/--sm1QCsEBLM/AAAAAAAAAAI/AAAAAAAABII/jRVLOB4QFgQ/s64/photo.jpg",
      "userId": "15022417890264208659"
     },
     "user_tz": 300
    },
    "id": "s2YFEE0I6xDi",
    "outputId": "8180c02d-5810-4b69-affe-fb708c48f4b7"
   },
   "outputs": [
    {
     "data": {
      "text/html": [
       "<div>\n",
       "<style scoped>\n",
       "    .dataframe tbody tr th:only-of-type {\n",
       "        vertical-align: middle;\n",
       "    }\n",
       "\n",
       "    .dataframe tbody tr th {\n",
       "        vertical-align: top;\n",
       "    }\n",
       "\n",
       "    .dataframe thead th {\n",
       "        text-align: right;\n",
       "    }\n",
       "</style>\n",
       "<table border=\"1\" class=\"dataframe\">\n",
       "  <thead>\n",
       "    <tr style=\"text-align: right;\">\n",
       "      <th></th>\n",
       "      <th>id</th>\n",
       "      <th>product</th>\n",
       "      <th>component</th>\n",
       "      <th>reporter</th>\n",
       "      <th>bug_status</th>\n",
       "      <th>resolution</th>\n",
       "      <th>priority</th>\n",
       "      <th>bug_severity</th>\n",
       "      <th>version</th>\n",
       "      <th>short_desc</th>\n",
       "      <th>opendate</th>\n",
       "      <th>dup_list</th>\n",
       "      <th>root_id</th>\n",
       "      <th>disc_id</th>\n",
       "    </tr>\n",
       "  </thead>\n",
       "  <tbody>\n",
       "    <tr>\n",
       "      <th>0</th>\n",
       "      <td>2</td>\n",
       "      <td>Log4j -</td>\n",
       "      <td>Layout</td>\n",
       "      <td>bugzilla</td>\n",
       "      <td>CLOS</td>\n",
       "      <td>FIXE</td>\n",
       "      <td>P3</td>\n",
       "      <td>nor</td>\n",
       "      <td>unspe</td>\n",
       "      <td>Just testing the Boogzeela setup for log4j</td>\n",
       "      <td>2001-01-08</td>\n",
       "      <td>NaN</td>\n",
       "      <td>NaN</td>\n",
       "      <td>NaN</td>\n",
       "    </tr>\n",
       "    <tr>\n",
       "      <th>1</th>\n",
       "      <td>3</td>\n",
       "      <td>Log4j -</td>\n",
       "      <td>Appender</td>\n",
       "      <td>matthew_scully</td>\n",
       "      <td>RESO</td>\n",
       "      <td>FIXE</td>\n",
       "      <td>P3</td>\n",
       "      <td>nor</td>\n",
       "      <td>unspe</td>\n",
       "      <td>file sharing</td>\n",
       "      <td>2001-01-08</td>\n",
       "      <td>NaN</td>\n",
       "      <td>NaN</td>\n",
       "      <td>NaN</td>\n",
       "    </tr>\n",
       "    <tr>\n",
       "      <th>2</th>\n",
       "      <td>22</td>\n",
       "      <td>Apache h</td>\n",
       "      <td>All</td>\n",
       "      <td>greenrd</td>\n",
       "      <td>CLOS</td>\n",
       "      <td>WONT</td>\n",
       "      <td>P5</td>\n",
       "      <td>enh</td>\n",
       "      <td>2.0-H</td>\n",
       "      <td>Need hooks for user-defined error handling</td>\n",
       "      <td>2001-01-09</td>\n",
       "      <td>NaN</td>\n",
       "      <td>NaN</td>\n",
       "      <td>NaN</td>\n",
       "    </tr>\n",
       "    <tr>\n",
       "      <th>3</th>\n",
       "      <td>27</td>\n",
       "      <td>Log4j -</td>\n",
       "      <td>Layout</td>\n",
       "      <td>richard.mccarthy</td>\n",
       "      <td>RESO</td>\n",
       "      <td>INVA</td>\n",
       "      <td>P1</td>\n",
       "      <td>nor</td>\n",
       "      <td>1.0</td>\n",
       "      <td>Error in the formatting of the (%F:%L) layout ...</td>\n",
       "      <td>2001-01-10</td>\n",
       "      <td>NaN</td>\n",
       "      <td>NaN</td>\n",
       "      <td>NaN</td>\n",
       "    </tr>\n",
       "    <tr>\n",
       "      <th>4</th>\n",
       "      <td>29</td>\n",
       "      <td>Log4j -</td>\n",
       "      <td>Other</td>\n",
       "      <td>woge</td>\n",
       "      <td>RESO</td>\n",
       "      <td>FIXE</td>\n",
       "      <td>P3</td>\n",
       "      <td>nor</td>\n",
       "      <td>1.0</td>\n",
       "      <td>Calling Category.error(Object, Throwable) thro...</td>\n",
       "      <td>2001-01-11</td>\n",
       "      <td>NaN</td>\n",
       "      <td>NaN</td>\n",
       "      <td>NaN</td>\n",
       "    </tr>\n",
       "  </tbody>\n",
       "</table>\n",
       "</div>"
      ],
      "text/plain": [
       "   id   product component          reporter bug_status resolution priority  \\\n",
       "0   2   Log4j -    Layout          bugzilla       CLOS       FIXE       P3   \n",
       "1   3   Log4j -  Appender    matthew_scully       RESO       FIXE       P3   \n",
       "2  22  Apache h       All           greenrd       CLOS       WONT       P5   \n",
       "3  27   Log4j -    Layout  richard.mccarthy       RESO       INVA       P1   \n",
       "4  29   Log4j -     Other              woge       RESO       FIXE       P3   \n",
       "\n",
       "  bug_severity version                                         short_desc  \\\n",
       "0          nor   unspe         Just testing the Boogzeela setup for log4j   \n",
       "1          nor   unspe                                       file sharing   \n",
       "2          enh   2.0-H         Need hooks for user-defined error handling   \n",
       "3          nor     1.0  Error in the formatting of the (%F:%L) layout ...   \n",
       "4          nor     1.0  Calling Category.error(Object, Throwable) thro...   \n",
       "\n",
       "     opendate dup_list  root_id  disc_id  \n",
       "0  2001-01-08      NaN      NaN      NaN  \n",
       "1  2001-01-08      NaN      NaN      NaN  \n",
       "2  2001-01-09      NaN      NaN      NaN  \n",
       "3  2001-01-10      NaN      NaN      NaN  \n",
       "4  2001-01-11      NaN      NaN      NaN  "
      ]
     },
     "execution_count": 260,
     "metadata": {},
     "output_type": "execute_result"
    }
   ],
   "source": [
    "data.head()"
   ]
  },
  {
   "cell_type": "markdown",
   "metadata": {
    "colab_type": "text",
    "id": "OQ0xb5ISqvwh"
   },
   "source": [
    "**Remove NaN from the short_desc**"
   ]
  },
  {
   "cell_type": "code",
   "execution_count": 261,
   "metadata": {
    "colab": {
     "base_uri": "https://localhost:8080/",
     "height": 268
    },
    "colab_type": "code",
    "executionInfo": {
     "elapsed": 3228,
     "status": "ok",
     "timestamp": 1576210646996,
     "user": {
      "displayName": "Alireza Ghasemieh",
      "photoUrl": "https://lh5.googleusercontent.com/--sm1QCsEBLM/AAAAAAAAAAI/AAAAAAAABII/jRVLOB4QFgQ/s64/photo.jpg",
      "userId": "15022417890264208659"
     },
     "user_tz": 300
    },
    "id": "ZMpAF61yWU-X",
    "outputId": "6418f0dc-9204-44c4-d667-e65431d26378"
   },
   "outputs": [
    {
     "data": {
      "text/plain": [
       "id                  0\n",
       "product             0\n",
       "component           0\n",
       "reporter            0\n",
       "bug_status          0\n",
       "resolution          0\n",
       "priority            0\n",
       "bug_severity        0\n",
       "version             0\n",
       "short_desc         58\n",
       "opendate            0\n",
       "dup_list        41531\n",
       "root_id         38016\n",
       "disc_id         38016\n",
       "dtype: int64"
      ]
     },
     "execution_count": 261,
     "metadata": {},
     "output_type": "execute_result"
    }
   ],
   "source": [
    "data.isnull().sum()"
   ]
  },
  {
   "cell_type": "code",
   "execution_count": 263,
   "metadata": {
    "colab": {
     "base_uri": "https://localhost:8080/",
     "height": 196
    },
    "colab_type": "code",
    "executionInfo": {
     "elapsed": 3311,
     "status": "ok",
     "timestamp": 1576210647113,
     "user": {
      "displayName": "Alireza Ghasemieh",
      "photoUrl": "https://lh5.googleusercontent.com/--sm1QCsEBLM/AAAAAAAAAAI/AAAAAAAABII/jRVLOB4QFgQ/s64/photo.jpg",
      "userId": "15022417890264208659"
     },
     "user_tz": 300
    },
    "id": "B_bfdghVNWRk",
    "outputId": "f1baee68-a46e-4640-b37f-7572493f7ef8"
   },
   "outputs": [
    {
     "data": {
      "text/html": [
       "<div>\n",
       "<style scoped>\n",
       "    .dataframe tbody tr th:only-of-type {\n",
       "        vertical-align: middle;\n",
       "    }\n",
       "\n",
       "    .dataframe tbody tr th {\n",
       "        vertical-align: top;\n",
       "    }\n",
       "\n",
       "    .dataframe thead th {\n",
       "        text-align: right;\n",
       "    }\n",
       "</style>\n",
       "<table border=\"1\" class=\"dataframe\">\n",
       "  <thead>\n",
       "    <tr style=\"text-align: right;\">\n",
       "      <th></th>\n",
       "      <th>id</th>\n",
       "      <th>product</th>\n",
       "      <th>short_desc</th>\n",
       "      <th>dup_list</th>\n",
       "    </tr>\n",
       "  </thead>\n",
       "  <tbody>\n",
       "    <tr>\n",
       "      <th>0</th>\n",
       "      <td>2</td>\n",
       "      <td>Log4j -</td>\n",
       "      <td>Just testing the Boogzeela setup for log4j</td>\n",
       "      <td>NaN</td>\n",
       "    </tr>\n",
       "    <tr>\n",
       "      <th>1</th>\n",
       "      <td>3</td>\n",
       "      <td>Log4j -</td>\n",
       "      <td>file sharing</td>\n",
       "      <td>NaN</td>\n",
       "    </tr>\n",
       "    <tr>\n",
       "      <th>2</th>\n",
       "      <td>22</td>\n",
       "      <td>Apache h</td>\n",
       "      <td>Need hooks for user-defined error handling</td>\n",
       "      <td>NaN</td>\n",
       "    </tr>\n",
       "    <tr>\n",
       "      <th>3</th>\n",
       "      <td>27</td>\n",
       "      <td>Log4j -</td>\n",
       "      <td>Error in the formatting of the (%F:%L) layout ...</td>\n",
       "      <td>NaN</td>\n",
       "    </tr>\n",
       "    <tr>\n",
       "      <th>4</th>\n",
       "      <td>29</td>\n",
       "      <td>Log4j -</td>\n",
       "      <td>Calling Category.error(Object, Throwable) thro...</td>\n",
       "      <td>NaN</td>\n",
       "    </tr>\n",
       "  </tbody>\n",
       "</table>\n",
       "</div>"
      ],
      "text/plain": [
       "   id   product                                         short_desc dup_list\n",
       "0   2   Log4j -         Just testing the Boogzeela setup for log4j      NaN\n",
       "1   3   Log4j -                                       file sharing      NaN\n",
       "2  22  Apache h         Need hooks for user-defined error handling      NaN\n",
       "3  27   Log4j -  Error in the formatting of the (%F:%L) layout ...      NaN\n",
       "4  29   Log4j -  Calling Category.error(Object, Throwable) thro...      NaN"
      ]
     },
     "execution_count": 263,
     "metadata": {},
     "output_type": "execute_result"
    }
   ],
   "source": [
    "df = data[['id','product','short_desc','dup_list']]\n",
    "df.head()"
   ]
  },
  {
   "cell_type": "markdown",
   "metadata": {
    "colab_type": "text",
    "id": "JQSXa5EBMiXA"
   },
   "source": [
    "Remove Blank Records"
   ]
  },
  {
   "cell_type": "code",
   "execution_count": 264,
   "metadata": {
    "colab": {
     "base_uri": "https://localhost:8080/",
     "height": 33
    },
    "colab_type": "code",
    "executionInfo": {
     "elapsed": 3168,
     "status": "ok",
     "timestamp": 1576210647115,
     "user": {
      "displayName": "Alireza Ghasemieh",
      "photoUrl": "https://lh5.googleusercontent.com/--sm1QCsEBLM/AAAAAAAAAAI/AAAAAAAABII/jRVLOB4QFgQ/s64/photo.jpg",
      "userId": "15022417890264208659"
     },
     "user_tz": 300
    },
    "id": "Hdo7ksWKBANr",
    "outputId": "ad27b787-a108-42c2-f806-2eaa69b0bccb"
   },
   "outputs": [
    {
     "data": {
      "text/plain": [
       "58"
      ]
     },
     "execution_count": 264,
     "metadata": {},
     "output_type": "execute_result"
    }
   ],
   "source": [
    "blanks = []\n",
    "\n",
    "for index,id,product,short_desc,dup_list in df.itertuples():\n",
    "    if type(short_desc)==str:\n",
    "        if short_desc.isspace():\n",
    "            blanks.append(index)\n",
    "    else:\n",
    "        blanks.append(index)\n",
    "len(blanks)  "
   ]
  },
  {
   "cell_type": "code",
   "execution_count": 265,
   "metadata": {
    "colab": {
     "base_uri": "https://localhost:8080/",
     "height": 84
    },
    "colab_type": "code",
    "executionInfo": {
     "elapsed": 3208,
     "status": "ok",
     "timestamp": 1576210647205,
     "user": {
      "displayName": "Alireza Ghasemieh",
      "photoUrl": "https://lh5.googleusercontent.com/--sm1QCsEBLM/AAAAAAAAAAI/AAAAAAAABII/jRVLOB4QFgQ/s64/photo.jpg",
      "userId": "15022417890264208659"
     },
     "user_tz": 300
    },
    "id": "x_LoDinDR73y",
    "outputId": "713e5579-4afe-493e-cbd6-03fa7cc78ec2"
   },
   "outputs": [
    {
     "data": {
      "text/plain": [
       "id                0\n",
       "product           0\n",
       "short_desc        0\n",
       "dup_list      41474\n",
       "dtype: int64"
      ]
     },
     "execution_count": 265,
     "metadata": {},
     "output_type": "execute_result"
    }
   ],
   "source": [
    "df.drop(blanks,inplace=True)\n",
    "df.isnull().sum()"
   ]
  },
  {
   "cell_type": "markdown",
   "metadata": {
    "colab_type": "text",
    "id": "i9wKRmjEqipx"
   },
   "source": [
    "**Similarity Methods:**"
   ]
  },
  {
   "cell_type": "code",
   "execution_count": 266,
   "metadata": {
    "colab": {},
    "colab_type": "code",
    "id": "0vbHfZFrs_Ab"
   },
   "outputs": [],
   "source": [
    "#conda install -c conda-forge spacy\n",
    "#conda install -c conda-forge spacy-lookups-data\n",
    "#!python -m spacy download en_core_web_lg"
   ]
  },
  {
   "cell_type": "code",
   "execution_count": 267,
   "metadata": {
    "colab": {},
    "colab_type": "code",
    "id": "FkXVudYKs-5g"
   },
   "outputs": [],
   "source": [
    "import spacy\n",
    "from spacy import displacy\n",
    "nlp = spacy.load('en_core_web_lg')"
   ]
  },
  {
   "cell_type": "code",
   "execution_count": 330,
   "metadata": {
    "colab": {},
    "colab_type": "code",
    "id": "JGomxQMNLrp9"
   },
   "outputs": [],
   "source": [
    "def tokenize(df,id):\n",
    "    s = df[df['id'] == int(id)]\n",
    "    s = s.short_desc.to_string(index=False)\n",
    "    s = s[1:]\n",
    "    # print ('\\n'+ s)\n",
    "    doc = nlp(s)\n",
    "    #for token in doc:\n",
    "    #    print(token.text, end=' | ')\n",
    "    #displacy.render(doc, style='dep', jupyter=True, options={'distance': 110})    \n",
    "    return doc"
   ]
  },
  {
   "cell_type": "code",
   "execution_count": 281,
   "metadata": {
    "colab": {},
    "colab_type": "code",
    "id": "NipiWogUpnAS"
   },
   "outputs": [],
   "source": [
    "doc1 = tokenize(df,355)\n",
    "doc2 = tokenize(df,475)"
   ]
  },
  {
   "cell_type": "markdown",
   "metadata": {
    "colab_type": "text",
    "id": "YGxSTtiVsZ7G"
   },
   "source": [
    "**Remove Puntuations**"
   ]
  },
  {
   "cell_type": "code",
   "execution_count": 307,
   "metadata": {
    "colab": {},
    "colab_type": "code",
    "id": "Voxknt6TAFtX"
   },
   "outputs": [],
   "source": [
    "def show_lemmas(text):\n",
    "    for token in text:\n",
    "        print(f'{token.text:{20}} {token.pos_:{6}} {token.lemma:<{22}} {token.lemma_}')"
   ]
  },
  {
   "cell_type": "code",
   "execution_count": 308,
   "metadata": {
    "colab": {},
    "colab_type": "code",
    "id": "mcvbSn9msGJi"
   },
   "outputs": [],
   "source": [
    "#Remove Puntuations\n",
    "def remove_puntuation(doc):\n",
    "    #show_lemmas(doc)\n",
    "    s = []\n",
    "    \n",
    "    for token in doc:\n",
    "        if token.is_punct == False:\n",
    "            s.append(token) \n",
    "            \n",
    "    #Convert list to string\n",
    "    str1 = \"\"    \n",
    "    for ele in s:  \n",
    "        str1 += str(ele) +' '    \n",
    "        \n",
    "    return nlp(str1[:-1]) #return doc "
   ]
  },
  {
   "cell_type": "code",
   "execution_count": 309,
   "metadata": {
    "colab": {},
    "colab_type": "code",
    "id": "DDdZJxXLKNUe",
    "scrolled": false
   },
   "outputs": [],
   "source": [
    "doc_removed_puntuation = remove_puntuation(doc1)"
   ]
  },
  {
   "cell_type": "code",
   "execution_count": 310,
   "metadata": {
    "scrolled": true
   },
   "outputs": [
    {
     "data": {
      "text/plain": [
       "\"request.getCookies() doesn't work BugRat Repor...\""
      ]
     },
     "execution_count": 310,
     "metadata": {},
     "output_type": "execute_result"
    }
   ],
   "source": [
    "doc1.text"
   ]
  },
  {
   "cell_type": "code",
   "execution_count": 311,
   "metadata": {
    "scrolled": true
   },
   "outputs": [
    {
     "data": {
      "text/plain": [
       "\"request.getCookies does n't work BugRat Repor\""
      ]
     },
     "execution_count": 311,
     "metadata": {},
     "output_type": "execute_result"
    }
   ],
   "source": [
    "doc_removed_puntuation.text"
   ]
  },
  {
   "cell_type": "code",
   "execution_count": 312,
   "metadata": {
    "colab": {},
    "colab_type": "code",
    "id": "SQ3ioP7jAFtg"
   },
   "outputs": [],
   "source": [
    "doc2 = remove_puntuation(doc2)"
   ]
  },
  {
   "cell_type": "code",
   "execution_count": 313,
   "metadata": {
    "colab": {},
    "colab_type": "code",
    "id": "wra9WtqSAFtk"
   },
   "outputs": [
    {
     "name": "stdout",
     "output_type": "stream",
     "text": [
      "request.getCookies   NOUN   3252721639640231478    request.getcookie\n",
      "(                    PUNCT  12638816674900267446   (\n",
      ")                    PUNCT  3842344029291005339    )\n",
      "does                 AUX    2158845516055552166    do\n",
      "n't                  PART   447765159362469301     not\n",
      "work                 VERB   10038440415813069799   work\n",
      "BugRat               PROPN  7680755314642684400    BugRat\n",
      "Repor                PROPN  9807858581063934278    Repor\n",
      "...                  PUNCT  10875615029400813363   ...\n"
     ]
    }
   ],
   "source": [
    "show_lemmas(doc1)"
   ]
  },
  {
   "cell_type": "markdown",
   "metadata": {
    "colab_type": "text",
    "id": "huwA6wefshoo"
   },
   "source": [
    "**Remove Stop Words**"
   ]
  },
  {
   "cell_type": "code",
   "execution_count": 314,
   "metadata": {
    "colab": {},
    "colab_type": "code",
    "id": "UM71UlIenU7Q"
   },
   "outputs": [],
   "source": [
    "#Remove Stop Words\n",
    "def remove_stop_word(doc): # accept string\n",
    "    s = []\n",
    "    for token in doc:\n",
    "        if token.is_stop == False:\n",
    "            s.append(token) \n",
    "    #Convert list to string\n",
    "    str1 = \"\"    \n",
    "    for ele in s:  \n",
    "        str1 += str(ele) +' '     \n",
    "    return nlp(str1[:-1]) #return doc "
   ]
  },
  {
   "cell_type": "code",
   "execution_count": 315,
   "metadata": {
    "colab": {},
    "colab_type": "code",
    "id": "nNtH4u6HJzCS",
    "outputId": "9be3ca4c-3cf9-4561-a692-b6c25787e7e9",
    "scrolled": true
   },
   "outputs": [
    {
     "data": {
      "text/plain": [
       "'request.getCookies ( ) work BugRat Repor ...'"
      ]
     },
     "execution_count": 315,
     "metadata": {},
     "output_type": "execute_result"
    }
   ],
   "source": [
    "doc1 = remove_stop_word(doc1)\n",
    "doc1.text"
   ]
  },
  {
   "cell_type": "code",
   "execution_count": 316,
   "metadata": {
    "colab": {},
    "colab_type": "code",
    "id": "GNg4xbv_AFtx",
    "outputId": "4f6f91eb-9525-4b9d-eb6d-8b1b6b839d97"
   },
   "outputs": [
    {
     "data": {
      "text/plain": [
       "'SimpleTcpConnector work BugRat Report#802'"
      ]
     },
     "execution_count": 316,
     "metadata": {},
     "output_type": "execute_result"
    }
   ],
   "source": [
    "doc2 = remove_stop_word(doc2)\n",
    "doc2.text"
   ]
  },
  {
   "cell_type": "code",
   "execution_count": 317,
   "metadata": {
    "colab": {
     "base_uri": "https://localhost:8080/",
     "height": 33
    },
    "colab_type": "code",
    "executionInfo": {
     "elapsed": 17061,
     "status": "ok",
     "timestamp": 1576210661410,
     "user": {
      "displayName": "Alireza Ghasemieh",
      "photoUrl": "https://lh5.googleusercontent.com/--sm1QCsEBLM/AAAAAAAAAAI/AAAAAAAABII/jRVLOB4QFgQ/s64/photo.jpg",
      "userId": "15022417890264208659"
     },
     "user_tz": 300
    },
    "id": "Xk2V1MpWu0AL",
    "outputId": "1650fc91-07ac-43af-8ecd-55ab73d1858f"
   },
   "outputs": [
    {
     "name": "stdout",
     "output_type": "stream",
     "text": [
      "Similarity: 0.5940727380955374\n"
     ]
    }
   ],
   "source": [
    "print('Similarity: ' + str(doc1.similarity(doc2)))"
   ]
  },
  {
   "cell_type": "markdown",
   "metadata": {
    "colab_type": "text",
    "id": "-lFFeJjDfQyB"
   },
   "source": [
    "**Build a function of all previous work**"
   ]
  },
  {
   "cell_type": "code",
   "execution_count": 318,
   "metadata": {
    "colab": {},
    "colab_type": "code",
    "id": "XRrXNv_fyGUx"
   },
   "outputs": [],
   "source": [
    "# Put all prevouse work together in a function\n",
    "def prep_func(df,id):\n",
    "    s = tokenize(df,id)\n",
    "    s = remove_puntuation(s)\n",
    "    doc = remove_stop_word(s)\n",
    "    return doc"
   ]
  },
  {
   "cell_type": "code",
   "execution_count": 332,
   "metadata": {
    "colab": {},
    "colab_type": "code",
    "id": "CsB9wctvXbxm",
    "outputId": "fd97f297-45cf-4d0a-b338-948537963a43",
    "scrolled": true
   },
   "outputs": [
    {
     "name": "stdout",
     "output_type": "stream",
     "text": [
      "Progress: 100.0 %\n",
      "Done\n",
      "--- 30.052579879760742 seconds ---\n"
     ]
    }
   ],
   "source": [
    "# Prepare the vectors for each document\n",
    "import time\n",
    "\n",
    "start_time = time.time()\n",
    "c = 0\n",
    "sample = 1000 # Number of samples\n",
    "prepared = []\n",
    "l = len(df.index)\n",
    "\n",
    "#prepared = map(prep_func, df, df['id'])\n",
    "\n",
    "for i,id,pro,sd,db in df.itertuples():\n",
    "    doc = prep_func(df,id)\n",
    "    prepared.append((id,pro,doc))   \n",
    "    # Show the progress in the output\n",
    "    c = c + 1\n",
    "    if c % 100 == 0:\n",
    "        print('Progress: %s %%' % round(c/sample*100, 2), end=\"\\r\", flush=True)\n",
    "    if c > sample:\n",
    "        print('\\nDone')\n",
    "        break\n",
    "        \n",
    "print(\"--- %s seconds ---\" % (time.time() - start_time))  # show the time of process"
   ]
  },
  {
   "cell_type": "code",
   "execution_count": 333,
   "metadata": {},
   "outputs": [],
   "source": [
    "#prepared = list(prepared)"
   ]
  },
  {
   "cell_type": "code",
   "execution_count": 334,
   "metadata": {
    "colab": {
     "base_uri": "https://localhost:8080/",
     "height": 117
    },
    "colab_type": "code",
    "executionInfo": {
     "elapsed": 885623,
     "status": "ok",
     "timestamp": 1576211530004,
     "user": {
      "displayName": "Alireza Ghasemieh",
      "photoUrl": "https://lh5.googleusercontent.com/--sm1QCsEBLM/AAAAAAAAAAI/AAAAAAAABII/jRVLOB4QFgQ/s64/photo.jpg",
      "userId": "15022417890264208659"
     },
     "user_tz": 300
    },
    "id": "Wozx-5ShYEXj",
    "outputId": "430a698b-42b8-4bb9-af1f-cbea4b9ca56b"
   },
   "outputs": [
    {
     "name": "stdout",
     "output_type": "stream",
     "text": [
      "2 \t Log4j - \t testing Boogzeela setup log4j\n",
      "3 \t Log4j - \t file sharing\n",
      "22 \t Apache h \t Need hooks user defined error handling\n",
      "27 \t Log4j - \t Error formatting F:%L layout\n",
      "29 \t Log4j - \t Calling Category.error(Object Throwable thro\n",
      "31 \t Log4j - \t Conversion log4j Priority types NT Event\n"
     ]
    }
   ],
   "source": [
    "c = 0\n",
    "for i in prepared:\n",
    "    print(i[0], '\\t',i[1], '\\t', i[2].text)\n",
    "    c = c + 1\n",
    "    if c > 5:\n",
    "        break"
   ]
  },
  {
   "cell_type": "code",
   "execution_count": 122,
   "metadata": {
    "colab": {},
    "colab_type": "code",
    "id": "It9SV878P1JL",
    "outputId": "e4bbe9de-1bdb-4ef0-a6a8-895246b3d696"
   },
   "outputs": [
    {
     "name": "stdout",
     "output_type": "stream",
     "text": [
      "Progress: 99.8 %\n",
      "Done\n",
      "--- 76.72808694839478 seconds ---\n"
     ]
    }
   ],
   "source": [
    "# Calculate one by one similarity score\n",
    "# x[0]: id , x[1]: product, x[2]: short_desc\n",
    "\n",
    "start_time = time.time()\n",
    "similarities = []\n",
    "l = len(prepared)\n",
    "c = 0\n",
    "\n",
    "for i in prepared:\n",
    "    c = c + 1\n",
    "    for j in prepared:\n",
    "        if i[0] != j[0] and i[1] == j[1]: # if two bug reports belong to the same product then check the similarity\n",
    "            score = i[2].similarity(j[2])\n",
    "            similarities.append((i[0],j[0],score))\n",
    "            \n",
    "    # Show the progress in the output        \n",
    "    if c % 10 == 0:\n",
    "        progress = c/l*100\n",
    "        print('Progress: %s %%' % round(progress, 1), end=\"\\r\", flush=True)\n",
    "print('\\nDone')\n",
    "print(\"--- %s seconds ---\" % (time.time() - start_time)) # show the time of process"
   ]
  },
  {
   "cell_type": "code",
   "execution_count": 252,
   "metadata": {
    "colab": {},
    "colab_type": "code",
    "id": "jw08fd9KAFuA"
   },
   "outputs": [
    {
     "data": {
      "text/html": [
       "<div>\n",
       "<style scoped>\n",
       "    .dataframe tbody tr th:only-of-type {\n",
       "        vertical-align: middle;\n",
       "    }\n",
       "\n",
       "    .dataframe tbody tr th {\n",
       "        vertical-align: top;\n",
       "    }\n",
       "\n",
       "    .dataframe thead th {\n",
       "        text-align: right;\n",
       "    }\n",
       "</style>\n",
       "<table border=\"1\" class=\"dataframe\">\n",
       "  <thead>\n",
       "    <tr style=\"text-align: right;\">\n",
       "      <th></th>\n",
       "      <th>id1</th>\n",
       "      <th>id2</th>\n",
       "      <th>score</th>\n",
       "    </tr>\n",
       "  </thead>\n",
       "  <tbody>\n",
       "    <tr>\n",
       "      <th>0</th>\n",
       "      <td>357</td>\n",
       "      <td>385</td>\n",
       "      <td>1.0</td>\n",
       "    </tr>\n",
       "    <tr>\n",
       "      <th>1</th>\n",
       "      <td>385</td>\n",
       "      <td>357</td>\n",
       "      <td>1.0</td>\n",
       "    </tr>\n",
       "    <tr>\n",
       "      <th>2</th>\n",
       "      <td>2</td>\n",
       "      <td>2</td>\n",
       "      <td>1.0</td>\n",
       "    </tr>\n",
       "    <tr>\n",
       "      <th>3</th>\n",
       "      <td>3</td>\n",
       "      <td>3</td>\n",
       "      <td>1.0</td>\n",
       "    </tr>\n",
       "    <tr>\n",
       "      <th>4</th>\n",
       "      <td>22</td>\n",
       "      <td>22</td>\n",
       "      <td>1.0</td>\n",
       "    </tr>\n",
       "  </tbody>\n",
       "</table>\n",
       "</div>"
      ],
      "text/plain": [
       "   id1  id2  score\n",
       "0  357  385    1.0\n",
       "1  385  357    1.0\n",
       "2    2    2    1.0\n",
       "3    3    3    1.0\n",
       "4   22   22    1.0"
      ]
     },
     "execution_count": 252,
     "metadata": {},
     "output_type": "execute_result"
    }
   ],
   "source": [
    "# Sort based on the score\n",
    "sorted_similarities = sorted(similarities, key=lambda tup: tup[2], reverse=True)\n",
    "result_df = pd.DataFrame(sorted_similarities, columns=['id1','id2','score'] )\n",
    "result_df.head()"
   ]
  },
  {
   "cell_type": "code",
   "execution_count": 250,
   "metadata": {},
   "outputs": [
    {
     "ename": "TypeError",
     "evalue": "list expected at most 1 arguments, got 2",
     "output_type": "error",
     "traceback": [
      "\u001b[1;31m---------------------------------------------------------------------------\u001b[0m",
      "\u001b[1;31mTypeError\u001b[0m                                 Traceback (most recent call last)",
      "\u001b[1;32m<ipython-input-250-d5050a5d6683>\u001b[0m in \u001b[0;36m<module>\u001b[1;34m\u001b[0m\n\u001b[0;32m      1\u001b[0m \u001b[0mresult\u001b[0m \u001b[1;33m=\u001b[0m \u001b[1;33m{\u001b[0m\u001b[1;33m}\u001b[0m\u001b[1;33m\u001b[0m\u001b[1;33m\u001b[0m\u001b[0m\n\u001b[0;32m      2\u001b[0m \u001b[1;32mfor\u001b[0m \u001b[0mi\u001b[0m\u001b[1;33m,\u001b[0m\u001b[0mid1\u001b[0m\u001b[1;33m,\u001b[0m\u001b[0mid2\u001b[0m\u001b[1;33m,\u001b[0m\u001b[0mscore\u001b[0m \u001b[1;32min\u001b[0m \u001b[0mresult_df\u001b[0m\u001b[1;33m.\u001b[0m\u001b[0mitertuples\u001b[0m\u001b[1;33m(\u001b[0m\u001b[1;33m)\u001b[0m\u001b[1;33m:\u001b[0m\u001b[1;33m\u001b[0m\u001b[1;33m\u001b[0m\u001b[0m\n\u001b[1;32m----> 3\u001b[1;33m     \u001b[0mresult\u001b[0m \u001b[1;33m=\u001b[0m \u001b[1;33m{\u001b[0m\u001b[0mlist\u001b[0m\u001b[1;33m(\u001b[0m\u001b[0mid1\u001b[0m\u001b[1;33m,\u001b[0m\u001b[0mid2\u001b[0m\u001b[1;33m)\u001b[0m \u001b[1;33m:\u001b[0m \u001b[0mlist\u001b[0m\u001b[1;33m(\u001b[0m\u001b[0mscore\u001b[0m\u001b[1;33m)\u001b[0m\u001b[1;33m}\u001b[0m\u001b[1;33m\u001b[0m\u001b[1;33m\u001b[0m\u001b[0m\n\u001b[0m",
      "\u001b[1;31mTypeError\u001b[0m: list expected at most 1 arguments, got 2"
     ]
    }
   ],
   "source": [
    "result = {}\n",
    "for i,id1,id2,score in result_df.itertuples():\n",
    "    result = \n",
    "    \n",
    "result_df.to_dict()"
   ]
  },
  {
   "cell_type": "code",
   "execution_count": 249,
   "metadata": {},
   "outputs": [
    {
     "data": {
      "text/plain": [
       "1"
      ]
     },
     "execution_count": 249,
     "metadata": {},
     "output_type": "execute_result"
    }
   ],
   "source": [
    "len(result)"
   ]
  },
  {
   "cell_type": "markdown",
   "metadata": {
    "colab_type": "text",
    "id": "1pXFxbnWARfD"
   },
   "source": [
    "**Test the outputs**"
   ]
  },
  {
   "cell_type": "code",
   "execution_count": 227,
   "metadata": {
    "colab": {},
    "colab_type": "code",
    "id": "q3Kig0r0AFuD"
   },
   "outputs": [],
   "source": [
    "def test(df,id1,id2):\n",
    "    d1 = tokenize(df,id1)\n",
    "    print('s1: ' + d1.text)\n",
    "    d2 = tokenize(df,id2)\n",
    "    print('s2: ' + d2.text)\n",
    "    d1 = remove_puntuation(d1)\n",
    "    d2 = remove_puntuation(d2)\n",
    "    doc1 = remove_stop_word(d1)\n",
    "    print('\\nDoc1: ' + doc1.text + '\\t')\n",
    "    doc2 = remove_stop_word(d2)\n",
    "    print('Doc2: ' + doc2.text + '\\t')\n",
    "    print('\\nSimilarity: ' + str(doc1.similarity(doc2)))"
   ]
  },
  {
   "cell_type": "code",
   "execution_count": 236,
   "metadata": {
    "colab": {},
    "colab_type": "code",
    "id": "A6swJZqAAFuF",
    "outputId": "cb4229a1-40ad-43bc-dff0-10f4056f3fbc"
   },
   "outputs": [
    {
     "name": "stdout",
     "output_type": "stream",
     "text": [
      "s1: Tomcat 3.2 reports 404 when submitting a jsp i...\n",
      "s2: Tomcat 3.2 reports 404 when submitting a jsp B...\n",
      "\n",
      "Doc1: Tomcat 3.2 reports 404 submitting jsp\t\n",
      "Doc2: Tomcat 3.2 reports 404 submitting jsp B\t\n",
      "\n",
      "Similarity: 0.9673615744389031\n"
     ]
    }
   ],
   "source": [
    "test(df,317,341)"
   ]
  },
  {
   "cell_type": "markdown",
   "metadata": {
    "colab_type": "text",
    "id": "Wxg7sB7LAFuH"
   },
   "source": [
    "**Assessment of the accuracy**"
   ]
  },
  {
   "cell_type": "code",
   "execution_count": null,
   "metadata": {
    "colab": {},
    "colab_type": "code",
    "id": "aUY8zxjeAFuI"
   },
   "outputs": [],
   "source": []
  },
  {
   "cell_type": "code",
   "execution_count": null,
   "metadata": {
    "colab": {},
    "colab_type": "code",
    "id": "AcCc_OOZAFuK"
   },
   "outputs": [],
   "source": []
  }
 ],
 "metadata": {
  "colab": {
   "collapsed_sections": [],
   "name": "Model-1_V03.ipynb",
   "provenance": []
  },
  "kernelspec": {
   "display_name": "Python 3",
   "language": "python",
   "name": "python3"
  },
  "language_info": {
   "codemirror_mode": {
    "name": "ipython",
    "version": 3
   },
   "file_extension": ".py",
   "mimetype": "text/x-python",
   "name": "python",
   "nbconvert_exporter": "python",
   "pygments_lexer": "ipython3",
   "version": "3.7.3"
  }
 },
 "nbformat": 4,
 "nbformat_minor": 1
}
