{
 "cells": [
  {
   "cell_type": "code",
   "execution_count": 1,
   "metadata": {
    "colab": {},
    "colab_type": "code",
    "id": "2OHHmqSI6H62"
   },
   "outputs": [],
   "source": [
    "# Model-1-V2"
   ]
  },
  {
   "cell_type": "code",
   "execution_count": 2,
   "metadata": {
    "colab": {},
    "colab_type": "code",
    "id": "SE3nFMwg6XEB"
   },
   "outputs": [],
   "source": [
    "import numpy as np\n",
    "import pandas as pd\n",
    "import warnings\n",
    "warnings.filterwarnings('ignore')"
   ]
  },
  {
   "cell_type": "code",
   "execution_count": 3,
   "metadata": {
    "colab": {},
    "colab_type": "code",
    "id": "2DH0GHXC6cQv"
   },
   "outputs": [],
   "source": [
    "df = pd.read_csv('https://zenodo.org/record/400614/files/apache.csv?download=1',sep=',')"
   ]
  },
  {
   "cell_type": "code",
   "execution_count": 4,
   "metadata": {
    "colab": {
     "base_uri": "https://localhost:8080/",
     "height": 280
    },
    "colab_type": "code",
    "executionInfo": {
     "elapsed": 3256,
     "status": "ok",
     "timestamp": 1576210646995,
     "user": {
      "displayName": "Alireza Ghasemieh",
      "photoUrl": "https://lh5.googleusercontent.com/--sm1QCsEBLM/AAAAAAAAAAI/AAAAAAAABII/jRVLOB4QFgQ/s64/photo.jpg",
      "userId": "15022417890264208659"
     },
     "user_tz": 300
    },
    "id": "s2YFEE0I6xDi",
    "outputId": "8180c02d-5810-4b69-affe-fb708c48f4b7"
   },
   "outputs": [
    {
     "data": {
      "text/html": [
       "<div>\n",
       "<style scoped>\n",
       "    .dataframe tbody tr th:only-of-type {\n",
       "        vertical-align: middle;\n",
       "    }\n",
       "\n",
       "    .dataframe tbody tr th {\n",
       "        vertical-align: top;\n",
       "    }\n",
       "\n",
       "    .dataframe thead th {\n",
       "        text-align: right;\n",
       "    }\n",
       "</style>\n",
       "<table border=\"1\" class=\"dataframe\">\n",
       "  <thead>\n",
       "    <tr style=\"text-align: right;\">\n",
       "      <th></th>\n",
       "      <th>id</th>\n",
       "      <th>product</th>\n",
       "      <th>component</th>\n",
       "      <th>reporter</th>\n",
       "      <th>bug_status</th>\n",
       "      <th>resolution</th>\n",
       "      <th>priority</th>\n",
       "      <th>bug_severity</th>\n",
       "      <th>version</th>\n",
       "      <th>short_desc</th>\n",
       "      <th>opendate</th>\n",
       "      <th>dup_list</th>\n",
       "      <th>root_id</th>\n",
       "      <th>disc_id</th>\n",
       "    </tr>\n",
       "  </thead>\n",
       "  <tbody>\n",
       "    <tr>\n",
       "      <th>0</th>\n",
       "      <td>2</td>\n",
       "      <td>Log4j -</td>\n",
       "      <td>Layout</td>\n",
       "      <td>bugzilla</td>\n",
       "      <td>CLOS</td>\n",
       "      <td>FIXE</td>\n",
       "      <td>P3</td>\n",
       "      <td>nor</td>\n",
       "      <td>unspe</td>\n",
       "      <td>Just testing the Boogzeela setup for log4j</td>\n",
       "      <td>2001-01-08</td>\n",
       "      <td>NaN</td>\n",
       "      <td>NaN</td>\n",
       "      <td>NaN</td>\n",
       "    </tr>\n",
       "    <tr>\n",
       "      <th>1</th>\n",
       "      <td>3</td>\n",
       "      <td>Log4j -</td>\n",
       "      <td>Appender</td>\n",
       "      <td>matthew_scully</td>\n",
       "      <td>RESO</td>\n",
       "      <td>FIXE</td>\n",
       "      <td>P3</td>\n",
       "      <td>nor</td>\n",
       "      <td>unspe</td>\n",
       "      <td>file sharing</td>\n",
       "      <td>2001-01-08</td>\n",
       "      <td>NaN</td>\n",
       "      <td>NaN</td>\n",
       "      <td>NaN</td>\n",
       "    </tr>\n",
       "    <tr>\n",
       "      <th>2</th>\n",
       "      <td>22</td>\n",
       "      <td>Apache h</td>\n",
       "      <td>All</td>\n",
       "      <td>greenrd</td>\n",
       "      <td>CLOS</td>\n",
       "      <td>WONT</td>\n",
       "      <td>P5</td>\n",
       "      <td>enh</td>\n",
       "      <td>2.0-H</td>\n",
       "      <td>Need hooks for user-defined error handling</td>\n",
       "      <td>2001-01-09</td>\n",
       "      <td>NaN</td>\n",
       "      <td>NaN</td>\n",
       "      <td>NaN</td>\n",
       "    </tr>\n",
       "    <tr>\n",
       "      <th>3</th>\n",
       "      <td>27</td>\n",
       "      <td>Log4j -</td>\n",
       "      <td>Layout</td>\n",
       "      <td>richard.mccarthy</td>\n",
       "      <td>RESO</td>\n",
       "      <td>INVA</td>\n",
       "      <td>P1</td>\n",
       "      <td>nor</td>\n",
       "      <td>1.0</td>\n",
       "      <td>Error in the formatting of the (%F:%L) layout ...</td>\n",
       "      <td>2001-01-10</td>\n",
       "      <td>NaN</td>\n",
       "      <td>NaN</td>\n",
       "      <td>NaN</td>\n",
       "    </tr>\n",
       "    <tr>\n",
       "      <th>4</th>\n",
       "      <td>29</td>\n",
       "      <td>Log4j -</td>\n",
       "      <td>Other</td>\n",
       "      <td>woge</td>\n",
       "      <td>RESO</td>\n",
       "      <td>FIXE</td>\n",
       "      <td>P3</td>\n",
       "      <td>nor</td>\n",
       "      <td>1.0</td>\n",
       "      <td>Calling Category.error(Object, Throwable) thro...</td>\n",
       "      <td>2001-01-11</td>\n",
       "      <td>NaN</td>\n",
       "      <td>NaN</td>\n",
       "      <td>NaN</td>\n",
       "    </tr>\n",
       "  </tbody>\n",
       "</table>\n",
       "</div>"
      ],
      "text/plain": [
       "   id   product component          reporter bug_status resolution priority  \\\n",
       "0   2   Log4j -    Layout          bugzilla       CLOS       FIXE       P3   \n",
       "1   3   Log4j -  Appender    matthew_scully       RESO       FIXE       P3   \n",
       "2  22  Apache h       All           greenrd       CLOS       WONT       P5   \n",
       "3  27   Log4j -    Layout  richard.mccarthy       RESO       INVA       P1   \n",
       "4  29   Log4j -     Other              woge       RESO       FIXE       P3   \n",
       "\n",
       "  bug_severity version                                         short_desc  \\\n",
       "0          nor   unspe         Just testing the Boogzeela setup for log4j   \n",
       "1          nor   unspe                                       file sharing   \n",
       "2          enh   2.0-H         Need hooks for user-defined error handling   \n",
       "3          nor     1.0  Error in the formatting of the (%F:%L) layout ...   \n",
       "4          nor     1.0  Calling Category.error(Object, Throwable) thro...   \n",
       "\n",
       "     opendate dup_list  root_id  disc_id  \n",
       "0  2001-01-08      NaN      NaN      NaN  \n",
       "1  2001-01-08      NaN      NaN      NaN  \n",
       "2  2001-01-09      NaN      NaN      NaN  \n",
       "3  2001-01-10      NaN      NaN      NaN  \n",
       "4  2001-01-11      NaN      NaN      NaN  "
      ]
     },
     "execution_count": 4,
     "metadata": {},
     "output_type": "execute_result"
    }
   ],
   "source": [
    "df.head()"
   ]
  },
  {
   "cell_type": "markdown",
   "metadata": {
    "colab_type": "text",
    "id": "OQ0xb5ISqvwh"
   },
   "source": [
    "**Remove NaN from the short_desc**"
   ]
  },
  {
   "cell_type": "code",
   "execution_count": 5,
   "metadata": {
    "colab": {
     "base_uri": "https://localhost:8080/",
     "height": 268
    },
    "colab_type": "code",
    "executionInfo": {
     "elapsed": 3228,
     "status": "ok",
     "timestamp": 1576210646996,
     "user": {
      "displayName": "Alireza Ghasemieh",
      "photoUrl": "https://lh5.googleusercontent.com/--sm1QCsEBLM/AAAAAAAAAAI/AAAAAAAABII/jRVLOB4QFgQ/s64/photo.jpg",
      "userId": "15022417890264208659"
     },
     "user_tz": 300
    },
    "id": "ZMpAF61yWU-X",
    "outputId": "6418f0dc-9204-44c4-d667-e65431d26378"
   },
   "outputs": [
    {
     "data": {
      "text/plain": [
       "id                  0\n",
       "product             0\n",
       "component           0\n",
       "reporter            0\n",
       "bug_status          0\n",
       "resolution          0\n",
       "priority            0\n",
       "bug_severity        0\n",
       "version             0\n",
       "short_desc         58\n",
       "opendate            0\n",
       "dup_list        41531\n",
       "root_id         38016\n",
       "disc_id         38016\n",
       "dtype: int64"
      ]
     },
     "execution_count": 5,
     "metadata": {},
     "output_type": "execute_result"
    }
   ],
   "source": [
    "df.isnull().sum()"
   ]
  },
  {
   "cell_type": "code",
   "execution_count": 6,
   "metadata": {
    "colab": {
     "base_uri": "https://localhost:8080/",
     "height": 196
    },
    "colab_type": "code",
    "executionInfo": {
     "elapsed": 3311,
     "status": "ok",
     "timestamp": 1576210647113,
     "user": {
      "displayName": "Alireza Ghasemieh",
      "photoUrl": "https://lh5.googleusercontent.com/--sm1QCsEBLM/AAAAAAAAAAI/AAAAAAAABII/jRVLOB4QFgQ/s64/photo.jpg",
      "userId": "15022417890264208659"
     },
     "user_tz": 300
    },
    "id": "B_bfdghVNWRk",
    "outputId": "f1baee68-a46e-4640-b37f-7572493f7ef8"
   },
   "outputs": [
    {
     "data": {
      "text/html": [
       "<div>\n",
       "<style scoped>\n",
       "    .dataframe tbody tr th:only-of-type {\n",
       "        vertical-align: middle;\n",
       "    }\n",
       "\n",
       "    .dataframe tbody tr th {\n",
       "        vertical-align: top;\n",
       "    }\n",
       "\n",
       "    .dataframe thead th {\n",
       "        text-align: right;\n",
       "    }\n",
       "</style>\n",
       "<table border=\"1\" class=\"dataframe\">\n",
       "  <thead>\n",
       "    <tr style=\"text-align: right;\">\n",
       "      <th></th>\n",
       "      <th>id</th>\n",
       "      <th>short_desc</th>\n",
       "      <th>dup_list</th>\n",
       "    </tr>\n",
       "  </thead>\n",
       "  <tbody>\n",
       "    <tr>\n",
       "      <th>0</th>\n",
       "      <td>2</td>\n",
       "      <td>Just testing the Boogzeela setup for log4j</td>\n",
       "      <td>NaN</td>\n",
       "    </tr>\n",
       "    <tr>\n",
       "      <th>1</th>\n",
       "      <td>3</td>\n",
       "      <td>file sharing</td>\n",
       "      <td>NaN</td>\n",
       "    </tr>\n",
       "    <tr>\n",
       "      <th>2</th>\n",
       "      <td>22</td>\n",
       "      <td>Need hooks for user-defined error handling</td>\n",
       "      <td>NaN</td>\n",
       "    </tr>\n",
       "    <tr>\n",
       "      <th>3</th>\n",
       "      <td>27</td>\n",
       "      <td>Error in the formatting of the (%F:%L) layout ...</td>\n",
       "      <td>NaN</td>\n",
       "    </tr>\n",
       "    <tr>\n",
       "      <th>4</th>\n",
       "      <td>29</td>\n",
       "      <td>Calling Category.error(Object, Throwable) thro...</td>\n",
       "      <td>NaN</td>\n",
       "    </tr>\n",
       "  </tbody>\n",
       "</table>\n",
       "</div>"
      ],
      "text/plain": [
       "   id                                         short_desc dup_list\n",
       "0   2         Just testing the Boogzeela setup for log4j      NaN\n",
       "1   3                                       file sharing      NaN\n",
       "2  22         Need hooks for user-defined error handling      NaN\n",
       "3  27  Error in the formatting of the (%F:%L) layout ...      NaN\n",
       "4  29  Calling Category.error(Object, Throwable) thro...      NaN"
      ]
     },
     "execution_count": 6,
     "metadata": {},
     "output_type": "execute_result"
    }
   ],
   "source": [
    "df = df[['id','short_desc','dup_list']]\n",
    "df.head()"
   ]
  },
  {
   "cell_type": "code",
   "execution_count": 7,
   "metadata": {
    "colab": {
     "base_uri": "https://localhost:8080/",
     "height": 33
    },
    "colab_type": "code",
    "executionInfo": {
     "elapsed": 3214,
     "status": "ok",
     "timestamp": 1576210647114,
     "user": {
      "displayName": "Alireza Ghasemieh",
      "photoUrl": "https://lh5.googleusercontent.com/--sm1QCsEBLM/AAAAAAAAAAI/AAAAAAAABII/jRVLOB4QFgQ/s64/photo.jpg",
      "userId": "15022417890264208659"
     },
     "user_tz": 300
    },
    "id": "yiPGf1eMFaa_",
    "outputId": "11f3ccaa-09a9-48f7-ea76-681da5897fcc"
   },
   "outputs": [
    {
     "data": {
      "text/plain": [
       "(44049, 3)"
      ]
     },
     "execution_count": 7,
     "metadata": {},
     "output_type": "execute_result"
    }
   ],
   "source": [
    "df.shape"
   ]
  },
  {
   "cell_type": "markdown",
   "metadata": {
    "colab_type": "text",
    "id": "JQSXa5EBMiXA"
   },
   "source": [
    "Remove Blank Records"
   ]
  },
  {
   "cell_type": "code",
   "execution_count": 8,
   "metadata": {
    "colab": {
     "base_uri": "https://localhost:8080/",
     "height": 33
    },
    "colab_type": "code",
    "executionInfo": {
     "elapsed": 3168,
     "status": "ok",
     "timestamp": 1576210647115,
     "user": {
      "displayName": "Alireza Ghasemieh",
      "photoUrl": "https://lh5.googleusercontent.com/--sm1QCsEBLM/AAAAAAAAAAI/AAAAAAAABII/jRVLOB4QFgQ/s64/photo.jpg",
      "userId": "15022417890264208659"
     },
     "user_tz": 300
    },
    "id": "Hdo7ksWKBANr",
    "outputId": "ad27b787-a108-42c2-f806-2eaa69b0bccb"
   },
   "outputs": [
    {
     "data": {
      "text/plain": [
       "58"
      ]
     },
     "execution_count": 8,
     "metadata": {},
     "output_type": "execute_result"
    }
   ],
   "source": [
    "blanks = []\n",
    "\n",
    "for i,id,sd,dl in df.itertuples():\n",
    "    if type(sd)==str:\n",
    "        if sd.isspace():\n",
    "            blanks.append(i)\n",
    "    else:\n",
    "        blanks.append(i)\n",
    "len(blanks)  "
   ]
  },
  {
   "cell_type": "code",
   "execution_count": 9,
   "metadata": {
    "colab": {
     "base_uri": "https://localhost:8080/",
     "height": 84
    },
    "colab_type": "code",
    "executionInfo": {
     "elapsed": 3208,
     "status": "ok",
     "timestamp": 1576210647205,
     "user": {
      "displayName": "Alireza Ghasemieh",
      "photoUrl": "https://lh5.googleusercontent.com/--sm1QCsEBLM/AAAAAAAAAAI/AAAAAAAABII/jRVLOB4QFgQ/s64/photo.jpg",
      "userId": "15022417890264208659"
     },
     "user_tz": 300
    },
    "id": "x_LoDinDR73y",
    "outputId": "713e5579-4afe-493e-cbd6-03fa7cc78ec2"
   },
   "outputs": [
    {
     "data": {
      "text/plain": [
       "id                0\n",
       "short_desc        0\n",
       "dup_list      41474\n",
       "dtype: int64"
      ]
     },
     "execution_count": 9,
     "metadata": {},
     "output_type": "execute_result"
    }
   ],
   "source": [
    "df.drop(blanks,inplace=True)\n",
    "df.isnull().sum()"
   ]
  },
  {
   "cell_type": "markdown",
   "metadata": {
    "colab_type": "text",
    "id": "i9wKRmjEqipx"
   },
   "source": [
    "**Similarity Methods:**"
   ]
  },
  {
   "cell_type": "code",
   "execution_count": 10,
   "metadata": {
    "colab": {
     "base_uri": "https://localhost:8080/",
     "height": 87
    },
    "colab_type": "code",
    "executionInfo": {
     "elapsed": 5360,
     "status": "ok",
     "timestamp": 1576210649436,
     "user": {
      "displayName": "Alireza Ghasemieh",
      "photoUrl": "https://lh5.googleusercontent.com/--sm1QCsEBLM/AAAAAAAAAAI/AAAAAAAABII/jRVLOB4QFgQ/s64/photo.jpg",
      "userId": "15022417890264208659"
     },
     "user_tz": 300
    },
    "id": "0vbHfZFrs_Ab",
    "outputId": "0d94847e-30b5-469c-9516-bcac21c5342f"
   },
   "outputs": [],
   "source": [
    "#conda install -c conda-forge spacy\n",
    "#conda install -c conda-forge spacy-lookups-data\n",
    "#!python -m spacy download en_core_web_lg"
   ]
  },
  {
   "cell_type": "code",
   "execution_count": 24,
   "metadata": {
    "colab": {},
    "colab_type": "code",
    "id": "FkXVudYKs-5g"
   },
   "outputs": [],
   "source": [
    "import spacy\n",
    "from spacy import displacy\n",
    "nlp = spacy.load('en_core_web_lg')"
   ]
  },
  {
   "cell_type": "code",
   "execution_count": 141,
   "metadata": {
    "colab": {},
    "colab_type": "code",
    "id": "JGomxQMNLrp9"
   },
   "outputs": [],
   "source": [
    "def tokenize(df,id):\n",
    "    s = df[df['id'] == id]\n",
    "    s = s.short_desc.to_string(index=False)\n",
    "    s = s[1:]\n",
    "    # print ('\\n'+ s)\n",
    "    doc = nlp(s)\n",
    "    #for token in doc:\n",
    "    #    print(token.text, end=' | ')\n",
    "    #displacy.render(doc, style='dep', jupyter=True, options={'distance': 110})    \n",
    "    return doc"
   ]
  },
  {
   "cell_type": "code",
   "execution_count": 142,
   "metadata": {
    "colab": {
     "base_uri": "https://localhost:8080/",
     "height": 50
    },
    "colab_type": "code",
    "executionInfo": {
     "elapsed": 16940,
     "status": "ok",
     "timestamp": 1576210661214,
     "user": {
      "displayName": "Alireza Ghasemieh",
      "photoUrl": "https://lh5.googleusercontent.com/--sm1QCsEBLM/AAAAAAAAAAI/AAAAAAAABII/jRVLOB4QFgQ/s64/photo.jpg",
      "userId": "15022417890264208659"
     },
     "user_tz": 300
    },
    "id": "NipiWogUpnAS",
    "outputId": "27960f15-4b40-49e6-f6d6-a18e7ad12d80"
   },
   "outputs": [],
   "source": [
    "doc1 = tokenize(df,103)\n",
    "doc2 = tokenize(df,104)"
   ]
  },
  {
   "cell_type": "markdown",
   "metadata": {
    "colab_type": "text",
    "id": "YGxSTtiVsZ7G"
   },
   "source": [
    "**Remove Puntuations**"
   ]
  },
  {
   "cell_type": "code",
   "execution_count": 143,
   "metadata": {},
   "outputs": [],
   "source": [
    "def show_lemmas(text):\n",
    "    for token in text:\n",
    "        print(f'{token.text:{20}} {token.pos_:{6}} {token.lemma:<{22}} {token.lemma_}')"
   ]
  },
  {
   "cell_type": "code",
   "execution_count": 144,
   "metadata": {
    "colab": {},
    "colab_type": "code",
    "id": "mcvbSn9msGJi"
   },
   "outputs": [],
   "source": [
    "#Remove Puntuations\n",
    "def remove_puntuation(doc):\n",
    "    #show_lemmas(doc)\n",
    "    s = []\n",
    "    for token in doc:\n",
    "        if token.is_punct == False:\n",
    "            s.append(token) \n",
    "    #Convert list to string\n",
    "    str1 = \"\"    \n",
    "    for ele in s:  \n",
    "        str1 += str(ele) +' '     \n",
    "    return nlp(str1[:-1]) #return doc "
   ]
  },
  {
   "cell_type": "code",
   "execution_count": 145,
   "metadata": {
    "colab": {},
    "colab_type": "code",
    "id": "DDdZJxXLKNUe",
    "scrolled": false
   },
   "outputs": [],
   "source": [
    "doc1 = remove_puntuation(doc1)"
   ]
  },
  {
   "cell_type": "code",
   "execution_count": 146,
   "metadata": {},
   "outputs": [],
   "source": [
    "doc2 = remove_puntuation(doc2)"
   ]
  },
  {
   "cell_type": "code",
   "execution_count": 147,
   "metadata": {},
   "outputs": [],
   "source": [
    "#show_lemmas(doc1)"
   ]
  },
  {
   "cell_type": "markdown",
   "metadata": {
    "colab_type": "text",
    "id": "huwA6wefshoo"
   },
   "source": [
    "**Remove Stop Words**"
   ]
  },
  {
   "cell_type": "code",
   "execution_count": 148,
   "metadata": {
    "colab": {},
    "colab_type": "code",
    "id": "UM71UlIenU7Q"
   },
   "outputs": [],
   "source": [
    "#Remove Stop Words\n",
    "def remove_stop_word(doc): # accept string\n",
    "    s = []\n",
    "    for token in doc:\n",
    "        if token.is_stop == False:\n",
    "            s.append(token) \n",
    "    #Convert list to string\n",
    "    str1 = \"\"    \n",
    "    for ele in s:  \n",
    "        str1 += str(ele) +' '     \n",
    "    return nlp(str1[:-1]) #return doc "
   ]
  },
  {
   "cell_type": "code",
   "execution_count": 149,
   "metadata": {
    "colab": {},
    "colab_type": "code",
    "id": "nNtH4u6HJzCS",
    "scrolled": true
   },
   "outputs": [
    {
     "data": {
      "text/plain": [
       "'decoding URL necessary BugRat Repo'"
      ]
     },
     "execution_count": 149,
     "metadata": {},
     "output_type": "execute_result"
    }
   ],
   "source": [
    "doc1 = remove_stop_word(doc1)\n",
    "doc1.text"
   ]
  },
  {
   "cell_type": "code",
   "execution_count": 150,
   "metadata": {},
   "outputs": [
    {
     "data": {
      "text/plain": [
       "'Add decode description getRequestURI'"
      ]
     },
     "execution_count": 150,
     "metadata": {},
     "output_type": "execute_result"
    }
   ],
   "source": [
    "doc2 = remove_stop_word(doc2)\n",
    "doc2.text"
   ]
  },
  {
   "cell_type": "code",
   "execution_count": 151,
   "metadata": {
    "colab": {
     "base_uri": "https://localhost:8080/",
     "height": 33
    },
    "colab_type": "code",
    "executionInfo": {
     "elapsed": 17061,
     "status": "ok",
     "timestamp": 1576210661410,
     "user": {
      "displayName": "Alireza Ghasemieh",
      "photoUrl": "https://lh5.googleusercontent.com/--sm1QCsEBLM/AAAAAAAAAAI/AAAAAAAABII/jRVLOB4QFgQ/s64/photo.jpg",
      "userId": "15022417890264208659"
     },
     "user_tz": 300
    },
    "id": "Xk2V1MpWu0AL",
    "outputId": "1650fc91-07ac-43af-8ecd-55ab73d1858f"
   },
   "outputs": [
    {
     "name": "stdout",
     "output_type": "stream",
     "text": [
      "Similarity: 0.6340470066889127\n"
     ]
    }
   ],
   "source": [
    "print('Similarity: ' + str(doc1.similarity(doc2)))"
   ]
  },
  {
   "cell_type": "markdown",
   "metadata": {
    "colab_type": "text",
    "id": "-lFFeJjDfQyB"
   },
   "source": [
    "**Build a function of all previous work**"
   ]
  },
  {
   "cell_type": "code",
   "execution_count": 152,
   "metadata": {
    "colab": {},
    "colab_type": "code",
    "id": "XRrXNv_fyGUx"
   },
   "outputs": [],
   "source": [
    "# Put all prevouse work together in a function\n",
    "def prep(df,id):\n",
    "    s = tokenize(df,id)\n",
    "    s = remove_puntuation(s)\n",
    "    doc = remove_stop_word(s)\n",
    "    return doc"
   ]
  },
  {
   "cell_type": "code",
   "execution_count": 153,
   "metadata": {
    "colab": {},
    "colab_type": "code",
    "id": "CsB9wctvXbxm"
   },
   "outputs": [
    {
     "name": "stdout",
     "output_type": "stream",
     "text": [
      "Progress: 2.27 %\n",
      "Done\n",
      "--- 12.281132459640503 seconds ---\n"
     ]
    }
   ],
   "source": [
    "# Prepare the vectors for each document\n",
    "import time\n",
    "start_time = time.time()\n",
    "c = 0\n",
    "prepared = []\n",
    "l = len(df.index)\n",
    "for i,id,sd,db in df.itertuples():\n",
    "    c = c + 1\n",
    "    doc = prep(df,id)\n",
    "    prepared.append((id,doc))\n",
    "    c = c + 1\n",
    "    if c % 100 == 0:\n",
    "        progress = c/l*100\n",
    "        print('Progress: %s %%' % round(progress, 2), end=\"\\r\", flush=True)\n",
    "    if c > 1000:\n",
    "        print('\\nDone')\n",
    "        break\n",
    "print(\"--- %s seconds ---\" % (time.time() - start_time))"
   ]
  },
  {
   "cell_type": "code",
   "execution_count": 154,
   "metadata": {
    "colab": {
     "base_uri": "https://localhost:8080/",
     "height": 117
    },
    "colab_type": "code",
    "executionInfo": {
     "elapsed": 885623,
     "status": "ok",
     "timestamp": 1576211530004,
     "user": {
      "displayName": "Alireza Ghasemieh",
      "photoUrl": "https://lh5.googleusercontent.com/--sm1QCsEBLM/AAAAAAAAAAI/AAAAAAAABII/jRVLOB4QFgQ/s64/photo.jpg",
      "userId": "15022417890264208659"
     },
     "user_tz": 300
    },
    "id": "Wozx-5ShYEXj",
    "outputId": "430a698b-42b8-4bb9-af1f-cbea4b9ca56b"
   },
   "outputs": [
    {
     "name": "stdout",
     "output_type": "stream",
     "text": [
      "2 \t testing Boogzeela setup log4j\n",
      "3 \t file sharing\n",
      "22 \t Need hooks user defined error handling\n",
      "27 \t Error formatting F:%L layout\n",
      "29 \t Calling Category.error(Object Throwable thro\n",
      "31 \t Conversion log4j Priority types NT Event\n",
      "32 \t Typo\n",
      "34 \t StreamCorruptedException SocketAppe\n",
      "35 \t Custom Priorities lost sent remote\n",
      "43 \t appletviewer Category bug\n",
      "44 \t Documentation errors\n",
      "45 \t Add support CSS properties display\n",
      "46 \t Add marker support\n",
      "47 \t Modify thumbnail AOI marker\n",
      "48 \t hueRotate bug ColorMatrix\n",
      "49 \t Antialiased clipping\n",
      "50 \t New layout engine tspan text x y dx dy\n",
      "51 \t Use double buffer repaint\n",
      "52 \t Remove ATTR_HREF SVGSyntax\n",
      "53 \t Implement static LUT Identity Identity\n",
      "54 \t feOffset dx dy bug\n"
     ]
    }
   ],
   "source": [
    "c = 0\n",
    "for i in prepared:\n",
    "    print(i[0], '\\t', i[1].text)\n",
    "    c = c + 1\n",
    "    if c > 20:\n",
    "        break"
   ]
  },
  {
   "cell_type": "code",
   "execution_count": 160,
   "metadata": {
    "colab": {},
    "colab_type": "code",
    "id": "It9SV878P1JL"
   },
   "outputs": [
    {
     "name": "stdout",
     "output_type": "stream",
     "text": [
      "Progress: 100.0 %\n",
      "Done\n",
      "--- 148.55478429794312 seconds ---\n"
     ]
    }
   ],
   "source": [
    "# Calculate one by one similarity score\n",
    "start_time = time.time()\n",
    "similarities = []\n",
    "l = len(prepared)\n",
    "c = 0\n",
    "for i in prepared:\n",
    "    c = c + 1\n",
    "    for j in prepared:\n",
    "        score = i[1].similarity(j[1])\n",
    "        similarities.append((i[0],j[0],score))\n",
    "    if c % 10 == 0:\n",
    "        progress = c/l*100\n",
    "        print('Progress: %s %%' % round(progress, 1), end=\"\\r\", flush=True)\n",
    "print('\\nDone')\n",
    "print(\"--- %s seconds ---\" % (time.time() - start_time))"
   ]
  },
  {
   "cell_type": "code",
   "execution_count": 46,
   "metadata": {
    "scrolled": true
   },
   "outputs": [],
   "source": [
    "dfObj = pd.DataFrame(similarities) "
   ]
  },
  {
   "cell_type": "code",
   "execution_count": 158,
   "metadata": {},
   "outputs": [],
   "source": [
    "sorted_similarities = sorted(similarities, key=lambda tup: tup[2], reverse=True)"
   ]
  },
  {
   "cell_type": "code",
   "execution_count": 159,
   "metadata": {},
   "outputs": [
    {
     "data": {
      "text/plain": [
       "[(562, 562, 1.0),\n",
       " (563, 563, 1.0),\n",
       " (564, 564, 1.0),\n",
       " (565, 565, 1.0),\n",
       " (566, 566, 1.0),\n",
       " (567, 567, 1.0),\n",
       " (569, 569, 1.0),\n",
       " (355, 475, 0.9999999906303305),\n",
       " (475, 355, 0.9999999906303305),\n",
       " (48, 441, 0.9999999801943156),\n",
       " (441, 48, 0.9999999801943156),\n",
       " (48, 373, 0.9999999741066152),\n",
       " (48, 553, 0.9999999741066152),\n",
       " (373, 48, 0.9999999741066152),\n",
       " (373, 441, 0.9999999741066152),\n",
       " (441, 373, 0.9999999741066152),\n",
       " (441, 553, 0.9999999741066152),\n",
       " (553, 48, 0.9999999741066152),\n",
       " (553, 441, 0.9999999741066152),\n",
       " (373, 553, 0.9999999231865646),\n",
       " (553, 373, 0.9999999231865646),\n",
       " (317, 341, 0.9673615744389031),\n",
       " (341, 317, 0.9673615744389031),\n",
       " (144, 145, 0.955040353250707),\n",
       " (145, 144, 0.955040353250707),\n",
       " (66, 540, 0.9474803672427577),\n",
       " (540, 66, 0.9474803672427577),\n",
       " (101, 483, 0.9373680380808607),\n",
       " (483, 101, 0.9373680380808607),\n",
       " (44, 66, 0.9349526529218797),\n",
       " (66, 44, 0.9349526529218797),\n",
       " (45, 71, 0.9278628880921946),\n",
       " (71, 45, 0.9278628880921946),\n",
       " (436, 509, 0.9257605126573889),\n",
       " (509, 436, 0.9257605126573889),\n",
       " (44, 540, 0.9168721401875888),\n",
       " (540, 44, 0.9168721401875888),\n",
       " (94, 426, 0.893976882234901),\n",
       " (426, 94, 0.893976882234901),\n",
       " (291, 315, 0.8936179344666283)]"
      ]
     },
     "execution_count": 159,
     "metadata": {},
     "output_type": "execute_result"
    }
   ],
   "source": [
    "sorted_similarities[510:550]"
   ]
  },
  {
   "cell_type": "code",
   "execution_count": 77,
   "metadata": {},
   "outputs": [],
   "source": [
    "def test(df,id1,id2):\n",
    "    s1 = to_string(df,id1)\n",
    "    print('s1: ' + s1)\n",
    "    s2 = to_string(df,id2)\n",
    "    print('s2: ' + s2)\n",
    "    s1 = remove_puntuation(s1)\n",
    "    s2 = remove_puntuation(s2)\n",
    "    doc1 = remove_stop_word(s1)\n",
    "    print('Doc1: ' + doc1.text + '\\t')\n",
    "    doc2 = remove_stop_word(s2)\n",
    "    print('Doc2: ' + doc2.text + '\\t')\n",
    "    print('Similarity: ' + str(doc1.similarity(doc2)))"
   ]
  },
  {
   "cell_type": "code",
   "execution_count": 79,
   "metadata": {},
   "outputs": [
    {
     "name": "stdout",
     "output_type": "stream",
     "text": [
      "s1: hueRotate bug in ColorMatrix\n",
      "s2: [BUG] BugRat Report#759\n",
      "Doc1: hueRotate bug ColorMatrix\t\n",
      "Doc2: BUG BugRat Report759\t\n",
      "Similarity: 0.9999999801943156\n"
     ]
    }
   ],
   "source": [
    "test(df,48,441)"
   ]
  },
  {
   "cell_type": "code",
   "execution_count": null,
   "metadata": {},
   "outputs": [],
   "source": []
  },
  {
   "cell_type": "code",
   "execution_count": null,
   "metadata": {},
   "outputs": [],
   "source": []
  },
  {
   "cell_type": "code",
   "execution_count": null,
   "metadata": {
    "colab": {},
    "colab_type": "code",
    "id": "bpD4m_r8aBet",
    "scrolled": true
   },
   "outputs": [],
   "source": [
    "dfObj.to_csv('similarities', index = False)"
   ]
  },
  {
   "cell_type": "code",
   "execution_count": null,
   "metadata": {},
   "outputs": [],
   "source": []
  }
 ],
 "metadata": {
  "colab": {
   "collapsed_sections": [],
   "name": "Phase-1: Load data_Data_Preparation_Similarity.ipynb",
   "provenance": []
  },
  "kernelspec": {
   "display_name": "Python 3",
   "language": "python",
   "name": "python3"
  },
  "language_info": {
   "codemirror_mode": {
    "name": "ipython",
    "version": 3
   },
   "file_extension": ".py",
   "mimetype": "text/x-python",
   "name": "python",
   "nbconvert_exporter": "python",
   "pygments_lexer": "ipython3",
   "version": "3.7.3"
  }
 },
 "nbformat": 4,
 "nbformat_minor": 1
}
