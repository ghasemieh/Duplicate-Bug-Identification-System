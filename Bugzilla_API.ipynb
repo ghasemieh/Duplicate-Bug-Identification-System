{
 "cells": [
  {
   "cell_type": "code",
   "execution_count": 40,
   "metadata": {
    "pycharm": {
     "is_executing": false
    }
   },
   "outputs": [
    {
     "data": {
      "text/html": [
       "<div>\n",
       "<style scoped>\n",
       "    .dataframe tbody tr th:only-of-type {\n",
       "        vertical-align: middle;\n",
       "    }\n",
       "\n",
       "    .dataframe tbody tr th {\n",
       "        vertical-align: top;\n",
       "    }\n",
       "\n",
       "    .dataframe thead th {\n",
       "        text-align: right;\n",
       "    }\n",
       "</style>\n",
       "<table border=\"1\" class=\"dataframe\">\n",
       "  <thead>\n",
       "    <tr style=\"text-align: right;\">\n",
       "      <th></th>\n",
       "      <th>summary</th>\n",
       "      <th>component</th>\n",
       "      <th>status</th>\n",
       "      <th>id</th>\n",
       "      <th>creation_time</th>\n",
       "      <th>product</th>\n",
       "    </tr>\n",
       "  </thead>\n",
       "  <tbody>\n",
       "    <tr>\n",
       "      <td>0</td>\n",
       "      <td>Remove and recreate the database doesn't actua...</td>\n",
       "      <td>Security: PSM</td>\n",
       "      <td>ASSIGNED</td>\n",
       "      <td>1610179</td>\n",
       "      <td>2020-01-19T15:37:35Z</td>\n",
       "      <td>Core</td>\n",
       "    </tr>\n",
       "    <tr>\n",
       "      <td>1</td>\n",
       "      <td>[Attachments] The attachments bar is not scrol...</td>\n",
       "      <td>Message Reader UI</td>\n",
       "      <td>NEW</td>\n",
       "      <td>1610180</td>\n",
       "      <td>2020-01-19T15:52:10Z</td>\n",
       "      <td>Thunderbird</td>\n",
       "    </tr>\n",
       "    <tr>\n",
       "      <td>2</td>\n",
       "      <td>Clipboard actions with Disqus comments are broken</td>\n",
       "      <td>Untriaged</td>\n",
       "      <td>UNCONFIRMED</td>\n",
       "      <td>1610182</td>\n",
       "      <td>2020-01-19T16:00:22Z</td>\n",
       "      <td>Firefox</td>\n",
       "    </tr>\n",
       "    <tr>\n",
       "      <td>3</td>\n",
       "      <td>Clipboard actions with Disqus comments are broken</td>\n",
       "      <td>Untriaged</td>\n",
       "      <td>RESOLVED</td>\n",
       "      <td>1610183</td>\n",
       "      <td>2020-01-19T16:01:05Z</td>\n",
       "      <td>Firefox</td>\n",
       "    </tr>\n",
       "    <tr>\n",
       "      <td>4</td>\n",
       "      <td>Meta: no \"components\" in bug-tracking for Cale...</td>\n",
       "      <td>Untriaged</td>\n",
       "      <td>UNCONFIRMED</td>\n",
       "      <td>1610185</td>\n",
       "      <td>2020-01-19T16:26:20Z</td>\n",
       "      <td>Thunderbird</td>\n",
       "    </tr>\n",
       "    <tr>\n",
       "      <td>5</td>\n",
       "      <td>macOS Catalina: Can't play video fullscreen on...</td>\n",
       "      <td>Widget: Cocoa</td>\n",
       "      <td>RESOLVED</td>\n",
       "      <td>1610186</td>\n",
       "      <td>2020-01-19T16:31:26Z</td>\n",
       "      <td>Core</td>\n",
       "    </tr>\n",
       "    <tr>\n",
       "      <td>6</td>\n",
       "      <td>macOS Catalina: Context menu for window on Air...</td>\n",
       "      <td>Widget: Cocoa</td>\n",
       "      <td>RESOLVED</td>\n",
       "      <td>1610187</td>\n",
       "      <td>2020-01-19T16:34:23Z</td>\n",
       "      <td>Core</td>\n",
       "    </tr>\n",
       "    <tr>\n",
       "      <td>7</td>\n",
       "      <td>RSS very unreliable and hard to use</td>\n",
       "      <td>Feed Reader</td>\n",
       "      <td>UNCONFIRMED</td>\n",
       "      <td>1610188</td>\n",
       "      <td>2020-01-19T16:47:31Z</td>\n",
       "      <td>MailNews Core</td>\n",
       "    </tr>\n",
       "  </tbody>\n",
       "</table>\n",
       "</div>"
      ],
      "text/plain": [
       "                                             summary          component  \\\n",
       "0  Remove and recreate the database doesn't actua...      Security: PSM   \n",
       "1  [Attachments] The attachments bar is not scrol...  Message Reader UI   \n",
       "2  Clipboard actions with Disqus comments are broken          Untriaged   \n",
       "3  Clipboard actions with Disqus comments are broken          Untriaged   \n",
       "4  Meta: no \"components\" in bug-tracking for Cale...          Untriaged   \n",
       "5  macOS Catalina: Can't play video fullscreen on...      Widget: Cocoa   \n",
       "6  macOS Catalina: Context menu for window on Air...      Widget: Cocoa   \n",
       "7                RSS very unreliable and hard to use        Feed Reader   \n",
       "\n",
       "        status       id         creation_time        product  \n",
       "0     ASSIGNED  1610179  2020-01-19T15:37:35Z           Core  \n",
       "1          NEW  1610180  2020-01-19T15:52:10Z    Thunderbird  \n",
       "2  UNCONFIRMED  1610182  2020-01-19T16:00:22Z        Firefox  \n",
       "3     RESOLVED  1610183  2020-01-19T16:01:05Z        Firefox  \n",
       "4  UNCONFIRMED  1610185  2020-01-19T16:26:20Z    Thunderbird  \n",
       "5     RESOLVED  1610186  2020-01-19T16:31:26Z           Core  \n",
       "6     RESOLVED  1610187  2020-01-19T16:34:23Z           Core  \n",
       "7  UNCONFIRMED  1610188  2020-01-19T16:47:31Z  MailNews Core  "
      ]
     },
     "execution_count": 40,
     "metadata": {},
     "output_type": "execute_result"
    }
   ],
   "source": [
    "import requests\n",
    "import json\n",
    "import pandas as pd\n",
    "\n",
    "def API_data_extract(frequency = '2h')\n",
    "controller = 'https://bugzilla.mozilla.org/rest/bug?include_fields=id,summary,status,creation_time,product,component&chfield=%5BBug%20creation%5D&chfieldfrom=-'\n",
    "get_bug_url = controller + frequency + '&chfieldto=Now'\n",
    "response = requests.get(get_bug_url)\n",
    "response_json = response.json()\n",
    "data = response_json[\"bugs\"]\n",
    "pd = pd.DataFrame(data)\n",
    "pd\n"
   ]
  },
  {
   "cell_type": "code",
   "execution_count": null,
   "metadata": {},
   "outputs": [],
   "source": []
  }
 ],
 "metadata": {
  "kernelspec": {
   "display_name": "Python 3",
   "language": "python",
   "name": "python3"
  },
  "language_info": {
   "codemirror_mode": {
    "name": "ipython",
    "version": 3
   },
   "file_extension": ".py",
   "mimetype": "text/x-python",
   "name": "python",
   "nbconvert_exporter": "python",
   "pygments_lexer": "ipython3",
   "version": "3.7.4"
  },
  "pycharm": {
   "stem_cell": {
    "cell_type": "raw",
    "metadata": {
     "collapsed": false
    },
    "source": []
   }
  }
 },
 "nbformat": 4,
 "nbformat_minor": 2
}
