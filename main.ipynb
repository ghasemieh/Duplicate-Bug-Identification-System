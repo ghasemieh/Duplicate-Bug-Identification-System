{
 "cells": [
  {
   "cell_type": "code",
   "execution_count": 60,
   "metadata": {},
   "outputs": [],
   "source": [
    "#  Copyright (c) 2020.\n",
    "#  Alireza Ghasemieh\n",
    "#  a.ghasemieh65@gmail.com\n",
    "#  https://github.com/ghasemieh\n",
    "\n",
    "from Bugzilla_API import API_data_extract\n",
    "from text_processing import preprocessing\n",
    "import pandas as pd\n",
    "import sqlite3\n",
    "\n",
    "# Extract data from Bugzilla website\n",
    "data_df = API_data_extract('1h')"
   ]
  },
  {
   "cell_type": "code",
   "execution_count": 61,
   "metadata": {
    "pycharm": {
     "name": "#%%\n"
    }
   },
   "outputs": [],
   "source": [
    "# Preprocess the data_df\n",
    "data_list = []\n",
    "for tup in data_df.itertuples():\n",
    "    processed_summary = preprocessing(data_df,tup.id,'summary')\n",
    "    data_list.append([tup.id,tup.product,tup.component,tup.creation_time,tup.summary,processed_summary,tup.status])\n",
    "new_data_df = pd.DataFrame(data_list,columns = [\"id\",\"product\",\"component\",\"creation_time\",\n",
    "                                                \"summary\",\"processed_summary\",\"status\"])"
   ]
  },
  {
   "cell_type": "code",
   "execution_count": 62,
   "metadata": {},
   "outputs": [],
   "source": [
    "# Create db if not exist\n",
    "def create_table():\n",
    "    connection = sqlite3.connect(\"bug_database.db\")\n",
    "    cursor = connection.cursor()\n",
    "    cursor.execute(\"CREATE TABLE IF NOT EXISTS bug_report_table (summary TEXT,\tcomponent TEXT,\t\"\n",
    "               \"status TEXT, id INTEGER, creation_time TEXT, product TEXT, processed_summary TEXT )\")\n",
    "    connection.commit()\n",
    "    connection.close()\n",
    "\n",
    "def insert(id,product,component,creation_time,summary,processed_summary,status):\n",
    "    connection = sqlite3.connect(\"bug_database.db\")\n",
    "    cursor = connection.cursor()\n",
    "    cursor.execute(\"INSERT INTO bug_report_table VALUES(?,?,?,?,?,?,?)\",\n",
    "                   (id,product,component,creation_time,summary,processed_summary,status))\n",
    "    connection.commit()\n",
    "    connection.close()\n",
    "\n",
    "def view():\n",
    "    connection = sqlite3.connect(\"bug_database.db\")\n",
    "    cursor = connection.cursor()\n",
    "    cursor.execute(\"SELECT * FROM bug_report_table\")\n",
    "    rows = cursor.fetchall()\n",
    "    connection.close()\n",
    "    return rows\n",
    "\n",
    "def delete(id):\n",
    "    connection = sqlite3.connect(\"bug_database.db\")\n",
    "    cursor = connection.cursor()\n",
    "    cursor.execute(\"DELETE FROM bug_report_table WHERE id=?\",(id,))\n",
    "    connection.commit()\n",
    "    connection.close()\n",
    "\n",
    "def update(id,processed_summary):\n",
    "    connection = sqlite3.connect(\"bug_database.db\")\n",
    "    cursor = connection.cursor()\n",
    "    cursor.execute(\"UPDATE bug_report_table SET processed_summary=? WHERE id=?\",(processed_summary,id))\n",
    "    connection.commit()\n",
    "    connection.close()\n"
   ]
  },
  {
   "cell_type": "code",
   "execution_count": 63,
   "metadata": {
    "pycharm": {
     "name": "#%%\n"
    }
   },
   "outputs": [],
   "source": [
    "# Save into a SQL database\n",
    "create_table()\n",
    "for tup in new_data_df.itertuples():\n",
    "    insert(tup.id,tup.product,tup.component,tup.creation_time,tup.summary,tup.processed_summary,tup.status)"
   ]
  },
  {
   "cell_type": "code",
   "execution_count": 70,
   "metadata": {
    "scrolled": true
   },
   "outputs": [
    {
     "data": {
      "text/plain": [
       "[('1610194',\n",
       "  'Firefox for Android',\n",
       "  'Testing',\n",
       "  '2020-01-19T19:04:59Z',\n",
       "  'geckodriver cant start session on Firefox preview',\n",
       "  'gecko driver start session firefox preview',\n",
       "  'RESOLVED'),\n",
       " ('1610195',\n",
       "  'Firefox for iOS',\n",
       "  'General',\n",
       "  '2020-01-19T19:11:58Z',\n",
       "  'iOS auto correct/predict dictionary is updated even in Private Browsing mode',\n",
       "  'ios auto correct predict dictionary update',\n",
       "  'UNCONFIRMED'),\n",
       " ('1610196',\n",
       "  'Core',\n",
       "  'DOM: Core & HTML',\n",
       "  '2020-01-19T19:36:57Z',\n",
       "  '[wpt-sync] Sync PR 21252 - Enforce character restrictions for registerProtocolHandler scheme',\n",
       "  'wp sync sync pr enforce character',\n",
       "  'NEW'),\n",
       " ('1610197',\n",
       "  'Firefox',\n",
       "  'Untriaged',\n",
       "  '2020-01-19T19:44:12Z',\n",
       "  'No debugger variable preview when script contains BigInt literal',\n",
       "  'debugger variable preview script cont',\n",
       "  'UNCONFIRMED')]"
      ]
     },
     "execution_count": 70,
     "metadata": {},
     "output_type": "execute_result"
    }
   ],
   "source": [
    "view()"
   ]
  },
  {
   "cell_type": "code",
   "execution_count": 69,
   "metadata": {},
   "outputs": [],
   "source": [
    "delete(1610197)"
   ]
  },
  {
   "cell_type": "code",
   "execution_count": null,
   "metadata": {},
   "outputs": [],
   "source": []
  }
 ],
 "metadata": {
  "kernelspec": {
   "name": "pycharm-d189ed22",
   "language": "python",
   "display_name": "PyCharm (Duplicated Bug Report Detection)"
  },
  "language_info": {
   "codemirror_mode": {
    "name": "ipython",
    "version": 3
   },
   "file_extension": ".py",
   "mimetype": "text/x-python",
   "name": "python",
   "nbconvert_exporter": "python",
   "pygments_lexer": "ipython3",
   "version": "3.7.4"
  },
  "pycharm": {
   "stem_cell": {
    "cell_type": "raw",
    "metadata": {
     "collapsed": false
    },
    "source": []
   }
  }
 },
 "nbformat": 4,
 "nbformat_minor": 2
}