{
 "cells": [
  {
   "cell_type": "code",
   "execution_count": 12,
   "metadata": {},
   "outputs": [],
   "source": [
    "#  Copyright (c) 2020.\n",
    "#  Alireza Ghasemieh\n",
    "#  a.ghasemieh65@gmail.com\n",
    "#  https://github.com/ghasemieh\n",
    "\n",
    "from Bugzilla_API import API_data_extract\n",
    "from text_processing import preprocessing\n",
    "import pandas as pd\n",
    "import sqlite3\n",
    "\n",
    "# Extract data from Bugzilla website\n",
    "data_df = API_data_extract('2h')"
   ]
  },
  {
   "cell_type": "code",
   "execution_count": 34,
   "metadata": {},
   "outputs": [],
   "source": [
    "# Create db if not exist\n",
    "def create_table():\n",
    "    connection = sqlite3.connect(\"bug_database.db\")\n",
    "    cursor = connection.cursor()\n",
    "    cursor.execute(\"CREATE TABLE IF NOT EXISTS bug_report_table (summary TEXT,\tcomponent TEXT,\t\"\n",
    "               \"status TEXT, id INTEGER, creation_time TEXT, product TEXT, processed_summary TEXT )\")\n",
    "    connection.commit()\n",
    "    connection.close()\n",
    "\n",
    "def insert(id,product,component,creation_time,summary,processed_summary,status):\n",
    "    connection = sqlite3.connect(\"bug_database.db\")\n",
    "    cursor = connection.cursor()\n",
    "    cursor.execute(\"INSERT INTO bug_report_table VALUES(?,?,?,?,?,?,?)\",\n",
    "                   (id,product,component,creation_time,summary,processed_summary,status))\n",
    "    connection.commit()\n",
    "    connection.close()\n",
    "\n",
    "def view():\n",
    "    connection = sqlite3.connect(\"bug_database.db\")\n",
    "    cursor = connection.cursor()\n",
    "    cursor.execute(\"SELECT * FROM bug_report_table\")\n",
    "    rows = cursor.fetchall()\n",
    "    connection.close()\n",
    "    return rows\n",
    "\n",
    "def delete(id):\n",
    "    connection = sqlite3.connect(\"bug_database.db\")\n",
    "    cursor = connection.cursor()\n",
    "    cursor.execute(\"DELETE FROM bug_report_table WHERE id=?\",(id,))\n",
    "    connection.commit()\n",
    "    connection.close()"
   ]
  },
  {
   "cell_type": "code",
   "execution_count": null,
   "outputs": [],
   "source": [
    "# Preprocess the data_df\n",
    "data_list = []\n",
    "for tup in data_df.itertuples():\n",
    "    processed_summary = preprocessing(data_df,tup.id,'summary')\n",
    "    data_list.append([tup.id,tup.product,tup.component,tup.creation_time,tup.summary,processed_summary,tup.status])\n",
    "new_data_df = pd.DataFrame(data_list,columns = [\"id\",\"product\",\"component\",\"creation_time\",\"summary\",\"processed_summary\",\"status\"])\n"
   ],
   "metadata": {
    "collapsed": false,
    "pycharm": {
     "name": "#%%\n"
    }
   }
  },
  {
   "cell_type": "code",
   "execution_count": null,
   "outputs": [],
   "source": [
    "# Save into a SQL database\n",
    "create_table()\n",
    "for tup in new_data_df.itertuples():\n",
    "    insert(tup.id,tup.product,tup.component,tup.creation_time,tup.summary,tup.processed_summary,tup.status)\n"
   ],
   "metadata": {
    "collapsed": false,
    "pycharm": {
     "name": "#%%\n"
    }
   }
  },
  {
   "cell_type": "code",
   "execution_count": null,
   "outputs": [],
   "source": [
    "view()"
   ],
   "metadata": {
    "collapsed": false,
    "pycharm": {
     "name": "#%%\n"
    }
   }
  },
  {
   "cell_type": "code",
   "execution_count": null,
   "outputs": [],
   "source": [
    "delete(1610190)"
   ],
   "metadata": {
    "collapsed": false,
    "pycharm": {
     "name": "#%%\n"
    }
   }
  },
  {
   "cell_type": "code",
   "execution_count": null,
   "outputs": [],
   "source": [
    "view()"
   ],
   "metadata": {
    "collapsed": false,
    "pycharm": {
     "name": "#%%\n"
    }
   }
  },
  {
   "cell_type": "code",
   "execution_count": 14,
   "metadata": {},
   "outputs": [],
   "source": []
  },
  {
   "cell_type": "code",
   "execution_count": 15,
   "metadata": {
    "scrolled": true
   },
   "outputs": [],
   "source": [
    "# Save into a SQL database\n",
    "create_table()\n",
    "for tup in new_data_df.itertuples():\n",
    "    insert(tup.id,tup.product,tup.component,tup.creation_time,tup.summary,tup.processed_summary,tup.status)\n"
   ]
  },
  {
   "cell_type": "code",
   "execution_count": 21,
   "metadata": {},
   "outputs": [
    {
     "data": {
      "text/plain": [
       "[('1610190',\n",
       "  'Thunderbird',\n",
       "  'Preferences',\n",
       "  '2020-01-19T17:38:01Z',\n",
       "  'Wrong location of Thunderbird profile directory on MacOS',\n",
       "  'wrong location thunderbird profile director',\n",
       "  'UNCONFIRMED'),\n",
       " ('1610191',\n",
       "  'WebExtensions',\n",
       "  'General',\n",
       "  '2020-01-19T18:09:41Z',\n",
       "  'WebExtensions Find API - highlightResults not working anymore since FF71',\n",
       "  'web extension find api highlight result',\n",
       "  'UNCONFIRMED'),\n",
       " ('1610193',\n",
       "  'Firefox',\n",
       "  'Untriaged',\n",
       "  '2020-01-19T18:40:31Z',\n",
       "  'Memory increases with each reload on youtube',\n",
       "  'memory increase reload youtube',\n",
       "  'UNCONFIRMED'),\n",
       " ('1610194',\n",
       "  'Firefox for Android',\n",
       "  'Testing',\n",
       "  '2020-01-19T19:04:59Z',\n",
       "  'geckodriver cant start session on Firefox preview',\n",
       "  'gecko driver start session firefox preview',\n",
       "  'UNCONFIRMED'),\n",
       " ('1610195',\n",
       "  'Firefox for iOS',\n",
       "  'General',\n",
       "  '2020-01-19T19:11:58Z',\n",
       "  'iOS auto correct/predict dictionary is updated even in Private Browsing mode',\n",
       "  'ios auto correct predict dictionary update',\n",
       "  'UNCONFIRMED')]"
      ]
     },
     "execution_count": 21,
     "metadata": {},
     "output_type": "execute_result"
    }
   ],
   "source": [
    "view()"
   ]
  },
  {
   "cell_type": "code",
   "execution_count": 39,
   "metadata": {},
   "outputs": [],
   "source": [
    "delete(1610190)"
   ]
  },
  {
   "cell_type": "code",
   "execution_count": 40,
   "metadata": {},
   "outputs": [
    {
     "data": {
      "text/plain": [
       "[('1610190',\n",
       "  'Thunderbird',\n",
       "  'Preferences',\n",
       "  '2020-01-19T17:38:01Z',\n",
       "  'Wrong location of Thunderbird profile directory on MacOS',\n",
       "  'wrong location thunderbird profile director',\n",
       "  'UNCONFIRMED'),\n",
       " ('1610191',\n",
       "  'WebExtensions',\n",
       "  'General',\n",
       "  '2020-01-19T18:09:41Z',\n",
       "  'WebExtensions Find API - highlightResults not working anymore since FF71',\n",
       "  'web extension find api highlight result',\n",
       "  'UNCONFIRMED'),\n",
       " ('1610193',\n",
       "  'Firefox',\n",
       "  'Untriaged',\n",
       "  '2020-01-19T18:40:31Z',\n",
       "  'Memory increases with each reload on youtube',\n",
       "  'memory increase reload youtube',\n",
       "  'UNCONFIRMED'),\n",
       " ('1610194',\n",
       "  'Firefox for Android',\n",
       "  'Testing',\n",
       "  '2020-01-19T19:04:59Z',\n",
       "  'geckodriver cant start session on Firefox preview',\n",
       "  'gecko driver start session firefox preview',\n",
       "  'UNCONFIRMED'),\n",
       " ('1610195',\n",
       "  'Firefox for iOS',\n",
       "  'General',\n",
       "  '2020-01-19T19:11:58Z',\n",
       "  'iOS auto correct/predict dictionary is updated even in Private Browsing mode',\n",
       "  'ios auto correct predict dictionary update',\n",
       "  'UNCONFIRMED')]"
      ]
     },
     "execution_count": 40,
     "metadata": {},
     "output_type": "execute_result"
    }
   ],
   "source": [
    "view()"
   ]
  },
  {
   "cell_type": "code",
   "execution_count": null,
   "metadata": {},
   "outputs": [],
   "source": []
  }
 ],
 "metadata": {
  "kernelspec": {
   "display_name": "Python 3",
   "language": "python",
   "name": "python3"
  },
  "language_info": {
   "codemirror_mode": {
    "name": "ipython",
    "version": 3
   },
   "file_extension": ".py",
   "mimetype": "text/x-python",
   "name": "python",
   "nbconvert_exporter": "python",
   "pygments_lexer": "ipython3",
   "version": "3.7.4"
  },
  "pycharm": {
   "stem_cell": {
    "cell_type": "raw",
    "source": [],
    "metadata": {
     "collapsed": false
    }
   }
  }
 },
 "nbformat": 4,
 "nbformat_minor": 2
}