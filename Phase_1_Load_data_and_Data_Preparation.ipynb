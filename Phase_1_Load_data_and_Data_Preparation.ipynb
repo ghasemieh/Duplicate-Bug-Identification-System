{
  "nbformat": 4,
  "nbformat_minor": 0,
  "metadata": {
    "colab": {
      "name": "Phase-1: Load data and Data Preparation.ipynb",
      "provenance": [],
      "collapsed_sections": [],
      "include_colab_link": true
    },
    "kernelspec": {
      "name": "python3",
      "display_name": "Python 3"
    }
  },
  "cells": [
    {
      "cell_type": "markdown",
      "metadata": {
        "id": "view-in-github",
        "colab_type": "text"
      },
      "source": [
        "<a href=\"https://colab.research.google.com/github/ghasemieh/Duplicate-Bug-Identification-System/blob/master/Phase_1_Load_data_and_Data_Preparation.ipynb\" target=\"_parent\"><img src=\"https://colab.research.google.com/assets/colab-badge.svg\" alt=\"Open In Colab\"/></a>"
      ]
    },
    {
      "cell_type": "code",
      "metadata": {
        "id": "2OHHmqSI6H62",
        "colab_type": "code",
        "colab": {}
      },
      "source": [
        "# Phase-1: Load data and Data Preparation"
      ],
      "execution_count": 0,
      "outputs": []
    },
    {
      "cell_type": "code",
      "metadata": {
        "id": "SE3nFMwg6XEB",
        "colab_type": "code",
        "colab": {}
      },
      "source": [
        "import numpy as np\n",
        "import pandas as pd"
      ],
      "execution_count": 0,
      "outputs": []
    },
    {
      "cell_type": "code",
      "metadata": {
        "id": "2DH0GHXC6cQv",
        "colab_type": "code",
        "colab": {}
      },
      "source": [
        "df = pd.read_csv('https://zenodo.org/record/400614/files/apache.csv?download=1',sep=',')"
      ],
      "execution_count": 0,
      "outputs": []
    },
    {
      "cell_type": "code",
      "metadata": {
        "id": "s2YFEE0I6xDi",
        "colab_type": "code",
        "colab": {
          "base_uri": "https://localhost:8080/",
          "height": 356
        },
        "outputId": "38718b89-8884-4ed9-9d43-58e8fedc391c"
      },
      "source": [
        "df.head()"
      ],
      "execution_count": 94,
      "outputs": [
        {
          "output_type": "execute_result",
          "data": {
            "text/html": [
              "<div>\n",
              "<style scoped>\n",
              "    .dataframe tbody tr th:only-of-type {\n",
              "        vertical-align: middle;\n",
              "    }\n",
              "\n",
              "    .dataframe tbody tr th {\n",
              "        vertical-align: top;\n",
              "    }\n",
              "\n",
              "    .dataframe thead th {\n",
              "        text-align: right;\n",
              "    }\n",
              "</style>\n",
              "<table border=\"1\" class=\"dataframe\">\n",
              "  <thead>\n",
              "    <tr style=\"text-align: right;\">\n",
              "      <th></th>\n",
              "      <th>id</th>\n",
              "      <th>product</th>\n",
              "      <th>component</th>\n",
              "      <th>reporter</th>\n",
              "      <th>bug_status</th>\n",
              "      <th>resolution</th>\n",
              "      <th>priority</th>\n",
              "      <th>bug_severity</th>\n",
              "      <th>version</th>\n",
              "      <th>short_desc</th>\n",
              "      <th>opendate</th>\n",
              "      <th>dup_list</th>\n",
              "      <th>root_id</th>\n",
              "      <th>disc_id</th>\n",
              "    </tr>\n",
              "  </thead>\n",
              "  <tbody>\n",
              "    <tr>\n",
              "      <th>0</th>\n",
              "      <td>2</td>\n",
              "      <td>Log4j -</td>\n",
              "      <td>Layout</td>\n",
              "      <td>bugzilla</td>\n",
              "      <td>CLOS</td>\n",
              "      <td>FIXE</td>\n",
              "      <td>P3</td>\n",
              "      <td>nor</td>\n",
              "      <td>unspe</td>\n",
              "      <td>Just testing the Boogzeela setup for log4j</td>\n",
              "      <td>2001-01-08</td>\n",
              "      <td>NaN</td>\n",
              "      <td>NaN</td>\n",
              "      <td>NaN</td>\n",
              "    </tr>\n",
              "    <tr>\n",
              "      <th>1</th>\n",
              "      <td>3</td>\n",
              "      <td>Log4j -</td>\n",
              "      <td>Appender</td>\n",
              "      <td>matthew_scully</td>\n",
              "      <td>RESO</td>\n",
              "      <td>FIXE</td>\n",
              "      <td>P3</td>\n",
              "      <td>nor</td>\n",
              "      <td>unspe</td>\n",
              "      <td>file sharing</td>\n",
              "      <td>2001-01-08</td>\n",
              "      <td>NaN</td>\n",
              "      <td>NaN</td>\n",
              "      <td>NaN</td>\n",
              "    </tr>\n",
              "    <tr>\n",
              "      <th>2</th>\n",
              "      <td>22</td>\n",
              "      <td>Apache h</td>\n",
              "      <td>All</td>\n",
              "      <td>greenrd</td>\n",
              "      <td>CLOS</td>\n",
              "      <td>WONT</td>\n",
              "      <td>P5</td>\n",
              "      <td>enh</td>\n",
              "      <td>2.0-H</td>\n",
              "      <td>Need hooks for user-defined error handling</td>\n",
              "      <td>2001-01-09</td>\n",
              "      <td>NaN</td>\n",
              "      <td>NaN</td>\n",
              "      <td>NaN</td>\n",
              "    </tr>\n",
              "    <tr>\n",
              "      <th>3</th>\n",
              "      <td>27</td>\n",
              "      <td>Log4j -</td>\n",
              "      <td>Layout</td>\n",
              "      <td>richard.mccarthy</td>\n",
              "      <td>RESO</td>\n",
              "      <td>INVA</td>\n",
              "      <td>P1</td>\n",
              "      <td>nor</td>\n",
              "      <td>1.0</td>\n",
              "      <td>Error in the formatting of the (%F:%L) layout ...</td>\n",
              "      <td>2001-01-10</td>\n",
              "      <td>NaN</td>\n",
              "      <td>NaN</td>\n",
              "      <td>NaN</td>\n",
              "    </tr>\n",
              "    <tr>\n",
              "      <th>4</th>\n",
              "      <td>29</td>\n",
              "      <td>Log4j -</td>\n",
              "      <td>Other</td>\n",
              "      <td>woge</td>\n",
              "      <td>RESO</td>\n",
              "      <td>FIXE</td>\n",
              "      <td>P3</td>\n",
              "      <td>nor</td>\n",
              "      <td>1.0</td>\n",
              "      <td>Calling Category.error(Object, Throwable) thro...</td>\n",
              "      <td>2001-01-11</td>\n",
              "      <td>NaN</td>\n",
              "      <td>NaN</td>\n",
              "      <td>NaN</td>\n",
              "    </tr>\n",
              "  </tbody>\n",
              "</table>\n",
              "</div>"
            ],
            "text/plain": [
              "   id   product component  ... dup_list root_id disc_id\n",
              "0   2   Log4j -    Layout  ...      NaN     NaN     NaN\n",
              "1   3   Log4j -  Appender  ...      NaN     NaN     NaN\n",
              "2  22  Apache h       All  ...      NaN     NaN     NaN\n",
              "3  27   Log4j -    Layout  ...      NaN     NaN     NaN\n",
              "4  29   Log4j -     Other  ...      NaN     NaN     NaN\n",
              "\n",
              "[5 rows x 14 columns]"
            ]
          },
          "metadata": {
            "tags": []
          },
          "execution_count": 94
        }
      ]
    },
    {
      "cell_type": "code",
      "metadata": {
        "id": "ZMpAF61yWU-X",
        "colab_type": "code",
        "colab": {
          "base_uri": "https://localhost:8080/",
          "height": 276
        },
        "outputId": "ff6cb40d-6c13-46dc-d098-9e535937b7ab"
      },
      "source": [
        "df.isnull().sum()"
      ],
      "execution_count": 95,
      "outputs": [
        {
          "output_type": "execute_result",
          "data": {
            "text/plain": [
              "id                  0\n",
              "product             0\n",
              "component           0\n",
              "reporter            0\n",
              "bug_status          0\n",
              "resolution          0\n",
              "priority            0\n",
              "bug_severity        0\n",
              "version             0\n",
              "short_desc         58\n",
              "opendate            0\n",
              "dup_list        41531\n",
              "root_id         38016\n",
              "disc_id         38016\n",
              "dtype: int64"
            ]
          },
          "metadata": {
            "tags": []
          },
          "execution_count": 95
        }
      ]
    },
    {
      "cell_type": "code",
      "metadata": {
        "id": "B_bfdghVNWRk",
        "colab_type": "code",
        "colab": {
          "base_uri": "https://localhost:8080/",
          "height": 198
        },
        "outputId": "86603b35-4cae-4313-a3f8-51b7df90622b"
      },
      "source": [
        "df2 = df[['id','short_desc','dup_list']]\n",
        "df2.head()"
      ],
      "execution_count": 96,
      "outputs": [
        {
          "output_type": "execute_result",
          "data": {
            "text/html": [
              "<div>\n",
              "<style scoped>\n",
              "    .dataframe tbody tr th:only-of-type {\n",
              "        vertical-align: middle;\n",
              "    }\n",
              "\n",
              "    .dataframe tbody tr th {\n",
              "        vertical-align: top;\n",
              "    }\n",
              "\n",
              "    .dataframe thead th {\n",
              "        text-align: right;\n",
              "    }\n",
              "</style>\n",
              "<table border=\"1\" class=\"dataframe\">\n",
              "  <thead>\n",
              "    <tr style=\"text-align: right;\">\n",
              "      <th></th>\n",
              "      <th>id</th>\n",
              "      <th>short_desc</th>\n",
              "      <th>dup_list</th>\n",
              "    </tr>\n",
              "  </thead>\n",
              "  <tbody>\n",
              "    <tr>\n",
              "      <th>0</th>\n",
              "      <td>2</td>\n",
              "      <td>Just testing the Boogzeela setup for log4j</td>\n",
              "      <td>NaN</td>\n",
              "    </tr>\n",
              "    <tr>\n",
              "      <th>1</th>\n",
              "      <td>3</td>\n",
              "      <td>file sharing</td>\n",
              "      <td>NaN</td>\n",
              "    </tr>\n",
              "    <tr>\n",
              "      <th>2</th>\n",
              "      <td>22</td>\n",
              "      <td>Need hooks for user-defined error handling</td>\n",
              "      <td>NaN</td>\n",
              "    </tr>\n",
              "    <tr>\n",
              "      <th>3</th>\n",
              "      <td>27</td>\n",
              "      <td>Error in the formatting of the (%F:%L) layout ...</td>\n",
              "      <td>NaN</td>\n",
              "    </tr>\n",
              "    <tr>\n",
              "      <th>4</th>\n",
              "      <td>29</td>\n",
              "      <td>Calling Category.error(Object, Throwable) thro...</td>\n",
              "      <td>NaN</td>\n",
              "    </tr>\n",
              "  </tbody>\n",
              "</table>\n",
              "</div>"
            ],
            "text/plain": [
              "   id                                         short_desc dup_list\n",
              "0   2         Just testing the Boogzeela setup for log4j      NaN\n",
              "1   3                                       file sharing      NaN\n",
              "2  22         Need hooks for user-defined error handling      NaN\n",
              "3  27  Error in the formatting of the (%F:%L) layout ...      NaN\n",
              "4  29  Calling Category.error(Object, Throwable) thro...      NaN"
            ]
          },
          "metadata": {
            "tags": []
          },
          "execution_count": 96
        }
      ]
    },
    {
      "cell_type": "markdown",
      "metadata": {
        "id": "JQSXa5EBMiXA",
        "colab_type": "text"
      },
      "source": [
        "Remove Blank Records"
      ]
    },
    {
      "cell_type": "code",
      "metadata": {
        "id": "rkJdMQ7YMlrP",
        "colab_type": "code",
        "colab": {
          "base_uri": "https://localhost:8080/",
          "height": 34
        },
        "outputId": "9dcb3685-a1e2-4815-fd5e-88579cafd3fb"
      },
      "source": [
        "blanks = []\n",
        "\n",
        "for i in df2.iterrows():\n",
        "    if type(i[1][1])==str:\n",
        "        if i[1][1].isspace():\n",
        "            blanks.append(i[1][0])\n",
        "    else:\n",
        "        blanks.append(i[0])\n",
        "len(blanks)  "
      ],
      "execution_count": 97,
      "outputs": [
        {
          "output_type": "execute_result",
          "data": {
            "text/plain": [
              "58"
            ]
          },
          "metadata": {
            "tags": []
          },
          "execution_count": 97
        }
      ]
    },
    {
      "cell_type": "code",
      "metadata": {
        "id": "x_LoDinDR73y",
        "colab_type": "code",
        "colab": {
          "base_uri": "https://localhost:8080/",
          "height": 173
        },
        "outputId": "804d5e9d-b2b5-4def-fed0-d1c850127b34"
      },
      "source": [
        "df2.drop(blanks,inplace=True)\n",
        "df2.isnull().sum()"
      ],
      "execution_count": 98,
      "outputs": [
        {
          "output_type": "stream",
          "text": [
            "/usr/local/lib/python3.6/dist-packages/pandas/core/frame.py:4117: SettingWithCopyWarning: \n",
            "A value is trying to be set on a copy of a slice from a DataFrame\n",
            "\n",
            "See the caveats in the documentation: http://pandas.pydata.org/pandas-docs/stable/user_guide/indexing.html#returning-a-view-versus-a-copy\n",
            "  errors=errors,\n"
          ],
          "name": "stderr"
        },
        {
          "output_type": "execute_result",
          "data": {
            "text/plain": [
              "id                0\n",
              "short_desc        0\n",
              "dup_list      41474\n",
              "dtype: int64"
            ]
          },
          "metadata": {
            "tags": []
          },
          "execution_count": 98
        }
      ]
    },
    {
      "cell_type": "code",
      "metadata": {
        "id": "GvIqTwrOd9II",
        "colab_type": "code",
        "colab": {}
      },
      "source": [
        ""
      ],
      "execution_count": 0,
      "outputs": []
    }
  ]
}