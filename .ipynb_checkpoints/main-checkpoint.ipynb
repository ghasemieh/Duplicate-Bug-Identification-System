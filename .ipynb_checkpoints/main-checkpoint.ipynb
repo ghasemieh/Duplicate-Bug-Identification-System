{
 "cells": [
  {
   "cell_type": "code",
   "execution_count": 12,
   "metadata": {},
   "outputs": [],
   "source": [
    "#  Copyright (c) 2020.\n",
    "#  Alireza Ghasemieh\n",
    "#  a.ghasemieh65@gmail.com\n",
    "#  https://github.com/ghasemieh\n",
    "\n",
    "from Bugzilla_API import API_data_extract\n",
    "from text_processing import preprocessing\n",
    "import pandas as pd\n",
    "import sqlite3\n",
    "\n",
    "# Extract data from Bugzilla website\n",
    "data_df = API_data_extract('2h')"
   ]
  },
  {
   "cell_type": "code",
   "execution_count": null,
   "metadata": {
    "pycharm": {
     "name": "#%%\n"
    }
   },
   "outputs": [],
   "source": [
    "# Preprocess the data_df\n",
    "data_list = []\n",
    "for tup in data_df.itertuples():\n",
    "    processed_summary = preprocessing(data_df,tup.id,'summary')\n",
    "    data_list.append([tup.id,tup.product,tup.component,tup.creation_time,tup.summary,processed_summary,tup.status])\n",
    "new_data_df = pd.DataFrame(data_list,columns = [\"id\",\"product\",\"component\",\"creation_time\",\n",
    "                                                \"summary\",\"processed_summary\",\"status\"])"
   ]
  },
  {
   "cell_type": "code",
   "execution_count": 44,
   "metadata": {},
   "outputs": [],
   "source": [
    "# Create db if not exist\n",
    "def create_table():\n",
    "    connection = sqlite3.connect(\"bug_database.db\")\n",
    "    cursor = connection.cursor()\n",
    "    cursor.execute(\"CREATE TABLE IF NOT EXISTS bug_report_table (summary TEXT,\tcomponent TEXT,\t\"\n",
    "               \"status TEXT, id INTEGER, creation_time TEXT, product TEXT, processed_summary TEXT )\")\n",
    "    connection.commit()\n",
    "    connection.close()\n",
    "\n",
    "def insert(id,product,component,creation_time,summary,processed_summary,status):\n",
    "    connection = sqlite3.connect(\"bug_database.db\")\n",
    "    cursor = connection.cursor()\n",
    "    cursor.execute(\"INSERT INTO bug_report_table VALUES(?,?,?,?,?,?,?)\",\n",
    "                   (id,product,component,creation_time,summary,processed_summary,status))\n",
    "    connection.commit()\n",
    "    connection.close()\n",
    "\n",
    "def view():\n",
    "    connection = sqlite3.connect(\"bug_database.db\")\n",
    "    cursor = connection.cursor()\n",
    "    cursor.execute(\"SELECT * FROM bug_report_table\")\n",
    "    rows = cursor.fetchall()\n",
    "    connection.close()\n",
    "    return rows\n",
    "\n",
    "def delete(id):\n",
    "    connection = sqlite3.connect(\"bug_database.db\")\n",
    "    cursor = connection.cursor()\n",
    "    cursor.execute(\"DELETE FROM bug_report_table WHERE id=?\",(id,))\n",
    "    connection.commit()\n",
    "    connection.close()\n",
    "\n",
    "def update(id,processed_summary):\n",
    "    connection = sqlite3.connect(\"bug_database.db\")\n",
    "    cursor = connection.cursor()\n",
    "    cursor.execute(\"UPDATE bug_report_table SET processed_summary=? WHERE id=?\",(processed_summary,id))\n",
    "    connection.commit()\n",
    "    connection.close()\n"
   ]
  },
  {
   "cell_type": "code",
   "execution_count": null,
   "metadata": {
    "pycharm": {
     "name": "#%%\n"
    }
   },
   "outputs": [],
   "source": [
    "# Save into a SQL database\n",
    "create_table()\n",
    "for tup in new_data_df.itertuples():\n",
    "    insert(tup.id,tup.product,tup.component,tup.creation_time,tup.summary,tup.processed_summary,tup.status)"
   ]
  },
  {
   "cell_type": "code",
   "execution_count": null,
   "metadata": {},
   "outputs": [],
   "source": []
  }
 ],
 "metadata": {
  "kernelspec": {
   "display_name": "Python 3",
   "language": "python",
   "name": "python3"
  },
  "language_info": {
   "codemirror_mode": {
    "name": "ipython",
    "version": 3
   },
   "file_extension": ".py",
   "mimetype": "text/x-python",
   "name": "python",
   "nbconvert_exporter": "python",
   "pygments_lexer": "ipython3",
   "version": "3.7.4"
  },
  "pycharm": {
   "stem_cell": {
    "cell_type": "raw",
    "metadata": {
     "collapsed": false
    },
    "source": []
   }
  }
 },
 "nbformat": 4,
 "nbformat_minor": 2
}
