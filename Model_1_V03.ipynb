{
  "nbformat": 4,
  "nbformat_minor": 0,
  "metadata": {
    "colab": {
      "name": "Model-1_V03.ipynb",
      "provenance": [],
      "collapsed_sections": [],
      "include_colab_link": true
    },
    "kernelspec": {
      "display_name": "Python 3",
      "language": "python",
      "name": "python3"
    },
    "language_info": {
      "codemirror_mode": {
        "name": "ipython",
        "version": 3
      },
      "file_extension": ".py",
      "mimetype": "text/x-python",
      "name": "python",
      "nbconvert_exporter": "python",
      "pygments_lexer": "ipython3",
      "version": "3.7.3"
    }
  },
  "cells": [
    {
      "cell_type": "markdown",
      "metadata": {
        "id": "view-in-github",
        "colab_type": "text"
      },
      "source": [
        "<a href=\"https://colab.research.google.com/github/ghasemieh/Duplicate-Bug-Identification-System/blob/master/Model_1_V03.ipynb\" target=\"_parent\"><img src=\"https://colab.research.google.com/assets/colab-badge.svg\" alt=\"Open In Colab\"/></a>"
      ]
    },
    {
      "cell_type": "code",
      "metadata": {
        "colab_type": "code",
        "id": "2OHHmqSI6H62",
        "colab": {}
      },
      "source": [
        "# Model-1-V3"
      ],
      "execution_count": 0,
      "outputs": []
    },
    {
      "cell_type": "code",
      "metadata": {
        "colab_type": "code",
        "id": "SE3nFMwg6XEB",
        "colab": {}
      },
      "source": [
        "import numpy as np\n",
        "import pandas as pd\n",
        "import warnings\n",
        "warnings.filterwarnings('ignore')"
      ],
      "execution_count": 0,
      "outputs": []
    },
    {
      "cell_type": "code",
      "metadata": {
        "colab_type": "code",
        "id": "2DH0GHXC6cQv",
        "colab": {}
      },
      "source": [
        "data = pd.read_csv('https://zenodo.org/record/400614/files/apache.csv?download=1',sep=',')"
      ],
      "execution_count": 0,
      "outputs": []
    },
    {
      "cell_type": "code",
      "metadata": {
        "colab_type": "code",
        "id": "s2YFEE0I6xDi",
        "outputId": "8180c02d-5810-4b69-affe-fb708c48f4b7",
        "colab": {
          "base_uri": "https://localhost:8080/",
          "height": 280
        }
      },
      "source": [
        "data.head()"
      ],
      "execution_count": 0,
      "outputs": [
        {
          "output_type": "execute_result",
          "data": {
            "text/html": [
              "<div>\n",
              "<style scoped>\n",
              "    .dataframe tbody tr th:only-of-type {\n",
              "        vertical-align: middle;\n",
              "    }\n",
              "\n",
              "    .dataframe tbody tr th {\n",
              "        vertical-align: top;\n",
              "    }\n",
              "\n",
              "    .dataframe thead th {\n",
              "        text-align: right;\n",
              "    }\n",
              "</style>\n",
              "<table border=\"1\" class=\"dataframe\">\n",
              "  <thead>\n",
              "    <tr style=\"text-align: right;\">\n",
              "      <th></th>\n",
              "      <th>id</th>\n",
              "      <th>product</th>\n",
              "      <th>component</th>\n",
              "      <th>reporter</th>\n",
              "      <th>bug_status</th>\n",
              "      <th>resolution</th>\n",
              "      <th>priority</th>\n",
              "      <th>bug_severity</th>\n",
              "      <th>version</th>\n",
              "      <th>short_desc</th>\n",
              "      <th>opendate</th>\n",
              "      <th>dup_list</th>\n",
              "      <th>root_id</th>\n",
              "      <th>disc_id</th>\n",
              "    </tr>\n",
              "  </thead>\n",
              "  <tbody>\n",
              "    <tr>\n",
              "      <th>0</th>\n",
              "      <td>2</td>\n",
              "      <td>Log4j -</td>\n",
              "      <td>Layout</td>\n",
              "      <td>bugzilla</td>\n",
              "      <td>CLOS</td>\n",
              "      <td>FIXE</td>\n",
              "      <td>P3</td>\n",
              "      <td>nor</td>\n",
              "      <td>unspe</td>\n",
              "      <td>Just testing the Boogzeela setup for log4j</td>\n",
              "      <td>2001-01-08</td>\n",
              "      <td>NaN</td>\n",
              "      <td>NaN</td>\n",
              "      <td>NaN</td>\n",
              "    </tr>\n",
              "    <tr>\n",
              "      <th>1</th>\n",
              "      <td>3</td>\n",
              "      <td>Log4j -</td>\n",
              "      <td>Appender</td>\n",
              "      <td>matthew_scully</td>\n",
              "      <td>RESO</td>\n",
              "      <td>FIXE</td>\n",
              "      <td>P3</td>\n",
              "      <td>nor</td>\n",
              "      <td>unspe</td>\n",
              "      <td>file sharing</td>\n",
              "      <td>2001-01-08</td>\n",
              "      <td>NaN</td>\n",
              "      <td>NaN</td>\n",
              "      <td>NaN</td>\n",
              "    </tr>\n",
              "    <tr>\n",
              "      <th>2</th>\n",
              "      <td>22</td>\n",
              "      <td>Apache h</td>\n",
              "      <td>All</td>\n",
              "      <td>greenrd</td>\n",
              "      <td>CLOS</td>\n",
              "      <td>WONT</td>\n",
              "      <td>P5</td>\n",
              "      <td>enh</td>\n",
              "      <td>2.0-H</td>\n",
              "      <td>Need hooks for user-defined error handling</td>\n",
              "      <td>2001-01-09</td>\n",
              "      <td>NaN</td>\n",
              "      <td>NaN</td>\n",
              "      <td>NaN</td>\n",
              "    </tr>\n",
              "    <tr>\n",
              "      <th>3</th>\n",
              "      <td>27</td>\n",
              "      <td>Log4j -</td>\n",
              "      <td>Layout</td>\n",
              "      <td>richard.mccarthy</td>\n",
              "      <td>RESO</td>\n",
              "      <td>INVA</td>\n",
              "      <td>P1</td>\n",
              "      <td>nor</td>\n",
              "      <td>1.0</td>\n",
              "      <td>Error in the formatting of the (%F:%L) layout ...</td>\n",
              "      <td>2001-01-10</td>\n",
              "      <td>NaN</td>\n",
              "      <td>NaN</td>\n",
              "      <td>NaN</td>\n",
              "    </tr>\n",
              "    <tr>\n",
              "      <th>4</th>\n",
              "      <td>29</td>\n",
              "      <td>Log4j -</td>\n",
              "      <td>Other</td>\n",
              "      <td>woge</td>\n",
              "      <td>RESO</td>\n",
              "      <td>FIXE</td>\n",
              "      <td>P3</td>\n",
              "      <td>nor</td>\n",
              "      <td>1.0</td>\n",
              "      <td>Calling Category.error(Object, Throwable) thro...</td>\n",
              "      <td>2001-01-11</td>\n",
              "      <td>NaN</td>\n",
              "      <td>NaN</td>\n",
              "      <td>NaN</td>\n",
              "    </tr>\n",
              "  </tbody>\n",
              "</table>\n",
              "</div>"
            ],
            "text/plain": [
              "   id   product component          reporter bug_status resolution priority  \\\n",
              "0   2   Log4j -    Layout          bugzilla       CLOS       FIXE       P3   \n",
              "1   3   Log4j -  Appender    matthew_scully       RESO       FIXE       P3   \n",
              "2  22  Apache h       All           greenrd       CLOS       WONT       P5   \n",
              "3  27   Log4j -    Layout  richard.mccarthy       RESO       INVA       P1   \n",
              "4  29   Log4j -     Other              woge       RESO       FIXE       P3   \n",
              "\n",
              "  bug_severity version                                         short_desc  \\\n",
              "0          nor   unspe         Just testing the Boogzeela setup for log4j   \n",
              "1          nor   unspe                                       file sharing   \n",
              "2          enh   2.0-H         Need hooks for user-defined error handling   \n",
              "3          nor     1.0  Error in the formatting of the (%F:%L) layout ...   \n",
              "4          nor     1.0  Calling Category.error(Object, Throwable) thro...   \n",
              "\n",
              "     opendate dup_list  root_id  disc_id  \n",
              "0  2001-01-08      NaN      NaN      NaN  \n",
              "1  2001-01-08      NaN      NaN      NaN  \n",
              "2  2001-01-09      NaN      NaN      NaN  \n",
              "3  2001-01-10      NaN      NaN      NaN  \n",
              "4  2001-01-11      NaN      NaN      NaN  "
            ]
          },
          "metadata": {
            "tags": []
          },
          "execution_count": 63
        }
      ]
    },
    {
      "cell_type": "markdown",
      "metadata": {
        "colab_type": "text",
        "id": "OQ0xb5ISqvwh"
      },
      "source": [
        "**Remove NaN from the short_desc**"
      ]
    },
    {
      "cell_type": "code",
      "metadata": {
        "colab_type": "code",
        "id": "ZMpAF61yWU-X",
        "outputId": "6418f0dc-9204-44c4-d667-e65431d26378",
        "colab": {
          "base_uri": "https://localhost:8080/",
          "height": 268
        }
      },
      "source": [
        "data.isnull().sum()"
      ],
      "execution_count": 0,
      "outputs": [
        {
          "output_type": "execute_result",
          "data": {
            "text/plain": [
              "id                  0\n",
              "product             0\n",
              "component           0\n",
              "reporter            0\n",
              "bug_status          0\n",
              "resolution          0\n",
              "priority            0\n",
              "bug_severity        0\n",
              "version             0\n",
              "short_desc         58\n",
              "opendate            0\n",
              "dup_list        41531\n",
              "root_id         38016\n",
              "disc_id         38016\n",
              "dtype: int64"
            ]
          },
          "metadata": {
            "tags": []
          },
          "execution_count": 64
        }
      ]
    },
    {
      "cell_type": "code",
      "metadata": {
        "colab_type": "code",
        "id": "B_bfdghVNWRk",
        "outputId": "f1baee68-a46e-4640-b37f-7572493f7ef8",
        "colab": {
          "base_uri": "https://localhost:8080/",
          "height": 196
        }
      },
      "source": [
        "df = data[['id','product','short_desc','dup_list']]\n",
        "df.head()"
      ],
      "execution_count": 0,
      "outputs": [
        {
          "output_type": "execute_result",
          "data": {
            "text/html": [
              "<div>\n",
              "<style scoped>\n",
              "    .dataframe tbody tr th:only-of-type {\n",
              "        vertical-align: middle;\n",
              "    }\n",
              "\n",
              "    .dataframe tbody tr th {\n",
              "        vertical-align: top;\n",
              "    }\n",
              "\n",
              "    .dataframe thead th {\n",
              "        text-align: right;\n",
              "    }\n",
              "</style>\n",
              "<table border=\"1\" class=\"dataframe\">\n",
              "  <thead>\n",
              "    <tr style=\"text-align: right;\">\n",
              "      <th></th>\n",
              "      <th>id</th>\n",
              "      <th>product</th>\n",
              "      <th>short_desc</th>\n",
              "      <th>dup_list</th>\n",
              "    </tr>\n",
              "  </thead>\n",
              "  <tbody>\n",
              "    <tr>\n",
              "      <th>0</th>\n",
              "      <td>2</td>\n",
              "      <td>Log4j -</td>\n",
              "      <td>Just testing the Boogzeela setup for log4j</td>\n",
              "      <td>NaN</td>\n",
              "    </tr>\n",
              "    <tr>\n",
              "      <th>1</th>\n",
              "      <td>3</td>\n",
              "      <td>Log4j -</td>\n",
              "      <td>file sharing</td>\n",
              "      <td>NaN</td>\n",
              "    </tr>\n",
              "    <tr>\n",
              "      <th>2</th>\n",
              "      <td>22</td>\n",
              "      <td>Apache h</td>\n",
              "      <td>Need hooks for user-defined error handling</td>\n",
              "      <td>NaN</td>\n",
              "    </tr>\n",
              "    <tr>\n",
              "      <th>3</th>\n",
              "      <td>27</td>\n",
              "      <td>Log4j -</td>\n",
              "      <td>Error in the formatting of the (%F:%L) layout ...</td>\n",
              "      <td>NaN</td>\n",
              "    </tr>\n",
              "    <tr>\n",
              "      <th>4</th>\n",
              "      <td>29</td>\n",
              "      <td>Log4j -</td>\n",
              "      <td>Calling Category.error(Object, Throwable) thro...</td>\n",
              "      <td>NaN</td>\n",
              "    </tr>\n",
              "  </tbody>\n",
              "</table>\n",
              "</div>"
            ],
            "text/plain": [
              "   id   product                                         short_desc dup_list\n",
              "0   2   Log4j -         Just testing the Boogzeela setup for log4j      NaN\n",
              "1   3   Log4j -                                       file sharing      NaN\n",
              "2  22  Apache h         Need hooks for user-defined error handling      NaN\n",
              "3  27   Log4j -  Error in the formatting of the (%F:%L) layout ...      NaN\n",
              "4  29   Log4j -  Calling Category.error(Object, Throwable) thro...      NaN"
            ]
          },
          "metadata": {
            "tags": []
          },
          "execution_count": 65
        }
      ]
    },
    {
      "cell_type": "code",
      "metadata": {
        "colab_type": "code",
        "id": "yiPGf1eMFaa_",
        "outputId": "11f3ccaa-09a9-48f7-ea76-681da5897fcc",
        "colab": {
          "base_uri": "https://localhost:8080/",
          "height": 33
        }
      },
      "source": [
        "df.shape"
      ],
      "execution_count": 0,
      "outputs": [
        {
          "output_type": "execute_result",
          "data": {
            "text/plain": [
              "(44049, 4)"
            ]
          },
          "metadata": {
            "tags": []
          },
          "execution_count": 66
        }
      ]
    },
    {
      "cell_type": "markdown",
      "metadata": {
        "colab_type": "text",
        "id": "JQSXa5EBMiXA"
      },
      "source": [
        "Remove Blank Records"
      ]
    },
    {
      "cell_type": "code",
      "metadata": {
        "colab_type": "code",
        "id": "Hdo7ksWKBANr",
        "outputId": "ad27b787-a108-42c2-f806-2eaa69b0bccb",
        "colab": {
          "base_uri": "https://localhost:8080/",
          "height": 33
        }
      },
      "source": [
        "blanks = []\n",
        "\n",
        "for i,id,pro,sd,dl in df.itertuples():\n",
        "    if type(sd)==str:\n",
        "        if sd.isspace():\n",
        "            blanks.append(i)\n",
        "    else:\n",
        "        blanks.append(i)\n",
        "len(blanks)  "
      ],
      "execution_count": 0,
      "outputs": [
        {
          "output_type": "execute_result",
          "data": {
            "text/plain": [
              "58"
            ]
          },
          "metadata": {
            "tags": []
          },
          "execution_count": 67
        }
      ]
    },
    {
      "cell_type": "code",
      "metadata": {
        "colab_type": "code",
        "id": "x_LoDinDR73y",
        "outputId": "713e5579-4afe-493e-cbd6-03fa7cc78ec2",
        "colab": {
          "base_uri": "https://localhost:8080/",
          "height": 84
        }
      },
      "source": [
        "df.drop(blanks,inplace=True)\n",
        "df.isnull().sum()"
      ],
      "execution_count": 0,
      "outputs": [
        {
          "output_type": "execute_result",
          "data": {
            "text/plain": [
              "id                0\n",
              "product           0\n",
              "short_desc        0\n",
              "dup_list      41474\n",
              "dtype: int64"
            ]
          },
          "metadata": {
            "tags": []
          },
          "execution_count": 68
        }
      ]
    },
    {
      "cell_type": "markdown",
      "metadata": {
        "colab_type": "text",
        "id": "i9wKRmjEqipx"
      },
      "source": [
        "**Similarity Methods:**"
      ]
    },
    {
      "cell_type": "code",
      "metadata": {
        "colab_type": "code",
        "id": "0vbHfZFrs_Ab",
        "colab": {}
      },
      "source": [
        "#conda install -c conda-forge spacy\n",
        "#conda install -c conda-forge spacy-lookups-data\n",
        "#!python -m spacy download en_core_web_lg"
      ],
      "execution_count": 0,
      "outputs": []
    },
    {
      "cell_type": "code",
      "metadata": {
        "colab_type": "code",
        "id": "FkXVudYKs-5g",
        "colab": {}
      },
      "source": [
        "import spacy\n",
        "from spacy import displacy\n",
        "nlp = spacy.load('en_core_web_lg')"
      ],
      "execution_count": 0,
      "outputs": []
    },
    {
      "cell_type": "code",
      "metadata": {
        "colab_type": "code",
        "id": "JGomxQMNLrp9",
        "colab": {}
      },
      "source": [
        "def tokenize(df,id):\n",
        "    s = df[df['id'] == id]\n",
        "    s = s.short_desc.to_string(index=False)\n",
        "    s = s[1:]\n",
        "    # print ('\\n'+ s)\n",
        "    doc = nlp(s)\n",
        "    #for token in doc:\n",
        "    #    print(token.text, end=' | ')\n",
        "    #displacy.render(doc, style='dep', jupyter=True, options={'distance': 110})    \n",
        "    return doc"
      ],
      "execution_count": 0,
      "outputs": []
    },
    {
      "cell_type": "code",
      "metadata": {
        "colab_type": "code",
        "id": "NipiWogUpnAS",
        "colab": {}
      },
      "source": [
        "doc1 = tokenize(df,355)\n",
        "doc2 = tokenize(df,475)"
      ],
      "execution_count": 0,
      "outputs": []
    },
    {
      "cell_type": "markdown",
      "metadata": {
        "colab_type": "text",
        "id": "YGxSTtiVsZ7G"
      },
      "source": [
        "**Remove Puntuations**"
      ]
    },
    {
      "cell_type": "code",
      "metadata": {
        "id": "Voxknt6TAFtX",
        "colab_type": "code",
        "colab": {}
      },
      "source": [
        "def show_lemmas(text):\n",
        "    for token in text:\n",
        "        print(f'{token.text:{20}} {token.pos_:{6}} {token.lemma:<{22}} {token.lemma_}')"
      ],
      "execution_count": 0,
      "outputs": []
    },
    {
      "cell_type": "code",
      "metadata": {
        "colab_type": "code",
        "id": "mcvbSn9msGJi",
        "colab": {}
      },
      "source": [
        "#Remove Puntuations\n",
        "def remove_puntuation(doc):\n",
        "    #show_lemmas(doc)\n",
        "    s = []\n",
        "    for token in doc:\n",
        "        if token.is_punct == False:\n",
        "            s.append(token) \n",
        "    #Convert list to string\n",
        "    str1 = \"\"    \n",
        "    for ele in s:  \n",
        "        str1 += str(ele) +' '     \n",
        "    return nlp(str1[:-1]) #return doc "
      ],
      "execution_count": 0,
      "outputs": []
    },
    {
      "cell_type": "code",
      "metadata": {
        "colab_type": "code",
        "id": "DDdZJxXLKNUe",
        "scrolled": false,
        "colab": {}
      },
      "source": [
        "doc1 = remove_puntuation(doc1)"
      ],
      "execution_count": 0,
      "outputs": []
    },
    {
      "cell_type": "code",
      "metadata": {
        "id": "SQ3ioP7jAFtg",
        "colab_type": "code",
        "colab": {}
      },
      "source": [
        "doc2 = remove_puntuation(doc2)"
      ],
      "execution_count": 0,
      "outputs": []
    },
    {
      "cell_type": "code",
      "metadata": {
        "id": "wra9WtqSAFtk",
        "colab_type": "code",
        "colab": {}
      },
      "source": [
        "#show_lemmas(doc1)"
      ],
      "execution_count": 0,
      "outputs": []
    },
    {
      "cell_type": "markdown",
      "metadata": {
        "colab_type": "text",
        "id": "huwA6wefshoo"
      },
      "source": [
        "**Remove Stop Words**"
      ]
    },
    {
      "cell_type": "code",
      "metadata": {
        "colab_type": "code",
        "id": "UM71UlIenU7Q",
        "colab": {}
      },
      "source": [
        "#Remove Stop Words\n",
        "def remove_stop_word(doc): # accept string\n",
        "    s = []\n",
        "    for token in doc:\n",
        "        if token.is_stop == False:\n",
        "            s.append(token) \n",
        "    #Convert list to string\n",
        "    str1 = \"\"    \n",
        "    for ele in s:  \n",
        "        str1 += str(ele) +' '     \n",
        "    return nlp(str1[:-1]) #return doc "
      ],
      "execution_count": 0,
      "outputs": []
    },
    {
      "cell_type": "code",
      "metadata": {
        "colab_type": "code",
        "id": "nNtH4u6HJzCS",
        "scrolled": true,
        "colab": {},
        "outputId": "9be3ca4c-3cf9-4561-a692-b6c25787e7e9"
      },
      "source": [
        "doc1 = remove_stop_word(doc1)\n",
        "doc1.text"
      ],
      "execution_count": 0,
      "outputs": [
        {
          "output_type": "execute_result",
          "data": {
            "text/plain": [
              "'request.getCookies work BugRat Repor'"
            ]
          },
          "metadata": {
            "tags": []
          },
          "execution_count": 79
        }
      ]
    },
    {
      "cell_type": "code",
      "metadata": {
        "id": "GNg4xbv_AFtx",
        "colab_type": "code",
        "colab": {},
        "outputId": "4f6f91eb-9525-4b9d-eb6d-8b1b6b839d97"
      },
      "source": [
        "doc2 = remove_stop_word(doc2)\n",
        "doc2.text"
      ],
      "execution_count": 0,
      "outputs": [
        {
          "output_type": "execute_result",
          "data": {
            "text/plain": [
              "'SimpleTcpConnector work BugRat Report#802'"
            ]
          },
          "metadata": {
            "tags": []
          },
          "execution_count": 80
        }
      ]
    },
    {
      "cell_type": "code",
      "metadata": {
        "colab_type": "code",
        "id": "Xk2V1MpWu0AL",
        "outputId": "1650fc91-07ac-43af-8ecd-55ab73d1858f",
        "colab": {
          "base_uri": "https://localhost:8080/",
          "height": 33
        }
      },
      "source": [
        "print('Similarity: ' + str(doc1.similarity(doc2)))"
      ],
      "execution_count": 0,
      "outputs": [
        {
          "output_type": "stream",
          "text": [
            "Similarity: 0.9999999906303305\n"
          ],
          "name": "stdout"
        }
      ]
    },
    {
      "cell_type": "markdown",
      "metadata": {
        "colab_type": "text",
        "id": "-lFFeJjDfQyB"
      },
      "source": [
        "**Build a function of all previous work**"
      ]
    },
    {
      "cell_type": "code",
      "metadata": {
        "colab_type": "code",
        "id": "XRrXNv_fyGUx",
        "colab": {}
      },
      "source": [
        "# Put all prevouse work together in a function\n",
        "def prep_func(df,id):\n",
        "    s = tokenize(df,id)\n",
        "    s = remove_puntuation(s)\n",
        "    doc = remove_stop_word(s)\n",
        "    return doc"
      ],
      "execution_count": 0,
      "outputs": []
    },
    {
      "cell_type": "code",
      "metadata": {
        "colab_type": "code",
        "id": "CsB9wctvXbxm",
        "scrolled": true,
        "colab": {},
        "outputId": "fd97f297-45cf-4d0a-b338-948537963a43"
      },
      "source": [
        "# Prepare the vectors for each document\n",
        "import time\n",
        "\n",
        "start_time = time.time()\n",
        "c = 0\n",
        "prepared = []\n",
        "l = len(df.index)\n",
        "\n",
        "for i,id,pro,sd,db in df.itertuples():\n",
        "    c = c + 1\n",
        "    doc = prep_func(df,id)\n",
        "    prepared.append((id,pro,doc))\n",
        "    \n",
        "    # Show the progress in the output\n",
        "    c = c + 1\n",
        "    if c % 100 == 0:\n",
        "        progress = c/l*100\n",
        "        print('Progress: %s %%' % round(progress, 2), end=\"\\r\", flush=True)\n",
        "    if c > 1000:\n",
        "        print('\\nDone')\n",
        "        break\n",
        "print(\"--- %s seconds ---\" % (time.time() - start_time))  # show the time of process"
      ],
      "execution_count": 0,
      "outputs": [
        {
          "output_type": "stream",
          "text": [
            "Progress: 2.27 %\n",
            "Done\n",
            "--- 13.354298114776611 seconds ---\n"
          ],
          "name": "stdout"
        }
      ]
    },
    {
      "cell_type": "code",
      "metadata": {
        "colab_type": "code",
        "id": "Wozx-5ShYEXj",
        "outputId": "430a698b-42b8-4bb9-af1f-cbea4b9ca56b",
        "colab": {
          "base_uri": "https://localhost:8080/",
          "height": 117
        }
      },
      "source": [
        "c = 0\n",
        "for i in prepared:\n",
        "    print(i[0], '\\t',i[1], '\\t', i[2].text)\n",
        "    c = c + 1\n",
        "    if c > 5:\n",
        "        break"
      ],
      "execution_count": 0,
      "outputs": [
        {
          "output_type": "stream",
          "text": [
            "2 \t Log4j - \t testing Boogzeela setup log4j\n",
            "3 \t Log4j - \t file sharing\n",
            "22 \t Apache h \t Need hooks user defined error handling\n",
            "27 \t Log4j - \t Error formatting F:%L layout\n",
            "29 \t Log4j - \t Calling Category.error(Object Throwable thro\n",
            "31 \t Log4j - \t Conversion log4j Priority types NT Event\n"
          ],
          "name": "stdout"
        }
      ]
    },
    {
      "cell_type": "code",
      "metadata": {
        "colab_type": "code",
        "id": "It9SV878P1JL",
        "colab": {},
        "outputId": "e4bbe9de-1bdb-4ef0-a6a8-895246b3d696"
      },
      "source": [
        "# Calculate one by one similarity score\n",
        "# x[0]: id , x[1]: product, x[2]: short_desc\n",
        "\n",
        "start_time = time.time()\n",
        "similarities = []\n",
        "l = len(prepared)\n",
        "c = 0\n",
        "\n",
        "for i in prepared:\n",
        "    c = c + 1\n",
        "    for j in prepared:\n",
        "        if i[1] == j[1]: # if two bug reports belong to the same product then check the similarity\n",
        "            score = i[2].similarity(j[2])\n",
        "            similarities.append((i[0],j[0],score))\n",
        "            \n",
        "    # Show the progress in the output        \n",
        "    if c % 10 == 0:\n",
        "        progress = c/l*100\n",
        "        print('Progress: %s %%' % round(progress, 1), end=\"\\r\", flush=True)\n",
        "print('\\nDone')\n",
        "print(\"--- %s seconds ---\" % (time.time() - start_time)) # show the time of process"
      ],
      "execution_count": 0,
      "outputs": [
        {
          "output_type": "stream",
          "text": [
            "Progress: 99.8 %\n",
            "Done\n",
            "--- 73.9271948337555 seconds ---\n"
          ],
          "name": "stdout"
        }
      ]
    },
    {
      "cell_type": "code",
      "metadata": {
        "id": "jw08fd9KAFuA",
        "colab_type": "code",
        "colab": {}
      },
      "source": [
        "# Sort based on the score\n",
        "sorted_similarities = sorted(similarities, key=lambda tup: tup[2], reverse=True)"
      ],
      "execution_count": 0,
      "outputs": []
    },
    {
      "cell_type": "code",
      "metadata": {
        "id": "fQCd_NaCAFuC",
        "colab_type": "code",
        "colab": {},
        "outputId": "4426eac9-72d0-42bd-a4c3-c238436769c0"
      },
      "source": [
        "sorted_similarities[510:530]"
      ],
      "execution_count": 0,
      "outputs": [
        {
          "output_type": "execute_result",
          "data": {
            "text/plain": [
              "[(566, 566, 1.0),\n",
              " (567, 567, 1.0),\n",
              " (569, 569, 1.0),\n",
              " (355, 475, 0.9999999906303305),\n",
              " (475, 355, 0.9999999906303305),\n",
              " (373, 441, 0.9999999741066152),\n",
              " (441, 373, 0.9999999741066152),\n",
              " (317, 341, 0.9673615744389031),\n",
              " (341, 317, 0.9673615744389031),\n",
              " (144, 145, 0.955040353250707),\n",
              " (145, 144, 0.955040353250707),\n",
              " (101, 483, 0.9373680380808607),\n",
              " (483, 101, 0.9373680380808607),\n",
              " (44, 66, 0.9349526529218797),\n",
              " (66, 44, 0.9349526529218797),\n",
              " (45, 71, 0.9278628880921946),\n",
              " (71, 45, 0.9278628880921946),\n",
              " (94, 426, 0.893976882234901),\n",
              " (426, 94, 0.893976882234901),\n",
              " (291, 315, 0.8936179344666283),\n",
              " (315, 291, 0.8936179344666283),\n",
              " (185, 293, 0.8873870969586577),\n",
              " (293, 185, 0.8873870969586577),\n",
              " (152, 267, 0.8863471569584803),\n",
              " (267, 152, 0.8863471569584803),\n",
              " (86, 181, 0.8858457011580854),\n",
              " (181, 86, 0.8858457011580854),\n",
              " (270, 527, 0.8780640978312688),\n",
              " (527, 270, 0.8780640978312688),\n",
              " (452, 453, 0.8777453865602048),\n",
              " (453, 452, 0.8777453865602048),\n",
              " (284, 315, 0.8694118939450673),\n",
              " (315, 284, 0.8694118939450673),\n",
              " (162, 286, 0.8689895088466053),\n",
              " (286, 162, 0.8689895088466053),\n",
              " (212, 235, 0.8676617628390262),\n",
              " (235, 212, 0.8676617628390262),\n",
              " (86, 530, 0.8662206328134476),\n",
              " (530, 86, 0.8662206328134476),\n",
              " (480, 483, 0.8604999544421404)]"
            ]
          },
          "metadata": {
            "tags": []
          },
          "execution_count": 87
        }
      ]
    },
    {
      "cell_type": "markdown",
      "metadata": {
        "id": "1pXFxbnWARfD",
        "colab_type": "text"
      },
      "source": [
        "**Test the outputs**"
      ]
    },
    {
      "cell_type": "code",
      "metadata": {
        "id": "q3Kig0r0AFuD",
        "colab_type": "code",
        "colab": {}
      },
      "source": [
        "def test(df,id1,id2):\n",
        "    d1 = tokenize(df,id1)\n",
        "    print('s1: ' + d1.text)\n",
        "    d2 = tokenize(df,id2)\n",
        "    print('s2: ' + d2.text)\n",
        "    d1 = remove_puntuation(d1)\n",
        "    d2 = remove_puntuation(d2)\n",
        "    doc1 = remove_stop_word(d1)\n",
        "    print('Doc1: ' + doc1.text + '\\t')\n",
        "    doc2 = remove_stop_word(d2)\n",
        "    print('Doc2: ' + doc2.text + '\\t')\n",
        "    print('Similarity: ' + str(doc1.similarity(doc2)))"
      ],
      "execution_count": 0,
      "outputs": []
    },
    {
      "cell_type": "code",
      "metadata": {
        "id": "A6swJZqAAFuF",
        "colab_type": "code",
        "colab": {},
        "outputId": "cb4229a1-40ad-43bc-dff0-10f4056f3fbc"
      },
      "source": [
        "test(df,355, 475)"
      ],
      "execution_count": 0,
      "outputs": [
        {
          "output_type": "stream",
          "text": [
            "s1: request.getCookies() doesn't work BugRat Repor...\n",
            "s2: SimpleTcpConnector doesn't work BugRat Report#802\n",
            "Doc1: request.getCookies work BugRat Repor\t\n",
            "Doc2: SimpleTcpConnector work BugRat Report#802\t\n",
            "Similarity: 0.9999999906303305\n"
          ],
          "name": "stdout"
        }
      ]
    },
    {
      "cell_type": "markdown",
      "metadata": {
        "id": "Wxg7sB7LAFuH",
        "colab_type": "text"
      },
      "source": [
        "**Assessment of the accuracy**"
      ]
    },
    {
      "cell_type": "code",
      "metadata": {
        "id": "aUY8zxjeAFuI",
        "colab_type": "code",
        "colab": {}
      },
      "source": [
        ""
      ],
      "execution_count": 0,
      "outputs": []
    },
    {
      "cell_type": "code",
      "metadata": {
        "id": "AcCc_OOZAFuK",
        "colab_type": "code",
        "colab": {}
      },
      "source": [
        ""
      ],
      "execution_count": 0,
      "outputs": []
    }
  ]
}