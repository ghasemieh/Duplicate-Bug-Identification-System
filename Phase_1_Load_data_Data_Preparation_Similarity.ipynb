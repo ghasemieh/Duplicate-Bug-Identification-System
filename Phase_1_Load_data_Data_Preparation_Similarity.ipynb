{
  "nbformat": 4,
  "nbformat_minor": 0,
  "metadata": {
    "colab": {
      "name": "Phase-1: Load data_Data_Preparation_Similarity.ipynb",
      "provenance": [],
      "collapsed_sections": [],
      "include_colab_link": true
    },
    "kernelspec": {
      "name": "python3",
      "display_name": "Python 3"
    }
  },
  "cells": [
    {
      "cell_type": "markdown",
      "metadata": {
        "id": "view-in-github",
        "colab_type": "text"
      },
      "source": [
        "<a href=\"https://colab.research.google.com/github/ghasemieh/Duplicate-Bug-Identification-System/blob/master/Phase_1_Load_data_Data_Preparation_Similarity.ipynb\" target=\"_parent\"><img src=\"https://colab.research.google.com/assets/colab-badge.svg\" alt=\"Open In Colab\"/></a>"
      ]
    },
    {
      "cell_type": "code",
      "metadata": {
        "id": "2OHHmqSI6H62",
        "colab_type": "code",
        "colab": {}
      },
      "source": [
        "# Phase-1: Load data and Data Preparation"
      ],
      "execution_count": 0,
      "outputs": []
    },
    {
      "cell_type": "code",
      "metadata": {
        "id": "SE3nFMwg6XEB",
        "colab_type": "code",
        "colab": {}
      },
      "source": [
        "import numpy as np\n",
        "import pandas as pd\n",
        "import warnings\n",
        "warnings.filterwarnings('ignore')"
      ],
      "execution_count": 0,
      "outputs": []
    },
    {
      "cell_type": "code",
      "metadata": {
        "id": "2DH0GHXC6cQv",
        "colab_type": "code",
        "colab": {}
      },
      "source": [
        "df = pd.read_csv('https://zenodo.org/record/400614/files/apache.csv?download=1',sep=',')"
      ],
      "execution_count": 0,
      "outputs": []
    },
    {
      "cell_type": "code",
      "metadata": {
        "id": "s2YFEE0I6xDi",
        "colab_type": "code",
        "outputId": "8180c02d-5810-4b69-affe-fb708c48f4b7",
        "colab": {
          "base_uri": "https://localhost:8080/",
          "height": 280
        }
      },
      "source": [
        "df.head()"
      ],
      "execution_count": 4,
      "outputs": [
        {
          "output_type": "execute_result",
          "data": {
            "text/html": [
              "<div>\n",
              "<style scoped>\n",
              "    .dataframe tbody tr th:only-of-type {\n",
              "        vertical-align: middle;\n",
              "    }\n",
              "\n",
              "    .dataframe tbody tr th {\n",
              "        vertical-align: top;\n",
              "    }\n",
              "\n",
              "    .dataframe thead th {\n",
              "        text-align: right;\n",
              "    }\n",
              "</style>\n",
              "<table border=\"1\" class=\"dataframe\">\n",
              "  <thead>\n",
              "    <tr style=\"text-align: right;\">\n",
              "      <th></th>\n",
              "      <th>id</th>\n",
              "      <th>product</th>\n",
              "      <th>component</th>\n",
              "      <th>reporter</th>\n",
              "      <th>bug_status</th>\n",
              "      <th>resolution</th>\n",
              "      <th>priority</th>\n",
              "      <th>bug_severity</th>\n",
              "      <th>version</th>\n",
              "      <th>short_desc</th>\n",
              "      <th>opendate</th>\n",
              "      <th>dup_list</th>\n",
              "      <th>root_id</th>\n",
              "      <th>disc_id</th>\n",
              "    </tr>\n",
              "  </thead>\n",
              "  <tbody>\n",
              "    <tr>\n",
              "      <th>0</th>\n",
              "      <td>2</td>\n",
              "      <td>Log4j -</td>\n",
              "      <td>Layout</td>\n",
              "      <td>bugzilla</td>\n",
              "      <td>CLOS</td>\n",
              "      <td>FIXE</td>\n",
              "      <td>P3</td>\n",
              "      <td>nor</td>\n",
              "      <td>unspe</td>\n",
              "      <td>Just testing the Boogzeela setup for log4j</td>\n",
              "      <td>2001-01-08</td>\n",
              "      <td>NaN</td>\n",
              "      <td>NaN</td>\n",
              "      <td>NaN</td>\n",
              "    </tr>\n",
              "    <tr>\n",
              "      <th>1</th>\n",
              "      <td>3</td>\n",
              "      <td>Log4j -</td>\n",
              "      <td>Appender</td>\n",
              "      <td>matthew_scully</td>\n",
              "      <td>RESO</td>\n",
              "      <td>FIXE</td>\n",
              "      <td>P3</td>\n",
              "      <td>nor</td>\n",
              "      <td>unspe</td>\n",
              "      <td>file sharing</td>\n",
              "      <td>2001-01-08</td>\n",
              "      <td>NaN</td>\n",
              "      <td>NaN</td>\n",
              "      <td>NaN</td>\n",
              "    </tr>\n",
              "    <tr>\n",
              "      <th>2</th>\n",
              "      <td>22</td>\n",
              "      <td>Apache h</td>\n",
              "      <td>All</td>\n",
              "      <td>greenrd</td>\n",
              "      <td>CLOS</td>\n",
              "      <td>WONT</td>\n",
              "      <td>P5</td>\n",
              "      <td>enh</td>\n",
              "      <td>2.0-H</td>\n",
              "      <td>Need hooks for user-defined error handling</td>\n",
              "      <td>2001-01-09</td>\n",
              "      <td>NaN</td>\n",
              "      <td>NaN</td>\n",
              "      <td>NaN</td>\n",
              "    </tr>\n",
              "    <tr>\n",
              "      <th>3</th>\n",
              "      <td>27</td>\n",
              "      <td>Log4j -</td>\n",
              "      <td>Layout</td>\n",
              "      <td>richard.mccarthy</td>\n",
              "      <td>RESO</td>\n",
              "      <td>INVA</td>\n",
              "      <td>P1</td>\n",
              "      <td>nor</td>\n",
              "      <td>1.0</td>\n",
              "      <td>Error in the formatting of the (%F:%L) layout ...</td>\n",
              "      <td>2001-01-10</td>\n",
              "      <td>NaN</td>\n",
              "      <td>NaN</td>\n",
              "      <td>NaN</td>\n",
              "    </tr>\n",
              "    <tr>\n",
              "      <th>4</th>\n",
              "      <td>29</td>\n",
              "      <td>Log4j -</td>\n",
              "      <td>Other</td>\n",
              "      <td>woge</td>\n",
              "      <td>RESO</td>\n",
              "      <td>FIXE</td>\n",
              "      <td>P3</td>\n",
              "      <td>nor</td>\n",
              "      <td>1.0</td>\n",
              "      <td>Calling Category.error(Object, Throwable) thro...</td>\n",
              "      <td>2001-01-11</td>\n",
              "      <td>NaN</td>\n",
              "      <td>NaN</td>\n",
              "      <td>NaN</td>\n",
              "    </tr>\n",
              "  </tbody>\n",
              "</table>\n",
              "</div>"
            ],
            "text/plain": [
              "   id   product component  ... dup_list root_id disc_id\n",
              "0   2   Log4j -    Layout  ...      NaN     NaN     NaN\n",
              "1   3   Log4j -  Appender  ...      NaN     NaN     NaN\n",
              "2  22  Apache h       All  ...      NaN     NaN     NaN\n",
              "3  27   Log4j -    Layout  ...      NaN     NaN     NaN\n",
              "4  29   Log4j -     Other  ...      NaN     NaN     NaN\n",
              "\n",
              "[5 rows x 14 columns]"
            ]
          },
          "metadata": {
            "tags": []
          },
          "execution_count": 4
        }
      ]
    },
    {
      "cell_type": "markdown",
      "metadata": {
        "id": "OQ0xb5ISqvwh",
        "colab_type": "text"
      },
      "source": [
        "**Remove NaN from the short_desc**"
      ]
    },
    {
      "cell_type": "code",
      "metadata": {
        "id": "ZMpAF61yWU-X",
        "colab_type": "code",
        "outputId": "6418f0dc-9204-44c4-d667-e65431d26378",
        "colab": {
          "base_uri": "https://localhost:8080/",
          "height": 268
        }
      },
      "source": [
        "df.isnull().sum()"
      ],
      "execution_count": 5,
      "outputs": [
        {
          "output_type": "execute_result",
          "data": {
            "text/plain": [
              "id                  0\n",
              "product             0\n",
              "component           0\n",
              "reporter            0\n",
              "bug_status          0\n",
              "resolution          0\n",
              "priority            0\n",
              "bug_severity        0\n",
              "version             0\n",
              "short_desc         58\n",
              "opendate            0\n",
              "dup_list        41531\n",
              "root_id         38016\n",
              "disc_id         38016\n",
              "dtype: int64"
            ]
          },
          "metadata": {
            "tags": []
          },
          "execution_count": 5
        }
      ]
    },
    {
      "cell_type": "code",
      "metadata": {
        "id": "B_bfdghVNWRk",
        "colab_type": "code",
        "outputId": "f1baee68-a46e-4640-b37f-7572493f7ef8",
        "colab": {
          "base_uri": "https://localhost:8080/",
          "height": 196
        }
      },
      "source": [
        "df = df[['id','short_desc','dup_list']]\n",
        "df.head()"
      ],
      "execution_count": 6,
      "outputs": [
        {
          "output_type": "execute_result",
          "data": {
            "text/html": [
              "<div>\n",
              "<style scoped>\n",
              "    .dataframe tbody tr th:only-of-type {\n",
              "        vertical-align: middle;\n",
              "    }\n",
              "\n",
              "    .dataframe tbody tr th {\n",
              "        vertical-align: top;\n",
              "    }\n",
              "\n",
              "    .dataframe thead th {\n",
              "        text-align: right;\n",
              "    }\n",
              "</style>\n",
              "<table border=\"1\" class=\"dataframe\">\n",
              "  <thead>\n",
              "    <tr style=\"text-align: right;\">\n",
              "      <th></th>\n",
              "      <th>id</th>\n",
              "      <th>short_desc</th>\n",
              "      <th>dup_list</th>\n",
              "    </tr>\n",
              "  </thead>\n",
              "  <tbody>\n",
              "    <tr>\n",
              "      <th>0</th>\n",
              "      <td>2</td>\n",
              "      <td>Just testing the Boogzeela setup for log4j</td>\n",
              "      <td>NaN</td>\n",
              "    </tr>\n",
              "    <tr>\n",
              "      <th>1</th>\n",
              "      <td>3</td>\n",
              "      <td>file sharing</td>\n",
              "      <td>NaN</td>\n",
              "    </tr>\n",
              "    <tr>\n",
              "      <th>2</th>\n",
              "      <td>22</td>\n",
              "      <td>Need hooks for user-defined error handling</td>\n",
              "      <td>NaN</td>\n",
              "    </tr>\n",
              "    <tr>\n",
              "      <th>3</th>\n",
              "      <td>27</td>\n",
              "      <td>Error in the formatting of the (%F:%L) layout ...</td>\n",
              "      <td>NaN</td>\n",
              "    </tr>\n",
              "    <tr>\n",
              "      <th>4</th>\n",
              "      <td>29</td>\n",
              "      <td>Calling Category.error(Object, Throwable) thro...</td>\n",
              "      <td>NaN</td>\n",
              "    </tr>\n",
              "  </tbody>\n",
              "</table>\n",
              "</div>"
            ],
            "text/plain": [
              "   id                                         short_desc dup_list\n",
              "0   2         Just testing the Boogzeela setup for log4j      NaN\n",
              "1   3                                       file sharing      NaN\n",
              "2  22         Need hooks for user-defined error handling      NaN\n",
              "3  27  Error in the formatting of the (%F:%L) layout ...      NaN\n",
              "4  29  Calling Category.error(Object, Throwable) thro...      NaN"
            ]
          },
          "metadata": {
            "tags": []
          },
          "execution_count": 6
        }
      ]
    },
    {
      "cell_type": "code",
      "metadata": {
        "id": "yiPGf1eMFaa_",
        "colab_type": "code",
        "outputId": "11f3ccaa-09a9-48f7-ea76-681da5897fcc",
        "colab": {
          "base_uri": "https://localhost:8080/",
          "height": 33
        }
      },
      "source": [
        "df.shape"
      ],
      "execution_count": 7,
      "outputs": [
        {
          "output_type": "execute_result",
          "data": {
            "text/plain": [
              "(44049, 3)"
            ]
          },
          "metadata": {
            "tags": []
          },
          "execution_count": 7
        }
      ]
    },
    {
      "cell_type": "markdown",
      "metadata": {
        "id": "JQSXa5EBMiXA",
        "colab_type": "text"
      },
      "source": [
        "Remove Blank Records"
      ]
    },
    {
      "cell_type": "code",
      "metadata": {
        "id": "Hdo7ksWKBANr",
        "colab_type": "code",
        "outputId": "ad27b787-a108-42c2-f806-2eaa69b0bccb",
        "colab": {
          "base_uri": "https://localhost:8080/",
          "height": 33
        }
      },
      "source": [
        "blanks = []\n",
        "\n",
        "for i,id,sd,dl in df.itertuples():\n",
        "    if type(sd)==str:\n",
        "        if sd.isspace():\n",
        "            blanks.append(i)\n",
        "    else:\n",
        "        blanks.append(i)\n",
        "len(blanks)  "
      ],
      "execution_count": 8,
      "outputs": [
        {
          "output_type": "execute_result",
          "data": {
            "text/plain": [
              "58"
            ]
          },
          "metadata": {
            "tags": []
          },
          "execution_count": 8
        }
      ]
    },
    {
      "cell_type": "code",
      "metadata": {
        "id": "x_LoDinDR73y",
        "colab_type": "code",
        "outputId": "713e5579-4afe-493e-cbd6-03fa7cc78ec2",
        "colab": {
          "base_uri": "https://localhost:8080/",
          "height": 84
        }
      },
      "source": [
        "df.drop(blanks,inplace=True)\n",
        "df.isnull().sum()"
      ],
      "execution_count": 9,
      "outputs": [
        {
          "output_type": "execute_result",
          "data": {
            "text/plain": [
              "id                0\n",
              "short_desc        0\n",
              "dup_list      41474\n",
              "dtype: int64"
            ]
          },
          "metadata": {
            "tags": []
          },
          "execution_count": 9
        }
      ]
    },
    {
      "cell_type": "markdown",
      "metadata": {
        "id": "i9wKRmjEqipx",
        "colab_type": "text"
      },
      "source": [
        "**Similarity Methods:**"
      ]
    },
    {
      "cell_type": "code",
      "metadata": {
        "id": "0vbHfZFrs_Ab",
        "colab_type": "code",
        "outputId": "0d94847e-30b5-469c-9516-bcac21c5342f",
        "colab": {
          "base_uri": "https://localhost:8080/",
          "height": 87
        }
      },
      "source": [
        "!python -m spacy download en_core_web_lg"
      ],
      "execution_count": 10,
      "outputs": [
        {
          "output_type": "stream",
          "text": [
            "Requirement already satisfied: en_core_web_lg==2.1.0 from https://github.com/explosion/spacy-models/releases/download/en_core_web_lg-2.1.0/en_core_web_lg-2.1.0.tar.gz#egg=en_core_web_lg==2.1.0 in /usr/local/lib/python3.6/dist-packages (2.1.0)\n",
            "\u001b[38;5;2m✔ Download and installation successful\u001b[0m\n",
            "You can now load the model via spacy.load('en_core_web_lg')\n"
          ],
          "name": "stdout"
        }
      ]
    },
    {
      "cell_type": "code",
      "metadata": {
        "id": "FkXVudYKs-5g",
        "colab_type": "code",
        "colab": {}
      },
      "source": [
        "import spacy\n",
        "nlp = spacy.load('en_core_web_lg')"
      ],
      "execution_count": 0,
      "outputs": []
    },
    {
      "cell_type": "code",
      "metadata": {
        "id": "JGomxQMNLrp9",
        "colab_type": "code",
        "colab": {}
      },
      "source": [
        "def to_string(df,id):\n",
        "    s = df[df['id'] == id]\n",
        "    s = s.short_desc.to_string(index=False)\n",
        "    return s[1:]"
      ],
      "execution_count": 0,
      "outputs": []
    },
    {
      "cell_type": "code",
      "metadata": {
        "id": "NipiWogUpnAS",
        "colab_type": "code",
        "outputId": "27960f15-4b40-49e6-f6d6-a18e7ad12d80",
        "colab": {
          "base_uri": "https://localhost:8080/",
          "height": 50
        }
      },
      "source": [
        "s1 = to_string(df,136)\n",
        "print(s1)\n",
        "s2 = to_string(df,535)\n",
        "print(s2)"
      ],
      "execution_count": 14,
      "outputs": [
        {
          "output_type": "stream",
          "text": [
            "Infinite loop in PrefixManager.java BugRat Rep...\n",
            "deadlock in connection handler\n"
          ],
          "name": "stdout"
        }
      ]
    },
    {
      "cell_type": "markdown",
      "metadata": {
        "id": "YGxSTtiVsZ7G",
        "colab_type": "text"
      },
      "source": [
        "**Remove Puntuations**"
      ]
    },
    {
      "cell_type": "code",
      "metadata": {
        "id": "mcvbSn9msGJi",
        "colab_type": "code",
        "colab": {}
      },
      "source": [
        "#Remove Puntuations\n",
        "def remove_puntuation(str):\n",
        "    import re\n",
        "    return re.sub(r'[^\\w\\s]','',str)"
      ],
      "execution_count": 0,
      "outputs": []
    },
    {
      "cell_type": "code",
      "metadata": {
        "id": "DDdZJxXLKNUe",
        "colab_type": "code",
        "colab": {}
      },
      "source": [
        "s1 = remove_puntuation(s1)\n",
        "s2 = remove_puntuation(s2)"
      ],
      "execution_count": 0,
      "outputs": []
    },
    {
      "cell_type": "markdown",
      "metadata": {
        "id": "huwA6wefshoo",
        "colab_type": "text"
      },
      "source": [
        "**Remove Stop Words**"
      ]
    },
    {
      "cell_type": "code",
      "metadata": {
        "id": "UM71UlIenU7Q",
        "colab_type": "code",
        "colab": {}
      },
      "source": [
        "#Remove Stop Words\n",
        "def remove_stop_word(sentense): # accept string\n",
        "    s = []\n",
        "    sentense = nlp(sentense)\n",
        "    for token in sentense:\n",
        "      if token.is_stop == False:\n",
        "            s.append(token) \n",
        "    #Convert list to string\n",
        "    str1 = \"\"    \n",
        "    for ele in s:  \n",
        "        str1 += str(ele) +' '     \n",
        "    return nlp(str1[:-1]) #return doc "
      ],
      "execution_count": 0,
      "outputs": []
    },
    {
      "cell_type": "code",
      "metadata": {
        "id": "nNtH4u6HJzCS",
        "colab_type": "code",
        "colab": {}
      },
      "source": [
        "doc1 = remove_stop_word(s1)"
      ],
      "execution_count": 0,
      "outputs": []
    },
    {
      "cell_type": "code",
      "metadata": {
        "id": "xb92Aeq8KhTe",
        "colab_type": "code",
        "colab": {}
      },
      "source": [
        "doc2 = remove_stop_word(s2)"
      ],
      "execution_count": 0,
      "outputs": []
    },
    {
      "cell_type": "code",
      "metadata": {
        "id": "Xk2V1MpWu0AL",
        "colab_type": "code",
        "outputId": "1650fc91-07ac-43af-8ecd-55ab73d1858f",
        "colab": {
          "base_uri": "https://localhost:8080/",
          "height": 33
        }
      },
      "source": [
        "print('Similarity: ' + str(doc1.similarity(doc2)))"
      ],
      "execution_count": 20,
      "outputs": [
        {
          "output_type": "stream",
          "text": [
            "Similarity:0.42781221066187264\n"
          ],
          "name": "stdout"
        }
      ]
    },
    {
      "cell_type": "markdown",
      "metadata": {
        "id": "-lFFeJjDfQyB",
        "colab_type": "text"
      },
      "source": [
        "**Build a function of all previous work**"
      ]
    },
    {
      "cell_type": "code",
      "metadata": {
        "id": "XRrXNv_fyGUx",
        "colab_type": "code",
        "colab": {}
      },
      "source": [
        "# Put all prevouse work together in a function\n",
        "def prep(df,id):\n",
        "    # Take an id and convert the short_desc to string\n",
        "    def to_string(df,id):\n",
        "        s = df[df['id'] == id]\n",
        "        s = s.short_desc.to_string(index=False)\n",
        "        return s[1:]\n",
        "\n",
        "    s = to_string(df,id)\n",
        "\n",
        "    # Remove Puntuations\n",
        "    def remove_puntuation(str):\n",
        "        import re\n",
        "        return re.sub(r'[^\\w\\s]','',str)\n",
        "\n",
        "    s = remove_puntuation(s)\n",
        "\n",
        "    # Remove Stop Words\n",
        "    def remove_stop_word(sentense): # accept string\n",
        "        s = []\n",
        "        sentense = nlp(sentense)\n",
        "        for token in sentense:\n",
        "            if token.is_stop == False:\n",
        "                s.append(token) \n",
        "        # Convert list to string\n",
        "        str1 = \"\"    \n",
        "        for ele in s:  \n",
        "            str1 += str(ele) +' '     \n",
        "        return nlp(str1[:-1]) #return doc\n",
        "    \n",
        "    doc = remove_stop_word(s)\n",
        "\n",
        "    return doc"
      ],
      "execution_count": 0,
      "outputs": []
    },
    {
      "cell_type": "code",
      "metadata": {
        "id": "CsB9wctvXbxm",
        "colab_type": "code",
        "colab": {}
      },
      "source": [
        "# Prepare the vectors for each document\n",
        "c = 0\n",
        "prepared = []\n",
        "for i,id,sd,db in df.itertuples():\n",
        "    doc = prep(df,id)\n",
        "    prepared.append((id,doc))\n",
        "    c = c + 1\n",
        "    #if c > 100:\n",
        "    #    break"
      ],
      "execution_count": 0,
      "outputs": []
    },
    {
      "cell_type": "code",
      "metadata": {
        "id": "Wozx-5ShYEXj",
        "colab_type": "code",
        "colab": {
          "base_uri": "https://localhost:8080/",
          "height": 117
        },
        "outputId": "430a698b-42b8-4bb9-af1f-cbea4b9ca56b"
      },
      "source": [
        "c = 0\n",
        "for i in prepared:\n",
        "    print(i[0], '\\t', i[1].text)\n",
        "    c = c + 1\n",
        "    if c > 20:\n",
        "        break"
      ],
      "execution_count": 23,
      "outputs": [
        {
          "output_type": "stream",
          "text": [
            "2 \t testing Boogzeela setup log4j\n",
            "3 \t file sharing\n",
            "22 \t Need hooks userdefined error handling\n",
            "27 \t Error formatting FL layout\n",
            "29 \t Calling CategoryerrorObject Throwable thro\n",
            "31 \t Conversion log4j Priority types NT Event\n"
          ],
          "name": "stdout"
        }
      ]
    },
    {
      "cell_type": "code",
      "metadata": {
        "id": "It9SV878P1JL",
        "colab_type": "code",
        "colab": {}
      },
      "source": [
        "# Calculate one by one similarity score\n",
        "similarities = []\n",
        "for i in prepared:\n",
        "    for j in prepared:\n",
        "        score = i[1].similarity(j[1])\n",
        "        similarities.append((i[0],j[0],score))"
      ],
      "execution_count": 0,
      "outputs": []
    },
    {
      "cell_type": "code",
      "metadata": {
        "id": "hwXwhIzwP8s3",
        "colab_type": "code",
        "colab": {
          "base_uri": "https://localhost:8080/",
          "height": 161
        },
        "outputId": "609464e5-b074-42b2-c3b2-e62eb8079455"
      },
      "source": [
        "len(similarities)"
      ],
      "execution_count": 1,
      "outputs": [
        {
          "output_type": "error",
          "ename": "NameError",
          "evalue": "ignored",
          "traceback": [
            "\u001b[0;31m---------------------------------------------------------------------------\u001b[0m",
            "\u001b[0;31mNameError\u001b[0m                                 Traceback (most recent call last)",
            "\u001b[0;32m<ipython-input-1-1060cc4ab4dc>\u001b[0m in \u001b[0;36m<module>\u001b[0;34m()\u001b[0m\n\u001b[0;32m----> 1\u001b[0;31m \u001b[0mlen\u001b[0m\u001b[0;34m(\u001b[0m\u001b[0msimilarities\u001b[0m\u001b[0;34m)\u001b[0m\u001b[0;34m\u001b[0m\u001b[0;34m\u001b[0m\u001b[0m\n\u001b[0m",
            "\u001b[0;31mNameError\u001b[0m: name 'similarities' is not defined"
          ]
        }
      ]
    },
    {
      "cell_type": "code",
      "metadata": {
        "id": "bpD4m_r8aBet",
        "colab_type": "code",
        "colab": {}
      },
      "source": [
        ""
      ],
      "execution_count": 0,
      "outputs": []
    }
  ]
}