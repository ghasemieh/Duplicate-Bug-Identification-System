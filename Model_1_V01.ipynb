{
  "nbformat": 4,
  "nbformat_minor": 0,
  "metadata": {
    "colab": {
      "name": "Model-1_V01.ipynb",
      "provenance": [],
      "collapsed_sections": [],
      "include_colab_link": true
    },
    "kernelspec": {
      "display_name": "Python 3",
      "language": "python",
      "name": "python3"
    },
    "language_info": {
      "codemirror_mode": {
        "name": "ipython",
        "version": 3
      },
      "file_extension": ".py",
      "mimetype": "text/x-python",
      "name": "python",
      "nbconvert_exporter": "python",
      "pygments_lexer": "ipython3",
      "version": "3.7.3"
    }
  },
  "cells": [
    {
      "cell_type": "markdown",
      "metadata": {
        "id": "view-in-github",
        "colab_type": "text"
      },
      "source": [
        "<a href=\"https://colab.research.google.com/github/ghasemieh/Duplicate-Bug-Identification-System/blob/master/Model_1_V01.ipynb\" target=\"_parent\"><img src=\"https://colab.research.google.com/assets/colab-badge.svg\" alt=\"Open In Colab\"/></a>"
      ]
    },
    {
      "cell_type": "code",
      "metadata": {
        "colab_type": "code",
        "id": "2OHHmqSI6H62",
        "colab": {}
      },
      "source": [
        "# Model-1"
      ],
      "execution_count": 0,
      "outputs": []
    },
    {
      "cell_type": "code",
      "metadata": {
        "colab_type": "code",
        "id": "SE3nFMwg6XEB",
        "colab": {}
      },
      "source": [
        "import numpy as np\n",
        "import pandas as pd\n",
        "import warnings\n",
        "warnings.filterwarnings('ignore')"
      ],
      "execution_count": 0,
      "outputs": []
    },
    {
      "cell_type": "code",
      "metadata": {
        "colab_type": "code",
        "id": "2DH0GHXC6cQv",
        "colab": {}
      },
      "source": [
        "df = pd.read_csv('https://zenodo.org/record/400614/files/apache.csv?download=1',sep=',')"
      ],
      "execution_count": 0,
      "outputs": []
    },
    {
      "cell_type": "code",
      "metadata": {
        "colab_type": "code",
        "id": "s2YFEE0I6xDi",
        "outputId": "8180c02d-5810-4b69-affe-fb708c48f4b7",
        "colab": {
          "base_uri": "https://localhost:8080/",
          "height": 280
        }
      },
      "source": [
        "df.head()"
      ],
      "execution_count": 0,
      "outputs": [
        {
          "output_type": "execute_result",
          "data": {
            "text/html": [
              "<div>\n",
              "<style scoped>\n",
              "    .dataframe tbody tr th:only-of-type {\n",
              "        vertical-align: middle;\n",
              "    }\n",
              "\n",
              "    .dataframe tbody tr th {\n",
              "        vertical-align: top;\n",
              "    }\n",
              "\n",
              "    .dataframe thead th {\n",
              "        text-align: right;\n",
              "    }\n",
              "</style>\n",
              "<table border=\"1\" class=\"dataframe\">\n",
              "  <thead>\n",
              "    <tr style=\"text-align: right;\">\n",
              "      <th></th>\n",
              "      <th>id</th>\n",
              "      <th>product</th>\n",
              "      <th>component</th>\n",
              "      <th>reporter</th>\n",
              "      <th>bug_status</th>\n",
              "      <th>resolution</th>\n",
              "      <th>priority</th>\n",
              "      <th>bug_severity</th>\n",
              "      <th>version</th>\n",
              "      <th>short_desc</th>\n",
              "      <th>opendate</th>\n",
              "      <th>dup_list</th>\n",
              "      <th>root_id</th>\n",
              "      <th>disc_id</th>\n",
              "    </tr>\n",
              "  </thead>\n",
              "  <tbody>\n",
              "    <tr>\n",
              "      <th>0</th>\n",
              "      <td>2</td>\n",
              "      <td>Log4j -</td>\n",
              "      <td>Layout</td>\n",
              "      <td>bugzilla</td>\n",
              "      <td>CLOS</td>\n",
              "      <td>FIXE</td>\n",
              "      <td>P3</td>\n",
              "      <td>nor</td>\n",
              "      <td>unspe</td>\n",
              "      <td>Just testing the Boogzeela setup for log4j</td>\n",
              "      <td>2001-01-08</td>\n",
              "      <td>NaN</td>\n",
              "      <td>NaN</td>\n",
              "      <td>NaN</td>\n",
              "    </tr>\n",
              "    <tr>\n",
              "      <th>1</th>\n",
              "      <td>3</td>\n",
              "      <td>Log4j -</td>\n",
              "      <td>Appender</td>\n",
              "      <td>matthew_scully</td>\n",
              "      <td>RESO</td>\n",
              "      <td>FIXE</td>\n",
              "      <td>P3</td>\n",
              "      <td>nor</td>\n",
              "      <td>unspe</td>\n",
              "      <td>file sharing</td>\n",
              "      <td>2001-01-08</td>\n",
              "      <td>NaN</td>\n",
              "      <td>NaN</td>\n",
              "      <td>NaN</td>\n",
              "    </tr>\n",
              "    <tr>\n",
              "      <th>2</th>\n",
              "      <td>22</td>\n",
              "      <td>Apache h</td>\n",
              "      <td>All</td>\n",
              "      <td>greenrd</td>\n",
              "      <td>CLOS</td>\n",
              "      <td>WONT</td>\n",
              "      <td>P5</td>\n",
              "      <td>enh</td>\n",
              "      <td>2.0-H</td>\n",
              "      <td>Need hooks for user-defined error handling</td>\n",
              "      <td>2001-01-09</td>\n",
              "      <td>NaN</td>\n",
              "      <td>NaN</td>\n",
              "      <td>NaN</td>\n",
              "    </tr>\n",
              "    <tr>\n",
              "      <th>3</th>\n",
              "      <td>27</td>\n",
              "      <td>Log4j -</td>\n",
              "      <td>Layout</td>\n",
              "      <td>richard.mccarthy</td>\n",
              "      <td>RESO</td>\n",
              "      <td>INVA</td>\n",
              "      <td>P1</td>\n",
              "      <td>nor</td>\n",
              "      <td>1.0</td>\n",
              "      <td>Error in the formatting of the (%F:%L) layout ...</td>\n",
              "      <td>2001-01-10</td>\n",
              "      <td>NaN</td>\n",
              "      <td>NaN</td>\n",
              "      <td>NaN</td>\n",
              "    </tr>\n",
              "    <tr>\n",
              "      <th>4</th>\n",
              "      <td>29</td>\n",
              "      <td>Log4j -</td>\n",
              "      <td>Other</td>\n",
              "      <td>woge</td>\n",
              "      <td>RESO</td>\n",
              "      <td>FIXE</td>\n",
              "      <td>P3</td>\n",
              "      <td>nor</td>\n",
              "      <td>1.0</td>\n",
              "      <td>Calling Category.error(Object, Throwable) thro...</td>\n",
              "      <td>2001-01-11</td>\n",
              "      <td>NaN</td>\n",
              "      <td>NaN</td>\n",
              "      <td>NaN</td>\n",
              "    </tr>\n",
              "  </tbody>\n",
              "</table>\n",
              "</div>"
            ],
            "text/plain": [
              "   id   product component          reporter bug_status resolution priority  \\\n",
              "0   2   Log4j -    Layout          bugzilla       CLOS       FIXE       P3   \n",
              "1   3   Log4j -  Appender    matthew_scully       RESO       FIXE       P3   \n",
              "2  22  Apache h       All           greenrd       CLOS       WONT       P5   \n",
              "3  27   Log4j -    Layout  richard.mccarthy       RESO       INVA       P1   \n",
              "4  29   Log4j -     Other              woge       RESO       FIXE       P3   \n",
              "\n",
              "  bug_severity version                                         short_desc  \\\n",
              "0          nor   unspe         Just testing the Boogzeela setup for log4j   \n",
              "1          nor   unspe                                       file sharing   \n",
              "2          enh   2.0-H         Need hooks for user-defined error handling   \n",
              "3          nor     1.0  Error in the formatting of the (%F:%L) layout ...   \n",
              "4          nor     1.0  Calling Category.error(Object, Throwable) thro...   \n",
              "\n",
              "     opendate dup_list  root_id  disc_id  \n",
              "0  2001-01-08      NaN      NaN      NaN  \n",
              "1  2001-01-08      NaN      NaN      NaN  \n",
              "2  2001-01-09      NaN      NaN      NaN  \n",
              "3  2001-01-10      NaN      NaN      NaN  \n",
              "4  2001-01-11      NaN      NaN      NaN  "
            ]
          },
          "metadata": {
            "tags": []
          },
          "execution_count": 4
        }
      ]
    },
    {
      "cell_type": "markdown",
      "metadata": {
        "colab_type": "text",
        "id": "OQ0xb5ISqvwh"
      },
      "source": [
        "**Remove NaN from the short_desc**"
      ]
    },
    {
      "cell_type": "code",
      "metadata": {
        "colab_type": "code",
        "id": "ZMpAF61yWU-X",
        "outputId": "6418f0dc-9204-44c4-d667-e65431d26378",
        "colab": {
          "base_uri": "https://localhost:8080/",
          "height": 268
        }
      },
      "source": [
        "df.isnull().sum()"
      ],
      "execution_count": 0,
      "outputs": [
        {
          "output_type": "execute_result",
          "data": {
            "text/plain": [
              "id                  0\n",
              "product             0\n",
              "component           0\n",
              "reporter            0\n",
              "bug_status          0\n",
              "resolution          0\n",
              "priority            0\n",
              "bug_severity        0\n",
              "version             0\n",
              "short_desc         58\n",
              "opendate            0\n",
              "dup_list        41531\n",
              "root_id         38016\n",
              "disc_id         38016\n",
              "dtype: int64"
            ]
          },
          "metadata": {
            "tags": []
          },
          "execution_count": 5
        }
      ]
    },
    {
      "cell_type": "code",
      "metadata": {
        "colab_type": "code",
        "id": "B_bfdghVNWRk",
        "outputId": "f1baee68-a46e-4640-b37f-7572493f7ef8",
        "colab": {
          "base_uri": "https://localhost:8080/",
          "height": 196
        }
      },
      "source": [
        "df = df[['id','short_desc','dup_list']]\n",
        "df.head()"
      ],
      "execution_count": 0,
      "outputs": [
        {
          "output_type": "execute_result",
          "data": {
            "text/html": [
              "<div>\n",
              "<style scoped>\n",
              "    .dataframe tbody tr th:only-of-type {\n",
              "        vertical-align: middle;\n",
              "    }\n",
              "\n",
              "    .dataframe tbody tr th {\n",
              "        vertical-align: top;\n",
              "    }\n",
              "\n",
              "    .dataframe thead th {\n",
              "        text-align: right;\n",
              "    }\n",
              "</style>\n",
              "<table border=\"1\" class=\"dataframe\">\n",
              "  <thead>\n",
              "    <tr style=\"text-align: right;\">\n",
              "      <th></th>\n",
              "      <th>id</th>\n",
              "      <th>short_desc</th>\n",
              "      <th>dup_list</th>\n",
              "    </tr>\n",
              "  </thead>\n",
              "  <tbody>\n",
              "    <tr>\n",
              "      <th>0</th>\n",
              "      <td>2</td>\n",
              "      <td>Just testing the Boogzeela setup for log4j</td>\n",
              "      <td>NaN</td>\n",
              "    </tr>\n",
              "    <tr>\n",
              "      <th>1</th>\n",
              "      <td>3</td>\n",
              "      <td>file sharing</td>\n",
              "      <td>NaN</td>\n",
              "    </tr>\n",
              "    <tr>\n",
              "      <th>2</th>\n",
              "      <td>22</td>\n",
              "      <td>Need hooks for user-defined error handling</td>\n",
              "      <td>NaN</td>\n",
              "    </tr>\n",
              "    <tr>\n",
              "      <th>3</th>\n",
              "      <td>27</td>\n",
              "      <td>Error in the formatting of the (%F:%L) layout ...</td>\n",
              "      <td>NaN</td>\n",
              "    </tr>\n",
              "    <tr>\n",
              "      <th>4</th>\n",
              "      <td>29</td>\n",
              "      <td>Calling Category.error(Object, Throwable) thro...</td>\n",
              "      <td>NaN</td>\n",
              "    </tr>\n",
              "  </tbody>\n",
              "</table>\n",
              "</div>"
            ],
            "text/plain": [
              "   id                                         short_desc dup_list\n",
              "0   2         Just testing the Boogzeela setup for log4j      NaN\n",
              "1   3                                       file sharing      NaN\n",
              "2  22         Need hooks for user-defined error handling      NaN\n",
              "3  27  Error in the formatting of the (%F:%L) layout ...      NaN\n",
              "4  29  Calling Category.error(Object, Throwable) thro...      NaN"
            ]
          },
          "metadata": {
            "tags": []
          },
          "execution_count": 6
        }
      ]
    },
    {
      "cell_type": "code",
      "metadata": {
        "colab_type": "code",
        "id": "yiPGf1eMFaa_",
        "outputId": "11f3ccaa-09a9-48f7-ea76-681da5897fcc",
        "colab": {
          "base_uri": "https://localhost:8080/",
          "height": 33
        }
      },
      "source": [
        "df.shape"
      ],
      "execution_count": 0,
      "outputs": [
        {
          "output_type": "execute_result",
          "data": {
            "text/plain": [
              "(44049, 3)"
            ]
          },
          "metadata": {
            "tags": []
          },
          "execution_count": 7
        }
      ]
    },
    {
      "cell_type": "markdown",
      "metadata": {
        "colab_type": "text",
        "id": "JQSXa5EBMiXA"
      },
      "source": [
        "Remove Blank Records"
      ]
    },
    {
      "cell_type": "code",
      "metadata": {
        "colab_type": "code",
        "id": "Hdo7ksWKBANr",
        "outputId": "ad27b787-a108-42c2-f806-2eaa69b0bccb",
        "colab": {
          "base_uri": "https://localhost:8080/",
          "height": 33
        }
      },
      "source": [
        "blanks = []\n",
        "\n",
        "for i,id,sd,dl in df.itertuples():\n",
        "    if type(sd)==str:\n",
        "        if sd.isspace():\n",
        "            blanks.append(i)\n",
        "    else:\n",
        "        blanks.append(i)\n",
        "len(blanks)  "
      ],
      "execution_count": 0,
      "outputs": [
        {
          "output_type": "execute_result",
          "data": {
            "text/plain": [
              "58"
            ]
          },
          "metadata": {
            "tags": []
          },
          "execution_count": 8
        }
      ]
    },
    {
      "cell_type": "code",
      "metadata": {
        "colab_type": "code",
        "id": "x_LoDinDR73y",
        "outputId": "713e5579-4afe-493e-cbd6-03fa7cc78ec2",
        "colab": {
          "base_uri": "https://localhost:8080/",
          "height": 84
        }
      },
      "source": [
        "df.drop(blanks,inplace=True)\n",
        "df.isnull().sum()"
      ],
      "execution_count": 0,
      "outputs": [
        {
          "output_type": "execute_result",
          "data": {
            "text/plain": [
              "id                0\n",
              "short_desc        0\n",
              "dup_list      41474\n",
              "dtype: int64"
            ]
          },
          "metadata": {
            "tags": []
          },
          "execution_count": 9
        }
      ]
    },
    {
      "cell_type": "markdown",
      "metadata": {
        "colab_type": "text",
        "id": "i9wKRmjEqipx"
      },
      "source": [
        "**Similarity Method:**"
      ]
    },
    {
      "cell_type": "code",
      "metadata": {
        "colab_type": "code",
        "id": "0vbHfZFrs_Ab",
        "colab": {}
      },
      "source": [
        "#conda install -c conda-forge spacy\n",
        "#conda install -c conda-forge spacy-lookups-data\n",
        "#!python -m spacy download en_core_web_lg"
      ],
      "execution_count": 0,
      "outputs": []
    },
    {
      "cell_type": "code",
      "metadata": {
        "colab_type": "code",
        "id": "FkXVudYKs-5g",
        "colab": {}
      },
      "source": [
        "import spacy\n",
        "nlp = spacy.load('en_core_web_lg')"
      ],
      "execution_count": 0,
      "outputs": []
    },
    {
      "cell_type": "code",
      "metadata": {
        "colab_type": "code",
        "id": "JGomxQMNLrp9",
        "colab": {}
      },
      "source": [
        "def to_string(df,id):\n",
        "    s = df[df['id'] == id]\n",
        "    s = s.short_desc.to_string(index=False)\n",
        "    return s[1:]"
      ],
      "execution_count": 0,
      "outputs": []
    },
    {
      "cell_type": "code",
      "metadata": {
        "colab_type": "code",
        "id": "NipiWogUpnAS",
        "outputId": "27960f15-4b40-49e6-f6d6-a18e7ad12d80",
        "colab": {
          "base_uri": "https://localhost:8080/",
          "height": 50
        }
      },
      "source": [
        "s1 = to_string(df,136)\n",
        "print(s1)\n",
        "s2 = to_string(df,535)\n",
        "print(s2)"
      ],
      "execution_count": 0,
      "outputs": [
        {
          "output_type": "stream",
          "text": [
            "Infinite loop in PrefixManager.java BugRat Rep...\n",
            "deadlock in connection handler\n"
          ],
          "name": "stdout"
        }
      ]
    },
    {
      "cell_type": "markdown",
      "metadata": {
        "colab_type": "text",
        "id": "YGxSTtiVsZ7G"
      },
      "source": [
        "**Remove Puntuations**"
      ]
    },
    {
      "cell_type": "code",
      "metadata": {
        "colab_type": "code",
        "id": "mcvbSn9msGJi",
        "colab": {}
      },
      "source": [
        "#Remove Puntuations\n",
        "def remove_puntuation(str):\n",
        "    import re\n",
        "    return re.sub(r'[^\\w\\s]','',str)"
      ],
      "execution_count": 0,
      "outputs": []
    },
    {
      "cell_type": "code",
      "metadata": {
        "colab_type": "code",
        "id": "DDdZJxXLKNUe",
        "colab": {}
      },
      "source": [
        "s1 = remove_puntuation(s1)\n",
        "s2 = remove_puntuation(s2)"
      ],
      "execution_count": 0,
      "outputs": []
    },
    {
      "cell_type": "markdown",
      "metadata": {
        "colab_type": "text",
        "id": "huwA6wefshoo"
      },
      "source": [
        "**Remove Stop Words**"
      ]
    },
    {
      "cell_type": "code",
      "metadata": {
        "colab_type": "code",
        "id": "UM71UlIenU7Q",
        "colab": {}
      },
      "source": [
        "#Remove Stop Words\n",
        "def remove_stop_word(sentense): # accept string\n",
        "    s = []\n",
        "    sentense = nlp(sentense)\n",
        "    for token in sentense:\n",
        "        if token.is_stop == False:\n",
        "            s.append(token) \n",
        "    #Convert list to string\n",
        "    str1 = \"\"    \n",
        "    for ele in s:  \n",
        "        str1 += str(ele) +' '     \n",
        "    return nlp(str1[:-1]) #return doc "
      ],
      "execution_count": 0,
      "outputs": []
    },
    {
      "cell_type": "code",
      "metadata": {
        "colab_type": "code",
        "id": "nNtH4u6HJzCS",
        "colab": {}
      },
      "source": [
        "doc1 = remove_stop_word(s1)\n",
        "doc2 = remove_stop_word(s2)"
      ],
      "execution_count": 0,
      "outputs": []
    },
    {
      "cell_type": "code",
      "metadata": {
        "colab_type": "code",
        "id": "Xk2V1MpWu0AL",
        "outputId": "1650fc91-07ac-43af-8ecd-55ab73d1858f",
        "colab": {
          "base_uri": "https://localhost:8080/",
          "height": 33
        }
      },
      "source": [
        "print('Similarity: ' + str(doc1.similarity(doc2)))"
      ],
      "execution_count": 0,
      "outputs": [
        {
          "output_type": "stream",
          "text": [
            "Similarity: 0.42781221066187264\n"
          ],
          "name": "stdout"
        }
      ]
    },
    {
      "cell_type": "markdown",
      "metadata": {
        "colab_type": "text",
        "id": "-lFFeJjDfQyB"
      },
      "source": [
        "**Build a function of all previous work**"
      ]
    },
    {
      "cell_type": "code",
      "metadata": {
        "colab_type": "code",
        "id": "XRrXNv_fyGUx",
        "colab": {}
      },
      "source": [
        "# Put all prevouse work together in a function\n",
        "def prep(df,id):\n",
        "    s = to_string(df,id)\n",
        "    s = remove_puntuation(s)\n",
        "    doc = remove_stop_word(s)\n",
        "    return doc"
      ],
      "execution_count": 0,
      "outputs": []
    },
    {
      "cell_type": "code",
      "metadata": {
        "colab_type": "code",
        "id": "CsB9wctvXbxm",
        "colab": {},
        "outputId": "acb7d026-13fb-4e08-a25b-a3a82febe1d7"
      },
      "source": [
        "# Prepare the vectors for each document\n",
        "import time\n",
        "start_time = time.time()\n",
        "c = 0\n",
        "prepared = []\n",
        "l = len(df.index)\n",
        "for i,id,sd,db in df.itertuples():\n",
        "    c = c + 1\n",
        "    doc = prep(df,id)\n",
        "    prepared.append((id,doc))\n",
        "    c = c + 1\n",
        "    if c % 100 == 0:\n",
        "        progress = c/l*100\n",
        "        print('Progress: %s %%' % round(progress, 2), end=\"\\r\", flush=True)\n",
        "    if c > 1000:\n",
        "        print('\\nDone')\n",
        "        break\n",
        "print(\"--- %s seconds ---\" % (time.time() - start_time))"
      ],
      "execution_count": 0,
      "outputs": [
        {
          "output_type": "stream",
          "text": [
            "Progress: 2.27 %\n",
            "Done\n",
            "\n",
            "--- 8.36637806892395 seconds ---\n"
          ],
          "name": "stdout"
        }
      ]
    },
    {
      "cell_type": "code",
      "metadata": {
        "colab_type": "code",
        "id": "Wozx-5ShYEXj",
        "colab": {}
      },
      "source": [
        "c = 0\n",
        "for i in prepared:\n",
        "    print(i[0], '\\t', i[1].text)\n",
        "    c = c + 1\n",
        "    if c > 5:\n",
        "        break"
      ],
      "execution_count": 0,
      "outputs": []
    },
    {
      "cell_type": "code",
      "metadata": {
        "colab_type": "code",
        "id": "It9SV878P1JL",
        "colab": {},
        "outputId": "c5123415-7a3f-4f48-b476-fa27d6bc7000"
      },
      "source": [
        "# Calculate one by one similarity score\n",
        "start_time = time.time()\n",
        "similarities = []\n",
        "l = len(prepared)\n",
        "c = 0\n",
        "for i in prepared:\n",
        "    c = c + 1\n",
        "    for j in prepared:\n",
        "        score = i[1].similarity(j[1])\n",
        "        similarities.append((i[0],j[0],score))\n",
        "    if c % 10 == 0:\n",
        "        progress = c/l*100\n",
        "        print('Progress: %s %%' % round(progress, 2), end=\"\\r\", flush=True)\n",
        "print('\\nDone')\n",
        "print(\"--- %s seconds ---\" % (time.time() - start_time))"
      ],
      "execution_count": 0,
      "outputs": [
        {
          "output_type": "stream",
          "text": [
            "Progress: 99.8 %%\n",
            "Done\n",
            "--- 150.92698454856873 seconds ---\n"
          ],
          "name": "stdout"
        }
      ]
    },
    {
      "cell_type": "code",
      "metadata": {
        "scrolled": true,
        "id": "LY5JwnQ2gE3f",
        "colab_type": "code",
        "colab": {}
      },
      "source": [
        "dfObj = pd.DataFrame(similarities) "
      ],
      "execution_count": 0,
      "outputs": []
    },
    {
      "cell_type": "code",
      "metadata": {
        "id": "g8W5ewkygE3j",
        "colab_type": "code",
        "colab": {}
      },
      "source": [
        "sorted_similarities = sorted(similarities, key=lambda tup: tup[2], reverse=True)"
      ],
      "execution_count": 0,
      "outputs": []
    },
    {
      "cell_type": "code",
      "metadata": {
        "id": "KHLtH-7RgE3m",
        "colab_type": "code",
        "colab": {},
        "outputId": "8a60a90c-a372-4081-df1b-d61b650f95c0"
      },
      "source": [
        "sorted_similarities[510:550]"
      ],
      "execution_count": 0,
      "outputs": [
        {
          "output_type": "execute_result",
          "data": {
            "text/plain": [
              "[(560, 560, 1.0),\n",
              " (561, 561, 1.0),\n",
              " (562, 562, 1.0),\n",
              " (563, 563, 1.0),\n",
              " (564, 564, 1.0),\n",
              " (565, 565, 1.0),\n",
              " (566, 566, 1.0),\n",
              " (567, 567, 1.0),\n",
              " (569, 569, 1.0),\n",
              " (48, 54, 0.9999999801943156),\n",
              " (48, 441, 0.9999999801943156),\n",
              " (54, 48, 0.9999999801943156),\n",
              " (54, 441, 0.9999999801943156),\n",
              " (441, 48, 0.9999999801943156),\n",
              " (441, 54, 0.9999999801943156),\n",
              " (43, 48, 0.9999999741066152),\n",
              " (43, 54, 0.9999999741066152),\n",
              " (43, 441, 0.9999999741066152),\n",
              " (48, 43, 0.9999999741066152),\n",
              " (48, 373, 0.9999999741066152),\n",
              " (48, 553, 0.9999999741066152),\n",
              " (54, 43, 0.9999999741066152),\n",
              " (54, 373, 0.9999999741066152),\n",
              " (54, 553, 0.9999999741066152),\n",
              " (373, 48, 0.9999999741066152),\n",
              " (373, 54, 0.9999999741066152),\n",
              " (373, 441, 0.9999999741066152),\n",
              " (441, 43, 0.9999999741066152),\n",
              " (441, 373, 0.9999999741066152),\n",
              " (441, 553, 0.9999999741066152),\n",
              " (553, 48, 0.9999999741066152),\n",
              " (553, 54, 0.9999999741066152),\n",
              " (553, 441, 0.9999999741066152),\n",
              " (213, 559, 0.9999999672100989),\n",
              " (559, 213, 0.9999999672100989),\n",
              " (43, 373, 0.9999999231865646),\n",
              " (43, 553, 0.9999999231865646),\n",
              " (373, 43, 0.9999999231865646),\n",
              " (373, 553, 0.9999999231865646),\n",
              " (553, 43, 0.9999999231865646)]"
            ]
          },
          "metadata": {
            "tags": []
          },
          "execution_count": 61
        }
      ]
    },
    {
      "cell_type": "code",
      "metadata": {
        "id": "Wg7JBDAbgE3p",
        "colab_type": "code",
        "colab": {}
      },
      "source": [
        "def test(df,id1,id2):\n",
        "    s1 = to_string(df,id1)\n",
        "    print('s1: ' + s1)\n",
        "    s2 = to_string(df,id2)\n",
        "    print('s2: ' + s2)\n",
        "    s1 = remove_puntuation(s1)\n",
        "    s2 = remove_puntuation(s2)\n",
        "    doc1 = remove_stop_word(s1)\n",
        "    print('Doc1: ' + doc1.text + '\\t')\n",
        "    doc2 = remove_stop_word(s2)\n",
        "    print('Doc2: ' + doc2.text + '\\t')\n",
        "    print('Similarity: ' + str(doc1.similarity(doc2)))"
      ],
      "execution_count": 0,
      "outputs": []
    },
    {
      "cell_type": "code",
      "metadata": {
        "id": "UBWTXjDjgE3r",
        "colab_type": "code",
        "colab": {},
        "outputId": "ce911b60-58df-400c-cdf0-4159562fb309"
      },
      "source": [
        "test(df,48,441)"
      ],
      "execution_count": 0,
      "outputs": [
        {
          "output_type": "stream",
          "text": [
            "s1: hueRotate bug in ColorMatrix\n",
            "s2: [BUG] BugRat Report#759\n",
            "Doc1: hueRotate bug ColorMatrix\t\n",
            "Doc2: BUG BugRat Report759\t\n",
            "Similarity: 0.9999999801943156\n"
          ],
          "name": "stdout"
        }
      ]
    },
    {
      "cell_type": "code",
      "metadata": {
        "id": "ddu5YNTlgE3u",
        "colab_type": "code",
        "colab": {}
      },
      "source": [
        ""
      ],
      "execution_count": 0,
      "outputs": []
    },
    {
      "cell_type": "code",
      "metadata": {
        "id": "q5Rex01pgE3w",
        "colab_type": "code",
        "colab": {}
      },
      "source": [
        ""
      ],
      "execution_count": 0,
      "outputs": []
    },
    {
      "cell_type": "code",
      "metadata": {
        "colab_type": "code",
        "id": "bpD4m_r8aBet",
        "scrolled": true,
        "colab": {}
      },
      "source": [
        "dfObj.to_csv('similarities', index = False)"
      ],
      "execution_count": 0,
      "outputs": []
    },
    {
      "cell_type": "code",
      "metadata": {
        "id": "CDv5-ZL2gE30",
        "colab_type": "code",
        "colab": {}
      },
      "source": [
        ""
      ],
      "execution_count": 0,
      "outputs": []
    }
  ]
}