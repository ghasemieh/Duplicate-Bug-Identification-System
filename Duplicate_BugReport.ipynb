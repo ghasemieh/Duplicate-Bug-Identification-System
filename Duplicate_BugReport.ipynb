{
 "cells": [
  {
   "cell_type": "code",
   "execution_count": 11,
   "metadata": {
    "colab": {},
    "colab_type": "code",
    "id": "g4Y20uWiqC_o",
    "pycharm": {
     "name": "#%%\n",
     "is_executing": false
    }
   },
   "outputs": [],
   "source": [
    "import numpy as np\n",
    "import pandas as pd\n",
    "import progressbar as pb\n",
    "import time\n",
    "import warnings\n",
    "import text_processing as tp\n",
    "warnings.filterwarnings('ignore')\n",
    "import pickle"
   ]
  },
  {
   "cell_type": "code",
   "execution_count": 12,
   "metadata": {
    "colab": {},
    "colab_type": "code",
    "id": "wcgC4k6LqC_t",
    "pycharm": {
     "name": "#%%\n",
     "is_executing": false
    },
    "scrolled": true
   },
   "outputs": [
    {
     "name": "stdout",
     "text": [
      "Remove NA\n",
      "Before removing the NaN:\n",
      "id                 0\n",
      "product            0\n",
      "component          0\n",
      "reporter           0\n",
      "bug_status         0\n",
      "resolution         0\n",
      "priority           0\n",
      "bug_severity       0\n",
      "version            0\n",
      "short_desc         1\n",
      "opendate           0\n",
      "dup_list        1499\n",
      "root_id         1406\n",
      "disc_id         1406\n",
      "dtype: int64\n",
      "\n",
      "After removing the NaN:\n",
      " id                 0\n",
      "product            0\n",
      "component          0\n",
      "reporter           0\n",
      "bug_status         0\n",
      "resolution         0\n",
      "priority           0\n",
      "bug_severity       0\n",
      "version            0\n",
      "short_desc         0\n",
      "opendate           0\n",
      "dup_list        1498\n",
      "root_id         1405\n",
      "disc_id         1405\n",
      "dtype: int64\n"
     ],
     "output_type": "stream"
    }
   ],
   "source": [
    "# Import dataset\n",
    "data = pd.read_csv('Data/TestData2500.csv',sep=',')\n",
    "# Remove nan from the main dataset\n",
    "tp.remove_nan(data)"
   ]
  },
  {
   "cell_type": "code",
   "execution_count": 13,
   "metadata": {
    "colab": {},
    "colab_type": "code",
    "id": "YSGUykkOqC_w",
    "pycharm": {
     "is_executing": false
    }
   },
   "outputs": [
    {
     "name": "stderr",
     "text": [
      "100% (1594 of 1594) |####################| Elapsed Time: 0:01:11 ETA:  00:00:00"
     ],
     "output_type": "stream"
    },
    {
     "name": "stdout",
     "text": [
      "Preprocessing the text\n",
      "Remove NA\n",
      "Before removing the NaN:\n",
      "id                         0\n",
      "short_desc_processed       0\n",
      "product                    0\n",
      "component                  0\n",
      "reporter                   0\n",
      "bug_status                 0\n",
      "resolution                 0\n",
      "priority                   0\n",
      "bug_severity               0\n",
      "version                    0\n",
      "short_desc                 0\n",
      "opendate                   0\n",
      "dup_list                1498\n",
      "root_id                 1405\n",
      "disc_id                 1405\n",
      "dtype: int64\n",
      "\n",
      "After removing the NaN:\n",
      " id                         0\n",
      "short_desc_processed       0\n",
      "product                    0\n",
      "component                  0\n",
      "reporter                   0\n",
      "bug_status                 0\n",
      "resolution                 0\n",
      "priority                   0\n",
      "bug_severity               0\n",
      "version                    0\n",
      "short_desc                 0\n",
      "opendate                   0\n",
      "dup_list                1498\n",
      "root_id                 1405\n",
      "disc_id                 1405\n",
      "dtype: int64\n",
      "Text preprocessing --- 72.02693605422974 seconds ---\n"
     ],
     "output_type": "stream"
    }
   ],
   "source": [
    "# Preprocessing the short_desc\n",
    "processed_data_df = tp.text_preprocessing(data,\"short_desc\")\n",
    "# # Save to file to save time\n",
    "processed_data_df.to_csv('Data/processed_TestData2500_df.csv',index=False)"
   ]
  },
  {
   "cell_type": "code",
   "execution_count": 14,
   "metadata": {
    "colab": {},
    "colab_type": "code",
    "id": "BerhLMLBqC_z",
    "pycharm": {
     "is_executing": false
    }
   },
   "outputs": [],
   "source": [
    "# Load prosecced df from file to save time\n",
    "processed_data_df = pd.read_csv('Data/processed_TestData2500_df.csv',sep=',')"
   ]
  },
  {
   "cell_type": "code",
   "execution_count": 15,
   "metadata": {
    "colab": {},
    "colab_type": "code",
    "id": "KlpjDsOiqC_1",
    "pycharm": {
     "is_executing": false
    },
    "scrolled": true
   },
   "outputs": [],
   "source": [
    "# Model-1: Similarity Score - Word2vec -------------------------------------------------------------------------\n",
    "import spacy\n",
    "nlp = spacy.load('en_core_web_lg')\n",
    "execution_count_word2vec = 0\n",
    "processed_data_nlp_df = []\n",
    "\n",
    "# Convert short_desc str to nlp format to fasten the computation process \n",
    "def word2vec_preprocess(df):\n",
    "    print('Convert short_desc str to nlp format')\n",
    "    sample_size = len(df)\n",
    "    progress = pb.ProgressBar(maxval = sample_size).start()\n",
    "    progvar  = 0\n",
    "    processed_data_nlp = []\n",
    "    for tup in df.itertuples():\n",
    "        processed_data_nlp.append((tup.id,tup.product,nlp(tup.short_desc_processed))) \n",
    "        progress.update(progvar + 1)\n",
    "        progvar += 1\n",
    "    global processed_data_nlp_df\n",
    "    processed_data_nlp_df = pd.DataFrame(processed_data_nlp, columns=['id','product','short_desc_processed'])\n",
    "    global execution_count_word2vec\n",
    "    execution_count_word2vec += 1\n",
    "\n",
    "# Calculate the cosine similarity score\n",
    "def word2vec_similarity(id,df):\n",
    "    if execution_count_word2vec == 0:\n",
    "        word2vec_preprocess(df)\n",
    "    similarities_score_list = []\n",
    "    product_main = processed_data_nlp_df.loc[lambda df: df['id'] == id,'product'].array[0]\n",
    "    short_desc_processed_main = processed_data_nlp_df.loc[lambda df: df['id'] == id,'short_desc_processed'].array[0]\n",
    "    for doc in processed_data_nlp_df.itertuples():\n",
    "        product_other = processed_data_nlp_df.loc[lambda df: df['id'] == doc.id,'product'].array[0]\n",
    "        if product_main == product_other:\n",
    "            similarity_score = doc.short_desc_processed.similarity(short_desc_processed_main)\n",
    "            similarities_score_list.append((doc.id,similarity_score))\n",
    "    #convert to dataframe\n",
    "    word2vec_similarities_score_df = pd.DataFrame(similarities_score_list, columns=['id','word2vec_score'] )\n",
    "    word2vec_similarities_score_df = word2vec_similarities_score_df.reset_index(drop=True)\n",
    "    return word2vec_similarities_score_df"
   ]
  },
  {
   "cell_type": "code",
   "execution_count": 16,
   "metadata": {
    "colab": {},
    "colab_type": "code",
    "id": "-gU1hrZ1qC_3",
    "pycharm": {
     "is_executing": false
    },
    "scrolled": true
   },
   "outputs": [],
   "source": [
    "# Model-2: Similarity Score - TF-idf ----------------------------------------------------------------------------\n",
    "from sklearn.feature_extraction.text import TfidfVectorizer\n",
    "from sklearn.metrics.pairwise import linear_kernel\n",
    "\n",
    "tfidf_cosine_similarities = []\n",
    "execution_count_tfidf = 0\n",
    "\n",
    "def tfidf_preprocess(df):\n",
    "    X_train = df['short_desc_processed']\n",
    "    print('TF-idf Vectorization and similarity score computation')\n",
    "    # Vectorization\n",
    "    vectorizer = TfidfVectorizer()\n",
    "    tfidf = vectorizer.fit_transform(X_train)\n",
    "    # Calculate the cosine similarity score\n",
    "    global tfidf_cosine_similarities\n",
    "    tfidf_cosine_similarities = linear_kernel(tfidf)\n",
    "    global shape_tfidf\n",
    "    shape_tfidf = tfidf_cosine_similarities.shape[0]\n",
    "    print('TF-idf preprocess done')\n",
    "    global execution_count_tfidf\n",
    "    execution_count_tfidf += 1\n",
    "\n",
    "def tfidf_similarities(id,df):\n",
    "    if execution_count_tfidf == 0:\n",
    "        tfidf_preprocess(df)\n",
    "    index_main   = df.loc[lambda df: df['id'] == id].index.array[0]\n",
    "    product_main = df.loc[lambda df: df['id'] == id,'product'].array[0]\n",
    "    tfidf_cosine_similarities_list = []\n",
    "    for index_other in range(shape_tfidf):\n",
    "        id_other      = df.iloc[index_other]['id']\n",
    "        product_other = df.iloc[index_other]['product']\n",
    "        if product_main == product_other:\n",
    "            tfidf_cosine_similarities_list.append([id_other,tfidf_cosine_similarities[index_main,index_other]])\n",
    "    #Conver to dataframe\n",
    "    tfidf_cosine_similarities_score_df = pd.DataFrame(tfidf_cosine_similarities_list, columns=['id','tfidf_score'])\n",
    "    tfidf_cosine_similarities_score_df = tfidf_cosine_similarities_score_df.reset_index(drop=True)\n",
    "    return tfidf_cosine_similarities_score_df"
   ]
  },
  {
   "cell_type": "code",
   "execution_count": 17,
   "metadata": {
    "colab": {},
    "colab_type": "code",
    "id": "z5wlDGp3qC_6",
    "pycharm": {
     "is_executing": false
    }
   },
   "outputs": [],
   "source": [
    "# Model-3: Similarity Score - BM25F -----------------------------------------------------------------------------\n",
    "from rank_bm25 import BM25Okapi\n",
    "\n",
    "processed_corpus_list = []\n",
    "bm25 = []\n",
    "execution_count_bm25 = 0\n",
    "\n",
    "# preprocess - tokenize the short_desc to token\n",
    "def bm25_preprocess(df):\n",
    "    print('preprocess - tokenize the short_desc to token')\n",
    "    sample_size = len(df)\n",
    "    global processed_corpus_list\n",
    "    processed_corpus_list = []\n",
    "    for x in df.itertuples():\n",
    "        short_desc_splited = x.short_desc_processed.split(\" \")\n",
    "        processed_corpus_list.append(short_desc_splited)\n",
    "    # Create a MB24 Object with the corpus\n",
    "    global bm25\n",
    "    bm25 = BM25Okapi(processed_corpus_list)\n",
    "    global execution_count_bm25\n",
    "    execution_count_bm25 += 1\n",
    "    \n",
    "# Calculate the similarity score\n",
    "def bm25_similarity(id,df):\n",
    "    if execution_count_bm25 == 0:\n",
    "        bm25_preprocess(df)\n",
    "    index_main    = df.loc[lambda df: df['id'] == id].index.array[0]\n",
    "    product_main  = df.loc[lambda df: df['id'] == id,'product'].array[0]\n",
    "    query         = processed_corpus_list[index_main]\n",
    "    doc_scores    = bm25.get_scores(query)\n",
    "    doc_scores_df = pd.DataFrame(doc_scores, columns=['bm25_score'])\n",
    "    # add id to the score list and remove unsimiliar product\n",
    "    blanks = []\n",
    "    for x in doc_scores_df.itertuples():\n",
    "        id_other      = df.iloc[x.Index]['id']\n",
    "        product_other = df.iloc[x.Index]['product']\n",
    "        # add id to the score list\n",
    "        doc_scores_df.loc[x.Index,'id'] = id_other\n",
    "        if product_main != product_other:\n",
    "            blanks.append(x.Index)    \n",
    "    doc_scores_df.drop(blanks,inplace=True)   \n",
    "    doc_scores_df = doc_scores_df.reset_index(drop = True)  \n",
    "    return doc_scores_df"
   ]
  },
  {
   "cell_type": "markdown",
   "metadata": {
    "colab_type": "text",
    "id": "1z8EslEyqC_8"
   },
   "source": [
    "# Assessment the Model Accuracy"
   ]
  },
  {
   "cell_type": "code",
   "execution_count": 18,
   "metadata": {
    "colab": {},
    "colab_type": "code",
    "id": "ikHJjrkvqC_9",
    "scrolled": false,
    "pycharm": {
     "is_executing": false
    }
   },
   "outputs": [],
   "source": [
    "# Assessment the Model Accuracy -------------------------------------------------------------------------------\n",
    "# duplicate_df = pd.read_csv('https://zenodo.org/record/400614/files/apache.relations.csv?download=1',sep=',')\n",
    "duplicate_df = pd.read_csv('Data/duplicate_df.csv',sep=',')"
   ]
  },
  {
   "cell_type": "code",
   "execution_count": 19,
   "metadata": {
    "colab": {},
    "colab_type": "code",
    "id": "_qFg56-HqC__",
    "scrolled": true,
    "pycharm": {
     "is_executing": false
    }
   },
   "outputs": [],
   "source": [
    "# Calculate the similarity scores and return the first n top scoes\n",
    "def similarity_score(id, df,top_n):\n",
    "    word2vec_similarity_df = word2vec_similarity(id, df).sort_values(by=['word2vec_score'],ascending=False).head(top_n)\n",
    "    tfidf_similarity_df    = tfidf_similarities(id, df).sort_values(by=['tfidf_score'],ascending=False).head(top_n)\n",
    "    bm25_similarity_df     = bm25_similarity(id, df).sort_values(by=['bm25_score'],ascending=False).head(top_n)    \n",
    "    return word2vec_similarity_df, tfidf_similarity_df, bm25_similarity_df"
   ]
  },
  {
   "cell_type": "code",
   "execution_count": 20,
   "metadata": {
    "colab": {},
    "colab_type": "code",
    "id": "lgayCI1DqDAC",
    "outputId": "f01c78d2-a083-44ac-f740-744535e96df2",
    "scrolled": true,
    "pycharm": {
     "is_executing": false
    }
   },
   "outputs": [
    {
     "name": "stderr",
     "text": [
      "100% (83 of 83) |########################| Elapsed Time: 0:03:25 ETA:  00:00:00"
     ],
     "output_type": "stream"
    },
    {
     "name": "stdout",
     "text": [
      "Convert short_desc str to nlp format\n",
      "TF-idf Vectorization and similarity score computation\n",
      "TF-idf preprocess done\n",
      "preprocess - tokenize the short_desc to token\n",
      "-Total- 205.5256335735321 seconds ---\n"
     ],
     "output_type": "stream"
    }
   ],
   "source": [
    "# Calculate the similarity score for the reported duplicated bug report\n",
    "start_time  = time.time()\n",
    "sample_size = len(duplicate_df)\n",
    "progress    = pb.ProgressBar(maxval = sample_size).start()\n",
    "progvar     = 0\n",
    "duplicated_similarity_score_list = []\n",
    "\n",
    "for tup in duplicate_df.itertuples():\n",
    "    word2vec_similarity_df, tfidf_similarity_df, bm25_similarity_df = similarity_score(tup.id, processed_data_df,20)\n",
    "    duplicated_similarity_score_list.append([tup.id,tup.dup,word2vec_similarity_df,tfidf_similarity_df,bm25_similarity_df])\n",
    "    progress.update(progvar + 1)\n",
    "    progvar += 1\n",
    "    \n",
    "print(\"-Total- %s seconds ---\" % (time.time() - start_time))"
   ]
  },
  {
   "cell_type": "code",
   "execution_count": 21,
   "metadata": {
    "colab": {},
    "colab_type": "code",
    "id": "4DtDQ8rhqDAF",
    "scrolled": true,
    "pycharm": {
     "is_executing": false
    }
   },
   "outputs": [],
   "source": [
    "# Save the list to a file since it takes 8 hours to create it\n",
    "with open(\"Data/duplicated_similarity_score_list_2500.txt\", \"wb\") as fp:   #Pickling\n",
    "    pickle.dump(duplicated_similarity_score_list, fp)\n",
    "\n",
    "# # Read the list from a file \n",
    "with open(\"Data/duplicated_similarity_score_list_2500.txt\", \"rb\") as fp:   # Unpickling\n",
    "    duplicated_similarity_score_list = pickle.load(fp)"
   ]
  },
  {
   "cell_type": "markdown",
   "metadata": {},
   "source": [
    "## Calculate the Recall Rate"
   ]
  },
  {
   "cell_type": "code",
   "execution_count": 22,
   "metadata": {
    "colab": {},
    "colab_type": "code",
    "id": "JKSY0w_cqJXg",
    "pycharm": {
     "is_executing": false
    }
   },
   "outputs": [],
   "source": [
    "# Calculate the Recall rate\n",
    "def recall_rate_calculation(name_of_algorthem):\n",
    "    if name_of_algorthem == 'word2vec':\n",
    "        select_algorithm = 2\n",
    "        print('word2vec result:')\n",
    "    elif name_of_algorthem == 'tfidf':\n",
    "        select_algorithm = 3\n",
    "        print('TF-idf result:')\n",
    "    elif name_of_algorthem == 'bm25':\n",
    "        select_algorithm = 4\n",
    "        print('bm25 result:')\n",
    "    else:\n",
    "        return \"Wrong selection\"\n",
    "    found_counter = 0\n",
    "    not_found_counter = 0\n",
    "    for x in duplicated_similarity_score_list:\n",
    "        dup = x[1]\n",
    "        df = x[select_algorithm]\n",
    "        if df.loc[df['id'] == dup].empty:\n",
    "            not_found_counter +=1\n",
    "        else:\n",
    "            found_counter +=1\n",
    "    print('Num of duplicated report found: ',found_counter)\n",
    "    print('Num of duplicated report not found: ',not_found_counter)\n",
    "    print('Recall (TP/TP+FN): ', round(found_counter/len(duplicated_similarity_score_list)*100,2),'%\\n')"
   ]
  },
  {
   "cell_type": "code",
   "execution_count": 23,
   "metadata": {
    "colab": {},
    "colab_type": "code",
    "id": "d8uPULPPqa4c",
    "pycharm": {
     "is_executing": false
    }
   },
   "outputs": [
    {
     "name": "stdout",
     "text": [
      "word2vec result:\n",
      "Num of duplicated report found:  48\n",
      "Num of duplicated report not found:  35\n",
      "Recall (TP/TP+FN):  57.83 %\n",
      "\n",
      "TF-idf result:\n",
      "Num of duplicated report found:  51\n",
      "Num of duplicated report not found:  32\n",
      "Recall (TP/TP+FN):  61.45 %\n",
      "\n",
      "bm25 result:\n",
      "Num of duplicated report found:  50\n",
      "Num of duplicated report not found:  33\n",
      "Recall (TP/TP+FN):  60.24 %\n",
      "\n"
     ],
     "output_type": "stream"
    }
   ],
   "source": [
    "# Check the results\n",
    "recall_rate_calculation('word2vec')\n",
    "recall_rate_calculation('tfidf')\n",
    "recall_rate_calculation('bm25')"
   ]
  },
  {
   "attachments": {
    "image.png": {
     "image/png": "[encoded data removed]"
    }
   },
   "cell_type": "markdown",
   "metadata": {},
   "source": [
    "## Calculate the MRR \n",
    "![image.png](attachment:image.png)"
   ]
  },
  {
   "cell_type": "code",
   "execution_count": 24,
   "metadata": {
    "pycharm": {
     "is_executing": false
    }
   },
   "outputs": [],
   "source": [
    "# Calculate the MRR\n",
    "def MRR_rate_calculation(name_of_algorthem):\n",
    "    if name_of_algorthem == 'word2vec':\n",
    "        select_algorithm = 2\n",
    "        print('word2vec result:')\n",
    "    elif name_of_algorthem == 'tfidf':\n",
    "        select_algorithm = 3\n",
    "        print('TF-idf result:')\n",
    "    elif name_of_algorthem == 'bm25':\n",
    "        select_algorithm = 4\n",
    "        print('bm25 result:')\n",
    "    else:\n",
    "        return \"Wrong selection\"\n",
    "    found_counter = 0\n",
    "    not_found_counter = 0\n",
    "    revers_sum = 0\n",
    "    for x in duplicated_similarity_score_list:\n",
    "        dup = x[1]\n",
    "        df = x[select_algorithm].reset_index(drop=True)\n",
    "        if df.loc[df['id'] == dup].empty:\n",
    "            not_found_counter +=1\n",
    "        else:\n",
    "            found_counter +=1\n",
    "            for tup in df.itertuples():\n",
    "                if int(tup.id) == dup:\n",
    "                    if tup.Index ==0 :\n",
    "                        revers_sum += 1/(tup.Index+1)\n",
    "                    else:\n",
    "                        revers_sum += 1/(tup.Index)\n",
    "                \n",
    "    print('Num of duplicated report found: ',found_counter)\n",
    "    print('Num of duplicated report not found: ',not_found_counter)\n",
    "    print('MRR_rate: ', round((1/len(duplicated_similarity_score_list))*revers_sum,5),'\\n')"
   ]
  },
  {
   "cell_type": "code",
   "execution_count": 25,
   "metadata": {
    "pycharm": {
     "is_executing": false
    }
   },
   "outputs": [
    {
     "name": "stdout",
     "text": [
      "word2vec result:\n",
      "Num of duplicated report found:  48\n",
      "Num of duplicated report not found:  35\n",
      "MRR_rate:  0.3138 \n",
      "\n",
      "TF-idf result:\n",
      "Num of duplicated report found:  51\n",
      "Num of duplicated report not found:  32\n",
      "MRR_rate:  0.35534 \n",
      "\n",
      "bm25 result:\n",
      "Num of duplicated report found:  50\n",
      "Num of duplicated report not found:  33\n",
      "MRR_rate:  0.34919 \n",
      "\n"
     ],
     "output_type": "stream"
    }
   ],
   "source": [
    "MRR_rate_calculation('word2vec')\n",
    "MRR_rate_calculation('tfidf')\n",
    "MRR_rate_calculation('bm25')"
   ]
  },
  {
   "attachments": {
    "image.png": {
     "image/png": "[encoded data removed]"
    }
   },
   "cell_type": "markdown",
   "metadata": {},
   "source": [
    "## Calculate the MAP\n",
    "![image.png](attachment:image.png)"
   ]
  },
  {
   "cell_type": "code",
   "execution_count": 26,
   "metadata": {
    "pycharm": {
     "is_executing": false
    }
   },
   "outputs": [],
   "source": [
    "# Calculate the MAP\n",
    "def MAP_rate_calculation(name_of_algorthem, threshold):\n",
    "    if name_of_algorthem == 'word2vec':\n",
    "        select_algorithm = 2\n",
    "        print('word2vec result:')\n",
    "    elif name_of_algorthem == 'tfidf':\n",
    "        select_algorithm = 3\n",
    "        print('TF-idf result:')\n",
    "    elif name_of_algorthem == 'bm25':\n",
    "        select_algorithm = 4\n",
    "        print('bm25 result:')\n",
    "    else:\n",
    "        return \"Wrong selection\"\n",
    "    found_counter = 0\n",
    "    not_found_counter = 0\n",
    "    sum_overall_AP = 0\n",
    "    overall_AP = 0\n",
    "    for x in duplicated_similarity_score_list:\n",
    "        dup = x[1]\n",
    "        df = x[select_algorithm].reset_index(drop=True)\n",
    "        \n",
    "        if df.loc[df['id'] == dup].empty:\n",
    "            not_found_counter +=1\n",
    "        else:\n",
    "            num_true_positive = 1\n",
    "            sumAP = 0\n",
    "            for tup in df.itertuples():\n",
    "                if int(tup.id) == dup:\n",
    "                    found_counter +=1\n",
    "                    if tup.Index ==0 :\n",
    "                        sumAP += num_true_positive/(tup.Index+1)\n",
    "                    else:\n",
    "                        sumAP += num_true_positive/(tup.Index)\n",
    "                num_true_positive += 1 \n",
    "            overall_AP = (1/num_true_positive) * sumAP\n",
    "        sum_overall_AP += overall_AP\n",
    "                \n",
    "    print('Num of duplicated report found: ',found_counter)\n",
    "    print('Num of duplicated report not found: ',not_found_counter)\n",
    "    print('MAP_rate: ',round(sum_overall_AP/len(duplicated_similarity_score_list)*100,5), '\\n')"
   ]
  },
  {
   "cell_type": "code",
   "execution_count": 27,
   "metadata": {
    "pycharm": {
     "is_executing": false
    }
   },
   "outputs": [
    {
     "name": "stdout",
     "text": [
      "word2vec result:\n",
      "Num of duplicated report found:  48\n",
      "Num of duplicated report not found:  35\n",
      "MAP_rate:  6.30397 \n",
      "\n",
      "TF-idf result:\n",
      "Num of duplicated report found:  51\n",
      "Num of duplicated report not found:  32\n",
      "MAP_rate:  6.84587 \n",
      "\n",
      "bm25 result:\n",
      "Num of duplicated report found:  50\n",
      "Num of duplicated report not found:  33\n",
      "MAP_rate:  6.70286 \n",
      "\n"
     ],
     "output_type": "stream"
    }
   ],
   "source": [
    "MAP_rate_calculation('word2vec',0.5)\n",
    "MAP_rate_calculation('tfidf',0.3)\n",
    "MAP_rate_calculation('bm25',0.5)"
   ]
  },
  {
   "cell_type": "markdown",
   "metadata": {},
   "source": [
    "## TF-idf PySpark"
   ]
  },
  {
   "cell_type": "markdown",
   "metadata": {},
   "source": [
    "### Feature Transformations"
   ]
  },
  {
   "cell_type": "code",
   "execution_count": 28,
   "metadata": {
    "pycharm": {
     "is_executing": false
    }
   },
   "outputs": [],
   "source": [
    "from pyspark.sql import SparkSession"
   ]
  },
  {
   "cell_type": "code",
   "execution_count": 29,
   "metadata": {
    "pycharm": {
     "is_executing": false
    }
   },
   "outputs": [
    {
     "traceback": [
      "\u001b[0;31m---------------------------------------------------------------------------\u001b[0m",
      "\u001b[0;31mPy4JJavaError\u001b[0m                             Traceback (most recent call last)",
      "\u001b[0;32m~/anaconda3/lib/python3.7/site-packages/pyspark/sql/utils.py\u001b[0m in \u001b[0;36mdeco\u001b[0;34m(*a, **kw)\u001b[0m\n\u001b[1;32m     62\u001b[0m         \u001b[0;32mtry\u001b[0m\u001b[0;34m:\u001b[0m\u001b[0;34m\u001b[0m\u001b[0;34m\u001b[0m\u001b[0m\n\u001b[0;32m---> 63\u001b[0;31m             \u001b[0;32mreturn\u001b[0m \u001b[0mf\u001b[0m\u001b[0;34m(\u001b[0m\u001b[0;34m*\u001b[0m\u001b[0ma\u001b[0m\u001b[0;34m,\u001b[0m \u001b[0;34m**\u001b[0m\u001b[0mkw\u001b[0m\u001b[0;34m)\u001b[0m\u001b[0;34m\u001b[0m\u001b[0;34m\u001b[0m\u001b[0m\n\u001b[0m\u001b[1;32m     64\u001b[0m         \u001b[0;32mexcept\u001b[0m \u001b[0mpy4j\u001b[0m\u001b[0;34m.\u001b[0m\u001b[0mprotocol\u001b[0m\u001b[0;34m.\u001b[0m\u001b[0mPy4JJavaError\u001b[0m \u001b[0;32mas\u001b[0m \u001b[0me\u001b[0m\u001b[0;34m:\u001b[0m\u001b[0;34m\u001b[0m\u001b[0;34m\u001b[0m\u001b[0m\n",
      "\u001b[0;32m~/anaconda3/lib/python3.7/site-packages/py4j/protocol.py\u001b[0m in \u001b[0;36mget_return_value\u001b[0;34m(answer, gateway_client, target_id, name)\u001b[0m\n\u001b[1;32m    327\u001b[0m                     \u001b[0;34m\"An error occurred while calling {0}{1}{2}.\\n\"\u001b[0m\u001b[0;34m.\u001b[0m\u001b[0;34m\u001b[0m\u001b[0;34m\u001b[0m\u001b[0m\n\u001b[0;32m--> 328\u001b[0;31m                     format(target_id, \".\", name), value)\n\u001b[0m\u001b[1;32m    329\u001b[0m             \u001b[0;32melse\u001b[0m\u001b[0;34m:\u001b[0m\u001b[0;34m\u001b[0m\u001b[0;34m\u001b[0m\u001b[0m\n",
      "\u001b[0;31mPy4JJavaError\u001b[0m: An error occurred while calling o30.csv.\n: org.apache.spark.sql.AnalysisException: Path does not exist: file:/mnt/hgfs/Google Drive/Colab Notebooks/Duplicated Bug Report Detection/processed_TestData2500_df.csv;\n\tat org.apache.spark.sql.execution.datasources.DataSource$$anonfun$org$apache$spark$sql$execution$datasources$DataSource$$checkAndGlobPathIfNecessary$1.apply(DataSource.scala:558)\n\tat org.apache.spark.sql.execution.datasources.DataSource$$anonfun$org$apache$spark$sql$execution$datasources$DataSource$$checkAndGlobPathIfNecessary$1.apply(DataSource.scala:545)\n\tat scala.collection.TraversableLike$$anonfun$flatMap$1.apply(TraversableLike.scala:241)\n\tat scala.collection.TraversableLike$$anonfun$flatMap$1.apply(TraversableLike.scala:241)\n\tat scala.collection.immutable.List.foreach(List.scala:392)\n\tat scala.collection.TraversableLike$class.flatMap(TraversableLike.scala:241)\n\tat scala.collection.immutable.List.flatMap(List.scala:355)\n\tat org.apache.spark.sql.execution.datasources.DataSource.org$apache$spark$sql$execution$datasources$DataSource$$checkAndGlobPathIfNecessary(DataSource.scala:545)\n\tat org.apache.spark.sql.execution.datasources.DataSource.resolveRelation(DataSource.scala:359)\n\tat org.apache.spark.sql.DataFrameReader.loadV1Source(DataFrameReader.scala:223)\n\tat org.apache.spark.sql.DataFrameReader.load(DataFrameReader.scala:211)\n\tat org.apache.spark.sql.DataFrameReader.csv(DataFrameReader.scala:618)\n\tat sun.reflect.NativeMethodAccessorImpl.invoke0(Native Method)\n\tat sun.reflect.NativeMethodAccessorImpl.invoke(NativeMethodAccessorImpl.java:62)\n\tat sun.reflect.DelegatingMethodAccessorImpl.invoke(DelegatingMethodAccessorImpl.java:43)\n\tat java.lang.reflect.Method.invoke(Method.java:498)\n\tat py4j.reflection.MethodInvoker.invoke(MethodInvoker.java:244)\n\tat py4j.reflection.ReflectionEngine.invoke(ReflectionEngine.java:357)\n\tat py4j.Gateway.invoke(Gateway.java:282)\n\tat py4j.commands.AbstractCommand.invokeMethod(AbstractCommand.java:132)\n\tat py4j.commands.CallCommand.execute(CallCommand.java:79)\n\tat py4j.GatewayConnection.run(GatewayConnection.java:238)\n\tat java.lang.Thread.run(Thread.java:748)\n",
      "\nDuring handling of the above exception, another exception occurred:\n",
      "\u001b[0;31mAnalysisException\u001b[0m                         Traceback (most recent call last)",
      "\u001b[0;32m<ipython-input-29-fef1c84cbea2>\u001b[0m in \u001b[0;36m<module>\u001b[0;34m\u001b[0m\n\u001b[1;32m      1\u001b[0m \u001b[0mspark\u001b[0m \u001b[0;34m=\u001b[0m \u001b[0mSparkSession\u001b[0m\u001b[0;34m.\u001b[0m\u001b[0mbuilder\u001b[0m\u001b[0;34m.\u001b[0m\u001b[0mappName\u001b[0m\u001b[0;34m(\u001b[0m\u001b[0;34m'nlp'\u001b[0m\u001b[0;34m)\u001b[0m\u001b[0;34m.\u001b[0m\u001b[0mgetOrCreate\u001b[0m\u001b[0;34m(\u001b[0m\u001b[0;34m)\u001b[0m\u001b[0;34m\u001b[0m\u001b[0;34m\u001b[0m\u001b[0m\n\u001b[0;32m----> 2\u001b[0;31m \u001b[0mdata\u001b[0m \u001b[0;34m=\u001b[0m \u001b[0mspark\u001b[0m\u001b[0;34m.\u001b[0m\u001b[0mread\u001b[0m\u001b[0;34m.\u001b[0m\u001b[0mcsv\u001b[0m\u001b[0;34m(\u001b[0m\u001b[0;34m\"processed_TestData2500_df.csv\"\u001b[0m\u001b[0;34m,\u001b[0m\u001b[0minferSchema\u001b[0m\u001b[0;34m=\u001b[0m\u001b[0;32mTrue\u001b[0m\u001b[0;34m,\u001b[0m\u001b[0mheader\u001b[0m\u001b[0;34m=\u001b[0m\u001b[0;32mTrue\u001b[0m\u001b[0;34m,\u001b[0m\u001b[0msep\u001b[0m\u001b[0;34m=\u001b[0m\u001b[0;34m','\u001b[0m\u001b[0;34m)\u001b[0m\u001b[0;34m\u001b[0m\u001b[0;34m\u001b[0m\u001b[0m\n\u001b[0m\u001b[1;32m      3\u001b[0m \u001b[0;34m\u001b[0m\u001b[0m\n",
      "\u001b[0;32m~/anaconda3/lib/python3.7/site-packages/pyspark/sql/readwriter.py\u001b[0m in \u001b[0;36mcsv\u001b[0;34m(self, path, schema, sep, encoding, quote, escape, comment, header, inferSchema, ignoreLeadingWhiteSpace, ignoreTrailingWhiteSpace, nullValue, nanValue, positiveInf, negativeInf, dateFormat, timestampFormat, maxColumns, maxCharsPerColumn, maxMalformedLogPerPartition, mode, columnNameOfCorruptRecord, multiLine, charToEscapeQuoteEscaping, samplingRatio, enforceSchema, emptyValue)\u001b[0m\n\u001b[1;32m    474\u001b[0m             \u001b[0mpath\u001b[0m \u001b[0;34m=\u001b[0m \u001b[0;34m[\u001b[0m\u001b[0mpath\u001b[0m\u001b[0;34m]\u001b[0m\u001b[0;34m\u001b[0m\u001b[0;34m\u001b[0m\u001b[0m\n\u001b[1;32m    475\u001b[0m         \u001b[0;32mif\u001b[0m \u001b[0mtype\u001b[0m\u001b[0;34m(\u001b[0m\u001b[0mpath\u001b[0m\u001b[0;34m)\u001b[0m \u001b[0;34m==\u001b[0m \u001b[0mlist\u001b[0m\u001b[0;34m:\u001b[0m\u001b[0;34m\u001b[0m\u001b[0;34m\u001b[0m\u001b[0m\n\u001b[0;32m--> 476\u001b[0;31m             \u001b[0;32mreturn\u001b[0m \u001b[0mself\u001b[0m\u001b[0;34m.\u001b[0m\u001b[0m_df\u001b[0m\u001b[0;34m(\u001b[0m\u001b[0mself\u001b[0m\u001b[0;34m.\u001b[0m\u001b[0m_jreader\u001b[0m\u001b[0;34m.\u001b[0m\u001b[0mcsv\u001b[0m\u001b[0;34m(\u001b[0m\u001b[0mself\u001b[0m\u001b[0;34m.\u001b[0m\u001b[0m_spark\u001b[0m\u001b[0;34m.\u001b[0m\u001b[0m_sc\u001b[0m\u001b[0;34m.\u001b[0m\u001b[0m_jvm\u001b[0m\u001b[0;34m.\u001b[0m\u001b[0mPythonUtils\u001b[0m\u001b[0;34m.\u001b[0m\u001b[0mtoSeq\u001b[0m\u001b[0;34m(\u001b[0m\u001b[0mpath\u001b[0m\u001b[0;34m)\u001b[0m\u001b[0;34m)\u001b[0m\u001b[0;34m)\u001b[0m\u001b[0;34m\u001b[0m\u001b[0;34m\u001b[0m\u001b[0m\n\u001b[0m\u001b[1;32m    477\u001b[0m         \u001b[0;32melif\u001b[0m \u001b[0misinstance\u001b[0m\u001b[0;34m(\u001b[0m\u001b[0mpath\u001b[0m\u001b[0;34m,\u001b[0m \u001b[0mRDD\u001b[0m\u001b[0;34m)\u001b[0m\u001b[0;34m:\u001b[0m\u001b[0;34m\u001b[0m\u001b[0;34m\u001b[0m\u001b[0m\n\u001b[1;32m    478\u001b[0m             \u001b[0;32mdef\u001b[0m \u001b[0mfunc\u001b[0m\u001b[0;34m(\u001b[0m\u001b[0miterator\u001b[0m\u001b[0;34m)\u001b[0m\u001b[0;34m:\u001b[0m\u001b[0;34m\u001b[0m\u001b[0;34m\u001b[0m\u001b[0m\n",
      "\u001b[0;32m~/anaconda3/lib/python3.7/site-packages/py4j/java_gateway.py\u001b[0m in \u001b[0;36m__call__\u001b[0;34m(self, *args)\u001b[0m\n\u001b[1;32m   1255\u001b[0m         \u001b[0manswer\u001b[0m \u001b[0;34m=\u001b[0m \u001b[0mself\u001b[0m\u001b[0;34m.\u001b[0m\u001b[0mgateway_client\u001b[0m\u001b[0;34m.\u001b[0m\u001b[0msend_command\u001b[0m\u001b[0;34m(\u001b[0m\u001b[0mcommand\u001b[0m\u001b[0;34m)\u001b[0m\u001b[0;34m\u001b[0m\u001b[0;34m\u001b[0m\u001b[0m\n\u001b[1;32m   1256\u001b[0m         return_value = get_return_value(\n\u001b[0;32m-> 1257\u001b[0;31m             answer, self.gateway_client, self.target_id, self.name)\n\u001b[0m\u001b[1;32m   1258\u001b[0m \u001b[0;34m\u001b[0m\u001b[0m\n\u001b[1;32m   1259\u001b[0m         \u001b[0;32mfor\u001b[0m \u001b[0mtemp_arg\u001b[0m \u001b[0;32min\u001b[0m \u001b[0mtemp_args\u001b[0m\u001b[0;34m:\u001b[0m\u001b[0;34m\u001b[0m\u001b[0;34m\u001b[0m\u001b[0m\n",
      "\u001b[0;32m~/anaconda3/lib/python3.7/site-packages/pyspark/sql/utils.py\u001b[0m in \u001b[0;36mdeco\u001b[0;34m(*a, **kw)\u001b[0m\n\u001b[1;32m     67\u001b[0m                                              e.java_exception.getStackTrace()))\n\u001b[1;32m     68\u001b[0m             \u001b[0;32mif\u001b[0m \u001b[0ms\u001b[0m\u001b[0;34m.\u001b[0m\u001b[0mstartswith\u001b[0m\u001b[0;34m(\u001b[0m\u001b[0;34m'org.apache.spark.sql.AnalysisException: '\u001b[0m\u001b[0;34m)\u001b[0m\u001b[0;34m:\u001b[0m\u001b[0;34m\u001b[0m\u001b[0;34m\u001b[0m\u001b[0m\n\u001b[0;32m---> 69\u001b[0;31m                 \u001b[0;32mraise\u001b[0m \u001b[0mAnalysisException\u001b[0m\u001b[0;34m(\u001b[0m\u001b[0ms\u001b[0m\u001b[0;34m.\u001b[0m\u001b[0msplit\u001b[0m\u001b[0;34m(\u001b[0m\u001b[0;34m': '\u001b[0m\u001b[0;34m,\u001b[0m \u001b[0;36m1\u001b[0m\u001b[0;34m)\u001b[0m\u001b[0;34m[\u001b[0m\u001b[0;36m1\u001b[0m\u001b[0;34m]\u001b[0m\u001b[0;34m,\u001b[0m \u001b[0mstackTrace\u001b[0m\u001b[0;34m)\u001b[0m\u001b[0;34m\u001b[0m\u001b[0;34m\u001b[0m\u001b[0m\n\u001b[0m\u001b[1;32m     70\u001b[0m             \u001b[0;32mif\u001b[0m \u001b[0ms\u001b[0m\u001b[0;34m.\u001b[0m\u001b[0mstartswith\u001b[0m\u001b[0;34m(\u001b[0m\u001b[0;34m'org.apache.spark.sql.catalyst.analysis'\u001b[0m\u001b[0;34m)\u001b[0m\u001b[0;34m:\u001b[0m\u001b[0;34m\u001b[0m\u001b[0;34m\u001b[0m\u001b[0m\n\u001b[1;32m     71\u001b[0m                 \u001b[0;32mraise\u001b[0m \u001b[0mAnalysisException\u001b[0m\u001b[0;34m(\u001b[0m\u001b[0ms\u001b[0m\u001b[0;34m.\u001b[0m\u001b[0msplit\u001b[0m\u001b[0;34m(\u001b[0m\u001b[0;34m': '\u001b[0m\u001b[0;34m,\u001b[0m \u001b[0;36m1\u001b[0m\u001b[0;34m)\u001b[0m\u001b[0;34m[\u001b[0m\u001b[0;36m1\u001b[0m\u001b[0;34m]\u001b[0m\u001b[0;34m,\u001b[0m \u001b[0mstackTrace\u001b[0m\u001b[0;34m)\u001b[0m\u001b[0;34m\u001b[0m\u001b[0;34m\u001b[0m\u001b[0m\n",
      "\u001b[0;31mAnalysisException\u001b[0m: 'Path does not exist: file:/mnt/hgfs/Google Drive/Colab Notebooks/Duplicated Bug Report Detection/processed_TestData2500_df.csv;'"
     ],
     "ename": "AnalysisException",
     "evalue": "'Path does not exist: file:/mnt/hgfs/Google Drive/Colab Notebooks/Duplicated Bug Report Detection/processed_TestData2500_df.csv;'",
     "output_type": "error"
    }
   ],
   "source": [
    "spark = SparkSession.builder.appName('nlp').getOrCreate()\n",
    "data = spark.read.csv(\"processed_TestData2500_df.csv\",inferSchema=True,header=True,sep=',')"
   ]
  },
  {
   "cell_type": "code",
   "execution_count": null,
   "metadata": {
    "pycharm": {
     "is_executing": false
    }
   },
   "outputs": [],
   "source": [
    "from pyspark.ml.feature import Tokenizer,StopWordsRemover, CountVectorizer,IDF,StringIndexer\n",
    "\n",
    "tokenizer = Tokenizer(inputCol=\"short_desc_processed\", outputCol=\"token_short_desc_processed\")\n",
    "count_vec = CountVectorizer(inputCol='token_short_desc_processed',outputCol='c_vec')\n",
    "idf = IDF(inputCol=\"c_vec\", outputCol=\"tf_idf\")"
   ]
  },
  {
   "cell_type": "markdown",
   "metadata": {},
   "source": [
    "### Pipeline"
   ]
  },
  {
   "cell_type": "code",
   "execution_count": null,
   "metadata": {
    "pycharm": {
     "is_executing": false
    }
   },
   "outputs": [],
   "source": [
    "from pyspark.ml import Pipeline"
   ]
  },
  {
   "cell_type": "code",
   "execution_count": null,
   "metadata": {
    "pycharm": {
     "is_executing": false
    }
   },
   "outputs": [],
   "source": [
    "data_prep_pipe = Pipeline(stages=[tokenizer,count_vec,idf])\n",
    "cleaner = data_prep_pipe.fit(data)\n",
    "clean_data = cleaner.transform(data)\n",
    "clean_data = clean_data.select(['id','product','tf_idf'])\n",
    "tfidf = clean_data.select(['tf_idf'])"
   ]
  },
  {
   "cell_type": "code",
   "execution_count": null,
   "metadata": {
    "pycharm": {
     "is_executing": false
    }
   },
   "outputs": [],
   "source": [
    "clean_data.show()"
   ]
  },
  {
   "cell_type": "code",
   "execution_count": null,
   "metadata": {
    "pycharm": {
     "is_executing": false
    }
   },
   "outputs": [],
   "source": [
    "# X_train = data.collect()\n",
    "# vectorizer = TfidfVectorizer()\n",
    "# tfidf = vectorizer.fit_transform(X_train)\n",
    "# # tfidf_cosine_similarities = linear_kernel(tfidf)\n",
    "# # shape_tfidf = tfidf_cosine_similarities.shape[0]"
   ]
  },
  {
   "cell_type": "markdown",
   "metadata": {},
   "source": [
    "## UDF"
   ]
  },
  {
   "cell_type": "code",
   "execution_count": null,
   "metadata": {
    "pycharm": {
     "is_executing": false
    }
   },
   "outputs": [],
   "source": [
    "# Model-2: Similarity Score - TF-idf ----------------------------------------------------------------------------\n",
    "from sklearn.feature_extraction.text import TfidfVectorizer\n",
    "from sklearn.metrics.pairwise import linear_kernel\n",
    "\n",
    "tfidf_cosine_similarities = []\n",
    "execution_count_tfidf = 0\n",
    "\n",
    "def tfidf_preprocess_pyspark(id,df):\n",
    "    X_train = df['short_desc_processed']\n",
    "    print('TF-idf Vectorization and similarity score computation')\n",
    "    # Vectorization\n",
    "    vectorizer = TfidfVectorizer()\n",
    "    tfidf = vectorizer.fit_transform(X_train)\n",
    "    # Calculate the cosine similarity score\n",
    "    tfidf_cosine_similarities = linear_kernel(tfidf)\n",
    "    print('TF-idf preprocess done')\n",
    "    \n",
    "    index_main   = df.loc[lambda df: df['id'] == id].index.array[0]\n",
    "    product_main = df.loc[lambda df: df['id'] == id,'product'].array[0]\n",
    "    tfidf_cosine_similarities_list = []\n",
    "    for index_other in range(shape_tfidf):\n",
    "        id_other      = df.iloc[index_other]['id']\n",
    "        product_other = df.iloc[index_other]['product']\n",
    "        if product_main == product_other:\n",
    "            tfidf_cosine_similarities_list.append([id_other,tfidf_cosine_similarities[index_main,index_other]])\n",
    "    #Conver to dataframe\n",
    "    tfidf_cosine_similarities_score_df = pd.DataFrame(tfidf_cosine_similarities_list, columns=['id','tfidf_score'])\n",
    "    tfidf_cosine_similarities_score_df = tfidf_cosine_similarities_score_df.reset_index(drop=True)\n",
    "    return tfidf_cosine_similarities_score_df"
   ]
  },
  {
   "cell_type": "code",
   "execution_count": null,
   "metadata": {
    "pycharm": {
     "is_executing": false
    }
   },
   "outputs": [],
   "source": [
    "from pyspark.sql.functions import udf, struct, col\n",
    "from pyspark.sql.types import * \n",
    "import pyspark.sql.functions as func"
   ]
  },
  {
   "cell_type": "code",
   "execution_count": null,
   "metadata": {
    "pycharm": {
     "is_executing": false
    }
   },
   "outputs": [],
   "source": [
    "schema = StructType([\n",
    "    StructField(\"id\", IntegerType(), False),\n",
    "    StructField(\"tfidf_score\", IntegerType(), False)\n",
    "])"
   ]
  },
  {
   "cell_type": "code",
   "execution_count": null,
   "metadata": {
    "pycharm": {
     "is_executing": false
    }
   },
   "outputs": [],
   "source": [
    "tfidf_preprocess_udf = udf(lambda z: tfidf_preprocess_pyspark(id, df), schema)"
   ]
  },
  {
   "cell_type": "code",
   "execution_count": null,
   "metadata": {
    "pycharm": {
     "is_executing": false
    }
   },
   "outputs": [],
   "source": [
    "df_new = df.select('id', tfidf_preprocess_udf(2,processed_data_df))\n",
    "df_new.show()"
   ]
  },
  {
   "cell_type": "code",
   "execution_count": null,
   "metadata": {
    "pycharm": {
     "is_executing": false
    }
   },
   "outputs": [],
   "source": []
  },
  {
   "cell_type": "code",
   "execution_count": null,
   "metadata": {
    "pycharm": {
     "is_executing": false
    }
   },
   "outputs": [],
   "source": []
  },
  {
   "cell_type": "code",
   "execution_count": null,
   "metadata": {
    "pycharm": {
     "is_executing": false
    }
   },
   "outputs": [],
   "source": []
  },
  {
   "cell_type": "code",
   "execution_count": null,
   "metadata": {
    "pycharm": {
     "is_executing": false
    }
   },
   "outputs": [],
   "source": []
  },
  {
   "cell_type": "code",
   "execution_count": null,
   "metadata": {
    "pycharm": {
     "is_executing": false
    }
   },
   "outputs": [],
   "source": []
  },
  {
   "cell_type": "code",
   "execution_count": null,
   "metadata": {
    "pycharm": {
     "is_executing": false
    }
   },
   "outputs": [],
   "source": []
  },
  {
   "cell_type": "code",
   "execution_count": null,
   "metadata": {
    "pycharm": {
     "is_executing": false
    }
   },
   "outputs": [],
   "source": []
  },
  {
   "cell_type": "code",
   "execution_count": null,
   "metadata": {
    "pycharm": {
     "is_executing": false
    }
   },
   "outputs": [],
   "source": []
  },
  {
   "cell_type": "code",
   "execution_count": null,
   "metadata": {
    "pycharm": {
     "is_executing": false
    }
   },
   "outputs": [],
   "source": []
  },
  {
   "cell_type": "code",
   "execution_count": null,
   "metadata": {
    "pycharm": {
     "is_executing": false
    }
   },
   "outputs": [],
   "source": []
  },
  {
   "cell_type": "code",
   "execution_count": null,
   "metadata": {
    "pycharm": {
     "is_executing": false
    }
   },
   "outputs": [],
   "source": []
  },
  {
   "cell_type": "code",
   "execution_count": null,
   "metadata": {
    "pycharm": {
     "is_executing": false
    }
   },
   "outputs": [],
   "source": []
  }
 ],
 "metadata": {
  "colab": {
   "collapsed_sections": [],
   "name": "Duplicate_BugReport_V7.ipynb",
   "provenance": []
  },
  "kernelspec": {
   "display_name": "Python 3",
   "language": "python",
   "name": "python3"
  },
  "language_info": {
   "codemirror_mode": {
    "name": "ipython",
    "version": 3
   },
   "file_extension": ".py",
   "mimetype": "text/x-python",
   "name": "python",
   "nbconvert_exporter": "python",
   "pygments_lexer": "ipython3",
   "version": "3.7.4"
  },
  "pycharm": {
   "stem_cell": {
    "cell_type": "raw",
    "source": [],
    "metadata": {
     "collapsed": false
    }
   }
  }
 },
 "nbformat": 4,
 "nbformat_minor": 1
}